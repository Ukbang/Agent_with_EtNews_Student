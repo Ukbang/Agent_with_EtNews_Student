{
 "cells": [
  {
   "cell_type": "code",
   "execution_count": 1,
   "metadata": {},
   "outputs": [
    {
     "name": "stderr",
     "output_type": "stream",
     "text": [
      "c:\\anaconda3\\envs\\Modulabs\\lib\\site-packages\\tqdm\\auto.py:21: TqdmWarning: IProgress not found. Please update jupyter and ipywidgets. See https://ipywidgets.readthedocs.io/en/stable/user_install.html\n",
      "  from .autonotebook import tqdm as notebook_tqdm\n"
     ]
    },
    {
     "data": {
      "text/plain": [
       "True"
      ]
     },
     "execution_count": 1,
     "metadata": {},
     "output_type": "execute_result"
    }
   ],
   "source": [
    "from langchain_openai import ChatOpenAI, OpenAIEmbeddings\n",
    "from langchain.text_splitter import RecursiveCharacterTextSplitter\n",
    "from langchain_community.vectorstores import FAISS\n",
    "from langchain.document_loaders import PyPDFLoader\n",
    "from langchain_core.prompts import ChatPromptTemplate\n",
    "from langchain.schema.runnable import RunnablePassthrough, RunnableLambda\n",
    "from langchain.retrievers import ContextualCompressionRetriever\n",
    "from langchain.retrievers.document_compressors import LLMChainExtractor\n",
    "from sentence_transformers import CrossEncoder\n",
    "import dotenv\n",
    "import os\n",
    "\n",
    "dotenv.load_dotenv()"
   ]
  },
  {
   "cell_type": "markdown",
   "metadata": {},
   "source": [
    "### 2-1. 문서 전처리"
   ]
  },
  {
   "cell_type": "code",
   "execution_count": 2,
   "metadata": {},
   "outputs": [],
   "source": [
    "llm = ChatOpenAI(model=\"gpt-4o-mini\",\n",
    "                 temperature=0.,)\n",
    "\n",
    "embeddings = OpenAIEmbeddings()"
   ]
  },
  {
   "cell_type": "code",
   "execution_count": null,
   "metadata": {},
   "outputs": [],
   "source": [
    "path = \"./rules/\"\n",
    "filename = os.listdir(path)"
   ]
  },
  {
   "cell_type": "code",
   "execution_count": 4,
   "metadata": {},
   "outputs": [],
   "source": [
    "# PDF 로더 생성\n",
    "\n",
    "hr_loader = PyPDFLoader(path+filename[0])\n",
    "security_loader = PyPDFLoader(path+filename[1])\n",
    "onboard_loader = PyPDFLoader(path+filename[2])\n",
    "tools_loader = PyPDFLoader(path+filename[3])\n",
    "culture_loader = PyPDFLoader(path+filename[4])"
   ]
  },
  {
   "cell_type": "code",
   "execution_count": 5,
   "metadata": {},
   "outputs": [],
   "source": [
    "# 텍스트 스플리터 생성\n",
    "\n",
    "splitter = RecursiveCharacterTextSplitter(chunk_size=100, \n",
    "                                          chunk_overlap=0,\n",
    "                                          separators=[\"\\n\\n\"])"
   ]
  },
  {
   "cell_type": "code",
   "execution_count": 6,
   "metadata": {},
   "outputs": [],
   "source": [
    "# 문서 전처리 함수 생성\n",
    "\n",
    "def cleaning_docs(docs):\n",
    "    docs = docs.load()\n",
    "    lens = None\n",
    "    for idx, doc in enumerate(docs):\n",
    "        corpus = doc.page_content.replace(\"\\xa0\", \"\").replace(\"  \", \" \").split(\"\\n\")\n",
    "        if lens is None:\n",
    "            lens = []\n",
    "            for sentence in corpus:\n",
    "                lens.append(len(sentence))\n",
    "            length = sorted(lens)[len(lens)//2]\n",
    "        else:\n",
    "            pass\n",
    "\n",
    "        cleaning_corpus = []\n",
    "        for sentence in corpus[:-2]:\n",
    "            if len(sentence) >= length:\n",
    "                cleaning_corpus.append(sentence)\n",
    "            else:\n",
    "                cleaning_corpus.append(sentence+\"\\n\\n\")   \n",
    "        docs[idx].page_content = \"\".join(cleaning_corpus)\n",
    "\n",
    "    return docs"
   ]
  },
  {
   "cell_type": "code",
   "execution_count": 7,
   "metadata": {},
   "outputs": [],
   "source": [
    "# 문서 전처리\n",
    "\n",
    "hr_docs = cleaning_docs(hr_loader)\n",
    "security_docs = cleaning_docs(security_loader)\n",
    "onboard_docs = cleaning_docs(onboard_loader)\n",
    "tools_docs = cleaning_docs(tools_loader)\n",
    "culture_docs = cleaning_docs(culture_loader)"
   ]
  },
  {
   "cell_type": "code",
   "execution_count": 8,
   "metadata": {},
   "outputs": [],
   "source": [
    "# 텍스트 스플리터를 이용한 문서 분할\n",
    "\n",
    "hr_docs = splitter.split_documents(hr_docs)\n",
    "security_docs = splitter.split_documents(security_docs)\n",
    "onboard_docs = splitter.split_documents(onboard_docs)\n",
    "tools_docs = splitter.split_documents(tools_docs)\n",
    "culture_docs = splitter.split_documents(culture_docs)"
   ]
  },
  {
   "cell_type": "code",
   "execution_count": 9,
   "metadata": {},
   "outputs": [],
   "source": [
    "# 문서 병합\n",
    "\n",
    "total_docs = hr_docs+security_docs+onboard_docs+tools_docs+culture_docs"
   ]
  },
  {
   "cell_type": "code",
   "execution_count": 10,
   "metadata": {},
   "outputs": [],
   "source": [
    "# 벡터스토어 생성\n",
    "\n",
    "vector_store = FAISS.from_documents(embedding=embeddings, documents=total_docs)"
   ]
  },
  {
   "cell_type": "code",
   "execution_count": 11,
   "metadata": {},
   "outputs": [],
   "source": [
    "# LLM 기반 Reranker\n",
    "\n",
    "retriever = vector_store.as_retriever()\n",
    "compressor = LLMChainExtractor.from_llm(llm)"
   ]
  },
  {
   "cell_type": "code",
   "execution_count": 12,
   "metadata": {},
   "outputs": [],
   "source": [
    "reranked_retriever = ContextualCompressionRetriever(\n",
    "    base_retriever=retriever,\n",
    "    base_compressor=compressor\n",
    ")"
   ]
  },
  {
   "cell_type": "code",
   "execution_count": 13,
   "metadata": {},
   "outputs": [],
   "source": [
    "query = '연차는 몇일 사용할 수 있나요?'"
   ]
  },
  {
   "cell_type": "code",
   "execution_count": 14,
   "metadata": {},
   "outputs": [],
   "source": [
    "docs = reranked_retriever.invoke(query)"
   ]
  },
  {
   "cell_type": "code",
   "execution_count": 15,
   "metadata": {},
   "outputs": [
    {
     "data": {
      "text/plain": [
       "[Document(metadata={'producer': 'Skia/PDF m134', 'creator': 'Mozilla/5.0 (X11; Linux x86_64) AppleWebKit/537.36 (KHTML, like Gecko) HeadlessChrome/134.0.0.0 Safari/537.36', 'creationdate': '2025-06-20T10:32:30+00:00', 'title': '1. 인사 운영 메뉴얼', 'moddate': '2025-06-20T10:32:30+00:00', 'source': './files/rules/1._인사_운영_메뉴얼.pdf', 'total_pages': 5, 'page': 1, 'page_label': '2'}, page_content='연차휴가 : 법정 연차휴가 (1 년 15 일 , 이후 근속연수에 따라 가산 ) 를 부여합니다 . 연차는 별도의 승인 없이 자유롭게 사용 가능합니다 .')]"
      ]
     },
     "execution_count": 15,
     "metadata": {},
     "output_type": "execute_result"
    }
   ],
   "source": [
    "docs"
   ]
  },
  {
   "cell_type": "code",
   "execution_count": 16,
   "metadata": {},
   "outputs": [],
   "source": [
    "prompt = ChatPromptTemplate([\n",
    "    (\"system\", \"당신은 회사 내규 챗봇입니다. 사용자 정보와 회사 내규 문서가 주어집니다. 그것을 통해 사용자의 행동을 제시하세요.\\n\"\n",
    "               \"---\"\n",
    "               \"문서 : {context}\\n\\n\"\n",
    "               \"문서에서 응답을 찾을 수 없는 경우 '문서에서 응답을 찾을 수 없습니다.' 라고 답변하세요.\"), \n",
    "    (\"user\", \"{query}\")\n",
    "\n",
    "])"
   ]
  },
  {
   "cell_type": "code",
   "execution_count": 17,
   "metadata": {},
   "outputs": [],
   "source": [
    "def format_docs(docs):\n",
    "\n",
    "    return \"\\n\\n\".join(doc.page_content for doc in docs)"
   ]
  },
  {
   "cell_type": "code",
   "execution_count": 18,
   "metadata": {},
   "outputs": [],
   "source": [
    "chain = {\n",
    "    \"context\": reranked_retriever | RunnableLambda(format_docs),\n",
    "    \"query\": RunnablePassthrough()\n",
    "} | prompt | llm"
   ]
  },
  {
   "cell_type": "code",
   "execution_count": 29,
   "metadata": {},
   "outputs": [],
   "source": [
    "query = \"어떤 복지가 있나요?\""
   ]
  },
  {
   "cell_type": "code",
   "execution_count": 30,
   "metadata": {},
   "outputs": [],
   "source": [
    "result = chain.invoke(query)"
   ]
  },
  {
   "cell_type": "code",
   "execution_count": 31,
   "metadata": {},
   "outputs": [
    {
     "name": "stdout",
     "output_type": "stream",
     "text": [
      "회사는 다음과 같은 복지 제도를 운영하고 있습니다: \n",
      "\n",
      "- 점심 식대 지원\n",
      "- 간식 · 커피 무제한 제공\n",
      "- 의료검진 지원\n",
      "- 자기계발비 또는 도서구입비 지원\n",
      "- 사내 동호회 지원\n",
      "\n",
      "이러한 제도를 통해 직원들의 업무 만족도와 복지를 높이고 있습니다.\n"
     ]
    }
   ],
   "source": [
    "print(result.content)"
   ]
  },
  {
   "cell_type": "code",
   "execution_count": 26,
   "metadata": {},
   "outputs": [],
   "source": [
    "query = \"원격근무는 언제 할 수 있나요?\""
   ]
  },
  {
   "cell_type": "code",
   "execution_count": 27,
   "metadata": {},
   "outputs": [],
   "source": [
    "result = chain.invoke(query)"
   ]
  },
  {
   "cell_type": "code",
   "execution_count": 28,
   "metadata": {},
   "outputs": [
    {
     "name": "stdout",
     "output_type": "stream",
     "text": [
      "원격근무는 주 2회까지 허용됩니다. 이를 통해 업무 효율과 워라밸을 지원합니다.\n"
     ]
    }
   ],
   "source": [
    "print(result.content)"
   ]
  },
  {
   "cell_type": "code",
   "execution_count": 32,
   "metadata": {},
   "outputs": [
    {
     "name": "stdout",
     "output_type": "stream",
     "text": [
      "퇴사를 계획하고 계신다면, 다음 단계를 따라 주시기 바랍니다:\n",
      "\n",
      "1. 최소 4주 이전에 퇴사 의사를 통보하는 것이 좋습니다. 이는 인수인계를 고려한 권장 사항입니다.\n",
      "2. 퇴사 신청은 퇴직 의사 확인서를 제출하여 공식화해야 합니다.\n",
      "3. 팀 리더 및 HR과 면담을 진행해야 합니다.\n",
      "\n",
      "이 과정을 통해 퇴사를 원활하게 진행할 수 있습니다.\n"
     ]
    }
   ],
   "source": [
    "query = \"퇴사를 계획중인데 어떻게 하면 되나요?\"\n",
    "result = chain.invoke(query)\n",
    "print(result.content)"
   ]
  },
  {
   "cell_type": "markdown",
   "metadata": {},
   "source": [
    "### 2-3. 점수 기반 Reranker"
   ]
  },
  {
   "cell_type": "code",
   "execution_count": 33,
   "metadata": {},
   "outputs": [],
   "source": [
    "# 점수 기반 Reranker\n",
    "model = CrossEncoder(\"BAAI/bge-reranker-base\") "
   ]
  },
  {
   "cell_type": "code",
   "execution_count": 34,
   "metadata": {},
   "outputs": [],
   "source": [
    "def rerank(docs, top_n=5):\n",
    "    pairs = [[query, doc.page_content] for doc in docs]\n",
    "    scores = model.predict(pairs)\n",
    "    reranked = sorted(zip(scores, docs), key=lambda x: x[0], reverse=True)\n",
    "    result = [doc.page_content+f\",  Score : {score}\" for score, doc in reranked[:top_n]]\n",
    "    return \"\\n\".join(result)"
   ]
  },
  {
   "cell_type": "code",
   "execution_count": 35,
   "metadata": {},
   "outputs": [],
   "source": [
    "query = \"어떤 복지가 있나요?\""
   ]
  },
  {
   "cell_type": "code",
   "execution_count": 36,
   "metadata": {},
   "outputs": [],
   "source": [
    "docs = retriever.invoke(query)"
   ]
  },
  {
   "cell_type": "code",
   "execution_count": 37,
   "metadata": {},
   "outputs": [],
   "source": [
    "result = rerank(docs)"
   ]
  },
  {
   "cell_type": "code",
   "execution_count": 38,
   "metadata": {},
   "outputs": [
    {
     "name": "stdout",
     "output_type": "stream",
     "text": [
      "급여 및 복리후생,  Score : 0.20158988237380981\n",
      "위반 시 제재,  Score : 0.0006767080631107092\n",
      "\n",
      "\n",
      "복지 제도 : 직원들의 업무 만족도와 복지를 위해 다음과 같은 제도를 운영합니다 : 점심 식대 지원 , 간식 · 커피 무제한 제공 , 의료검진 지원 , 자기계발비 또는 도서구입비 지원 , 사내 동호회 지원 등 . 스타트업 규모상 대기업만큼 풍부하지는 않지만 , 구성원의 업무 몰입과 성장에 도움이 되는 실용적인 복지를 추구합니다 .,  Score : 3.9664035284658894e-05\n",
      "사이버 사고 대응,  Score : 3.7433277611853555e-05\n"
     ]
    }
   ],
   "source": [
    "print(result)"
   ]
  },
  {
   "cell_type": "code",
   "execution_count": 39,
   "metadata": {},
   "outputs": [
    {
     "name": "stdout",
     "output_type": "stream",
     "text": [
      "\n",
      "\n",
      "근무 형태 : 주 40시간제를 기본으로 하되 ,유연근무제를 도입하여 구성원이 자율적으로 근무 시간을 조정할 수 있습니다 . 코어타임 (10 시 ~16 시 ) 에 모두 근무하는 것을 원칙으로 ,  Score : 0.0004394112911541015\n",
      "\n",
      "\n",
      "회의 , 외부 미팅 , 마감 등 모든 일정은 정시에 시작하고 끝내는 것을 기본으로 합니다 .유연근무제라도 합의된 시간에는 모두 온전히 참여해야 합니다 .약속을 어기게 될 경우 사전에 공유하고 대체 방안을 제시합니다 .규칙 2 . 호칭은 가볍게 , 태도는 진지하게 . ,  Score : 0.0001573135086800903\n",
      "입사 첫 날,  Score : 3.7460595194716007e-05\n",
      "하며 , 그 외 시간은 개인 일정에 맞게 조절 가능합니다 . 원격근무는 주 2 회까지 허용하여 업무 효율과 워라밸을 지원합니다 .,  Score : 3.7404621252790093e-05\n"
     ]
    }
   ],
   "source": [
    "query = \"원격근무는 언제 할 수 있나요?\"\n",
    "docs = retriever.invoke(query)\n",
    "result = rerank(docs)\n",
    "print(result)"
   ]
  },
  {
   "cell_type": "code",
   "execution_count": 40,
   "metadata": {},
   "outputs": [
    {
     "name": "stdout",
     "output_type": "stream",
     "text": [
      "퇴직 및 오프보딩,  Score : 0.2138497680425644\n",
      "\n",
      "\n",
      "퇴사 통보 : 직원이 자발적으로 퇴사하고자 할 경우 , 인수인계를 고려하여 최소 4 주 이전에 퇴사 의사를 통보하는 것을 권장합니다 . 퇴사 신청은 퇴직 의사 확인서 제출을 통해 공식화되며 , 팀 리더 및 HR 과 면담을 거칩니다 .,  Score : 0.05010467767715454\n",
      "\n",
      "\n",
      "연차는 자율적으로 사용하는 것이 원칙이며 , 팀 내 사전 공유만 잘 하면 됩니다 .정시 퇴근도 당연한 권리이며 , 휴가 중인 동료에게는 연락을 삼가는 문화를 지향합니다 .“퇴근해 ?ˮ , “ 휴가 좋겠네 ~ˮ 같은 농담도 서로 피합니다 .규칙 7 . 일을 시작할 땐 ‘ 왜 ʼ 부터 물어요 .,  Score : 0.0023380760103464127\n",
      "입사 첫 날,  Score : 0.0012876279652118683\n"
     ]
    }
   ],
   "source": [
    "query = \"퇴사를 계획중인데 어떻게 하면 되나요?\"\n",
    "docs = retriever.invoke(query)\n",
    "result = rerank(docs)\n",
    "print(result)"
   ]
  },
  {
   "cell_type": "code",
   "execution_count": 41,
   "metadata": {},
   "outputs": [],
   "source": [
    "# chain 구성\n",
    "\n",
    "chain = {\n",
    "    \"context\": retriever | RunnableLambda(rerank),\n",
    "    \"query\": RunnablePassthrough()\n",
    "} | prompt | llm"
   ]
  },
  {
   "cell_type": "code",
   "execution_count": 42,
   "metadata": {},
   "outputs": [
    {
     "name": "stdout",
     "output_type": "stream",
     "text": [
      "퇴사를 계획하고 계시다면, 다음 단계를 따라 주시기 바랍니다:\n",
      "\n",
      "1. **퇴사 통보**: 자발적으로 퇴사하고자 할 경우, 인수인계를 고려하여 최소 4주 이전에 퇴사 의사를 통보하는 것이 권장됩니다.\n",
      "\n",
      "2. **퇴사 신청**: 퇴사 의사를 공식화하기 위해 퇴직 의사 확인서를 제출해야 합니다.\n",
      "\n",
      "3. **면담**: 팀 리더 및 HR과 면담을 진행해야 합니다.\n",
      "\n",
      "이 과정을 통해 퇴사를 원활하게 진행할 수 있습니다.\n"
     ]
    }
   ],
   "source": [
    "query = \"퇴사를 계획중인데 어떻게 하면 되나요?\"\n",
    "response = chain.invoke(query)\n",
    "print(response.content)"
   ]
  },
  {
   "cell_type": "code",
   "execution_count": 43,
   "metadata": {},
   "outputs": [
    {
     "name": "stdout",
     "output_type": "stream",
     "text": [
      "원격근무는 주 2회까지 허용됩니다. 업무 효율과 워라밸을 지원하기 위해 원하시는 날에 맞춰 조정하실 수 있습니다.\n"
     ]
    }
   ],
   "source": [
    "query = \"원격근무는 언제 할 수 있나요?\"\n",
    "response = chain.invoke(query)\n",
    "print(response.content)"
   ]
  },
  {
   "cell_type": "code",
   "execution_count": 44,
   "metadata": {},
   "outputs": [
    {
     "name": "stdout",
     "output_type": "stream",
     "text": [
      "회사는 직원들의 업무 만족도와 복지를 위해 다음과 같은 제도를 운영합니다:\n",
      "\n",
      "- 점심 식대 지원\n",
      "- 간식 및 커피 무제한 제공\n",
      "- 의료검진 지원\n",
      "- 자기계발비 또는 도서구입비 지원\n",
      "- 사내 동호회 지원\n",
      "\n",
      "스타트업 규모상 대기업만큼 풍부하지는 않지만, 구성원의 업무 몰입과 성장에 도움이 되는 실용적인 복지를 추구합니다.\n"
     ]
    }
   ],
   "source": [
    "query = \"어떤 복지가 있나요?\"\n",
    "response = chain.invoke(query)\n",
    "print(response.content)"
   ]
  }
 ],
 "metadata": {
  "kernelspec": {
   "display_name": "Modulabs",
   "language": "python",
   "name": "python3"
  },
  "language_info": {
   "codemirror_mode": {
    "name": "ipython",
    "version": 3
   },
   "file_extension": ".py",
   "mimetype": "text/x-python",
   "name": "python",
   "nbconvert_exporter": "python",
   "pygments_lexer": "ipython3",
   "version": "3.10.12"
  }
 },
 "nbformat": 4,
 "nbformat_minor": 2
}
