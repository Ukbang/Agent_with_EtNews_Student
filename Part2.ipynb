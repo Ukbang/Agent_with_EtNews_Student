{
 "cells": [
  {
   "cell_type": "code",
   "execution_count": null,
   "metadata": {},
   "outputs": [],
   "source": [
    "# from langchain_community.document_loaders.csv_loader import CSVLoader\n",
    "import pandas as pd\n",
    "import re\n",
    "from langchain_openai import ChatOpenAI\n",
    "from langchain_core.prompts import ChatPromptTemplate, PromptTemplate\n",
    "from langchain.schema.runnable import RunnablePassthrough, RunnableLambda\n",
    "from langchain_experimental.tools.python.tool import PythonAstREPLTool\n",
    "from markitdown import MarkItDown\n",
    "import dotenv\n",
    "import os\n",
    "\n",
    "dotenv.load_dotenv()"
   ]
  },
  {
   "cell_type": "markdown",
   "metadata": {},
   "source": [
    "### 2-1. 프롬프트로 분석하기"
   ]
  },
  {
   "cell_type": "code",
   "execution_count": null,
   "metadata": {},
   "outputs": [],
   "source": [
    "# csv파일 불러오기\n",
    "\n",
    "df = pd.read_csv(\"./data/titanic.csv\")"
   ]
  },
  {
   "cell_type": "code",
   "execution_count": null,
   "metadata": {},
   "outputs": [],
   "source": [
    "df.head()"
   ]
  },
  {
   "cell_type": "code",
   "execution_count": null,
   "metadata": {},
   "outputs": [],
   "source": [
    "df.info()"
   ]
  },
  {
   "cell_type": "code",
   "execution_count": null,
   "metadata": {},
   "outputs": [],
   "source": [
    "md = MarkItDown()"
   ]
  },
  {
   "cell_type": "code",
   "execution_count": null,
   "metadata": {},
   "outputs": [],
   "source": [
    "convert_df = md.convert(\"./data/titanic.csv\")"
   ]
  },
  {
   "cell_type": "code",
   "execution_count": null,
   "metadata": {},
   "outputs": [],
   "source": [
    "convert_df = convert_df.text_content"
   ]
  },
  {
   "cell_type": "code",
   "execution_count": null,
   "metadata": {},
   "outputs": [],
   "source": [
    "print(convert_df)"
   ]
  },
  {
   "cell_type": "code",
   "execution_count": null,
   "metadata": {},
   "outputs": [],
   "source": [
    "prompt = PromptTemplate.from_template(\n",
    "    \"\"\"\n",
    "    table : {convert}\n",
    "\n",
    "    당신은 데이터 분석 전문가입니다.\n",
    "    주어진 table 데이터를 기반으로 데이터 분석에 도움을 주세요.\n",
    "\n",
    "    query : {query}\n",
    "\n",
    "    \"\"\"\n",
    "    )"
   ]
  },
  {
   "cell_type": "code",
   "execution_count": null,
   "metadata": {},
   "outputs": [],
   "source": [
    "llm = ChatOpenAI(model=\"gpt-4o-mini\",\n",
    "                 temperature=0.,)"
   ]
  },
  {
   "cell_type": "code",
   "execution_count": null,
   "metadata": {},
   "outputs": [],
   "source": [
    "chain = prompt | llm"
   ]
  },
  {
   "cell_type": "code",
   "execution_count": null,
   "metadata": {},
   "outputs": [],
   "source": [
    "query = \"이 데이터에서 2번째 행의 이름은 무엇인가요?\""
   ]
  },
  {
   "cell_type": "code",
   "execution_count": null,
   "metadata": {},
   "outputs": [],
   "source": [
    "result = chain.invoke({\"convert\":convert_df,\n",
    "                       \"query\" : query\n",
    "                       })"
   ]
  },
  {
   "cell_type": "code",
   "execution_count": null,
   "metadata": {},
   "outputs": [],
   "source": [
    "print(result.content)"
   ]
  },
  {
   "cell_type": "code",
   "execution_count": null,
   "metadata": {},
   "outputs": [],
   "source": [
    "result = chain.invoke({\"convert\":convert_df,\n",
    "                       \"query\" : \"이 데이터에서 얻을 수 있는 인사이트는 무엇인가요?\"\n",
    "                       })"
   ]
  },
  {
   "cell_type": "code",
   "execution_count": null,
   "metadata": {},
   "outputs": [],
   "source": [
    "print(result.content)"
   ]
  },
  {
   "cell_type": "code",
   "execution_count": null,
   "metadata": {},
   "outputs": [],
   "source": [
    "result = chain.invoke({\"convert\":df,\n",
    "                       \"query\" : \"이 데이터를 이용한 분석 순서를 추천해주세요. 무엇부터 해야하나요?\"\n",
    "                       })"
   ]
  },
  {
   "cell_type": "code",
   "execution_count": null,
   "metadata": {},
   "outputs": [],
   "source": [
    "print(result.content)"
   ]
  },
  {
   "cell_type": "markdown",
   "metadata": {},
   "source": [
    "### 2-1. 도구 사용"
   ]
  },
  {
   "cell_type": "code",
   "execution_count": null,
   "metadata": {},
   "outputs": [],
   "source": [
    "df2 = pd.read_csv(\"./data/athlete_events.csv\")"
   ]
  },
  {
   "cell_type": "code",
   "execution_count": null,
   "metadata": {},
   "outputs": [],
   "source": [
    "df2.info()"
   ]
  },
  {
   "cell_type": "code",
   "execution_count": null,
   "metadata": {},
   "outputs": [],
   "source": [
    "df2.head()"
   ]
  },
  {
   "cell_type": "code",
   "execution_count": null,
   "metadata": {},
   "outputs": [],
   "source": [
    "prompt = ChatPromptTemplate([\n",
    "    (\"system\", \"\"\"당신은 pandas 라이브러리를 사용할 수 있는 전문가입니다. 주어진 df의 형태를 참고하여 코드를 작성합니다. \\\n",
    "                다음은 `print(df.head())`의 형태입니다. {head}\n",
    "     \n",
    "                ### 예시1\n",
    "                ```python\n",
    "     \n",
    "                len(df)\n",
    "                ```\n",
    "                ### 예시2\n",
    "                ```python\n",
    "     \n",
    "                # sum_gamerounds에 대한 히스토그램\n",
    "                plt.figure(figsize=(12, 6))\n",
    "                sns.histplot(df['sum_gamerounds'], bins=10, kde=True)\n",
    "                plt.title('Distribution of Sum Gamerounds')\n",
    "                plt.xlabel('Sum Gamerounds')\n",
    "                plt.ylabel('Frequency')\n",
    "                plt.grid()\n",
    "                plt.show()\n",
    "                ```\n",
    "     \n",
    "     \"\"\"),\n",
    "    (\"human\", \"{query}\")\n",
    "])"
   ]
  },
  {
   "cell_type": "code",
   "execution_count": null,
   "metadata": {},
   "outputs": [],
   "source": [
    "code_tool = PythonAstREPLTool(name=\"python_repl_ast\", \n",
    "                              description=\"A Python shell. Use this to execute python commands. \\\n",
    "                                           Input should be a valid python command. When using this tool, \\\n",
    "                                           sometimes output is abbreviated - make sure it does not look abbreviated before using it in your answer.\",\n",
    "                               locals={\"df\":df2})"
   ]
  },
  {
   "cell_type": "code",
   "execution_count": null,
   "metadata": {},
   "outputs": [],
   "source": [
    "result = code_tool.invoke(\"for i in range(10): print(i)\")"
   ]
  },
  {
   "cell_type": "code",
   "execution_count": null,
   "metadata": {},
   "outputs": [],
   "source": [
    "def extract_code(content):\n",
    "\n",
    "    content = content.content\n",
    "\n",
    "    return re.findall(r'```python\\n(.*?)\\n```', content, re.DOTALL)[0]"
   ]
  },
  {
   "cell_type": "code",
   "execution_count": null,
   "metadata": {},
   "outputs": [],
   "source": [
    "def checker(answer):\n",
    "\n",
    "    code = extract_code(answer)\n",
    "\n",
    "    code_prompt = PromptTemplate.from_template(\n",
    "        \"\"\"\n",
    "        아래의 코드를 참고하여 답변합니다.\n",
    "        절대 코드에 대해 설명하지 마세요.\n",
    "        독자는 프로그래머가 아닙니다.\n",
    "        항상 출력되는 값을 기준으로 설명합니다.\n",
    "        데이터 분석과 관련된 코드가 입력된다면 항상 인사이트를 포함하세요.\n",
    "        단순한 코드라면 간단하게 대답합니다.\n",
    "\n",
    "        코드 : {code}\n",
    "\n",
    "        \"\"\")\n",
    "    \n",
    "\n",
    "    \n",
    "    code_chain = code_prompt | llm\n",
    "\n",
    "    result = code_tool.invoke(code)\n",
    "\n",
    "    if result == \"\":\n",
    "        pass\n",
    "    else:\n",
    "        print(result)\n",
    "    \n",
    "    response = code_chain.invoke({\"code\":code})\n",
    "    print(response.content)\n",
    "    return response    "
   ]
  },
  {
   "cell_type": "code",
   "execution_count": null,
   "metadata": {},
   "outputs": [],
   "source": [
    "chain = prompt | llm | RunnableLambda(checker)"
   ]
  },
  {
   "cell_type": "code",
   "execution_count": null,
   "metadata": {},
   "outputs": [],
   "source": [
    "result = chain.invoke({\"head\": df2.head(),\n",
    "                       \"query\":\"메달 별 획득 비율은 어때?\"})"
   ]
  },
  {
   "cell_type": "code",
   "execution_count": null,
   "metadata": {},
   "outputs": [],
   "source": [
    "result = chain.invoke({\"head\": df2.head(),\n",
    "                       \"query\":\"출전한 사람은 총 몇명이야?\"})"
   ]
  }
 ],
 "metadata": {
  "kernelspec": {
   "display_name": "Modulabs",
   "language": "python",
   "name": "python3"
  },
  "language_info": {
   "codemirror_mode": {
    "name": "ipython",
    "version": 3
   },
   "file_extension": ".py",
   "mimetype": "text/x-python",
   "name": "python",
   "nbconvert_exporter": "python",
   "pygments_lexer": "ipython3",
   "version": "3.10.12"
  }
 },
 "nbformat": 4,
 "nbformat_minor": 2
}
