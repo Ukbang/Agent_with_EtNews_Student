{
 "cells": [
  {
   "cell_type": "code",
   "execution_count": null,
   "metadata": {},
   "outputs": [],
   "source": [
    "from langchain.schema import AIMessage\n",
    "from typing import Annotated, Literal\n",
    "from typing_extensions import TypedDict\n",
    "from langchain_openai import ChatOpenAI\n",
    "from langgraph.graph import StateGraph, START, END\n",
    "from langgraph.graph.message import add_messages\n",
    "from langgraph.prebuilt import ToolNode\n",
    "from langgraph.checkpoint.memory import MemorySaver\n",
    "from langchain_core.prompts import PromptTemplate\n",
    "from langchain_core.tools import tool\n",
    "from langchain_core.runnables import RunnableConfig\n",
    "from langchain_community.agent_toolkits import FileManagementToolkit\n",
    "from langchain_community.tools.tavily_search import TavilySearchResults\n",
    "from langchain_experimental.tools.python.tool import PythonAstREPLTool\n",
    "from pydantic import BaseModel, Field\n",
    "from fpdf import FPDF\n",
    "import random\n",
    "import pdfplumber\n",
    "import warnings\n",
    "import dotenv\n",
    "\n",
    "warnings.filterwarnings(\"ignore\")\n",
    "dotenv.load_dotenv()"
   ]
  },
  {
   "cell_type": "code",
   "execution_count": null,
   "metadata": {},
   "outputs": [],
   "source": [
    "class State(TypedDict):\n",
    "    # 상태를 정의해주세요.\n",
    "    # query, answer, messages, tool_call을 가지고 있습니다.\n"
   ]
  },
  {
   "cell_type": "code",
   "execution_count": null,
   "metadata": {},
   "outputs": [],
   "source": [
    "llm = # 모델을 호출해주세요."
   ]
  },
  {
   "cell_type": "code",
   "execution_count": null,
   "metadata": {},
   "outputs": [],
   "source": [
    "@tool\n",
    "def read_pdf(file_path: str) -> str:\n",
    "    \"\"\"\n",
    "    PDF 파일에서 텍스트를 추출하는 도구입니다.\n",
    "    표 형식 또는 일반 텍스트가 포함된 PDF를 읽고 문자열로 반환합니다.\n",
    "    \n",
    "    file_path 예시: './reports/report.pdf'\n",
    "    \"\"\"\n",
    "    try:\n",
    "        text = \"\"\n",
    "        with pdfplumber.open(file_path) as pdf:\n",
    "            for page in pdf.pages:\n",
    "                page_text = page.extract_text()\n",
    "                if page_text:\n",
    "                    text += page_text + \"\\n\"\n",
    "        return text.strip() if text.strip() else \"❌ PDF에서 텍스트를 추출할 수 없습니다.\"\n",
    "    except Exception as e:\n",
    "        return f\"❌ PDF 읽기 오류: {str(e)}\""
   ]
  },
  {
   "cell_type": "code",
   "execution_count": null,
   "metadata": {},
   "outputs": [],
   "source": [
    "@tool\n",
    "def write_pdf(content: str, filename: str = \"output.pdf\"):\n",
    "    \"\"\"\n",
    "    텍스트를 PDF 파일로 저장하는 도구입니다.\n",
    "    PDF형태의 문서로 만들어야할 때 이 도구를 사용하세요.\n",
    "    \"\"\"\n",
    "    \n",
    "    pdf = FPDF()\n",
    "    pdf.add_page()\n",
    "    pdf.set_auto_page_break(auto=True, margin=15)\n",
    "\n",
    "    font_path = \"C:\\Windows\\Fonts\\MALGUN.TTF\"  # <-- 여기에 실제 폰트 파일이 있어야 함\n",
    "\n",
    "    try:\n",
    "        pdf.add_font(\"malgun\", \"\", font_path, uni=True)\n",
    "        pdf.set_font(\"malgun\", size=12)\n",
    "    except:\n",
    "        raise ValueError(\"한글 폰트가 존재하지 않습니다.\")\n",
    "    \n",
    "    for line in content.split(\"\\n\"):\n",
    "        pdf.multi_cell(0, 10, line)\n",
    "    pdf.output(f\"./reports/{filename}\")\n",
    "\n",
    "    print(f\"PDF saved as ./reports/{filename}\")\n",
    "\n",
    "    return {\"content\":content, \"filename\":filename}"
   ]
  },
  {
   "cell_type": "code",
   "execution_count": null,
   "metadata": {},
   "outputs": [],
   "source": [
    "# TavilySearchResults : 웹 검색 도구\n",
    "# PythonAstREPLTool : 파이썬 코드 실행 도구\n",
    "# write_pdf : pdf 생성 도구\n",
    "# read_pdf : pdf 읽기 도구\n",
    "# file_delete : 파일 삭제 도구\n",
    "# list_directory : 파일 목록 읽기 도구\n",
    "\n",
    "tools = [TavilySearchResults(include_domains=[\"naver.com\", \"google.com\"]), PythonAstREPLTool(), write_pdf, read_pdf, *FileManagementToolkit(root_dir=\"./reports/\",\n",
    "                                                                            selected_tools=[\"file_delete\",\"list_directory\"]).get_tools()]\n",
    "search_tool, code_tool, write_tool, read_tool, delete_tool, listdir_tool= tools"
   ]
  },
  {
   "cell_type": "code",
   "execution_count": null,
   "metadata": {},
   "outputs": [],
   "source": [
    "llm_with_tools = llm.bind_tools(tools)"
   ]
  },
  {
   "cell_type": "code",
   "execution_count": null,
   "metadata": {},
   "outputs": [],
   "source": [
    "# PDF 쓰기 도구 예시\n",
    "\n",
    "write_tool.invoke({\"content\":\"안녕하세요? \\n세미나에 참석해주셔서 감사합니다.\", \"filename\":\"Write_pdf_test.pdf\", \"summary\":False})"
   ]
  },
  {
   "cell_type": "code",
   "execution_count": null,
   "metadata": {},
   "outputs": [],
   "source": [
    "# PDF 읽기 도구 예시\n",
    "\n",
    "print(\"\\n\\n\", read_tool.invoke(\"./reports/Write_pdf_test.pdf\"))"
   ]
  },
  {
   "cell_type": "code",
   "execution_count": null,
   "metadata": {},
   "outputs": [],
   "source": [
    "# 파일 목록 도구 예시\n",
    "\n",
    "print(listdir_tool.invoke(\"\"))"
   ]
  },
  {
   "cell_type": "code",
   "execution_count": null,
   "metadata": {},
   "outputs": [],
   "source": [
    "# 삭제 도구 예시\n",
    "\n",
    "delete_tool.invoke(\"Write_pdf_test.pdf\")"
   ]
  },
  {
   "cell_type": "code",
   "execution_count": null,
   "metadata": {},
   "outputs": [],
   "source": [
    "llm_with_tools = llm.bind_tools(tools)"
   ]
  },
  {
   "cell_type": "code",
   "execution_count": null,
   "metadata": {},
   "outputs": [],
   "source": [
    "def shorterm_memory(state:State):\n",
    "\n",
    "    history_length = # 히스토리의 길이를 임의로 설정해주세요.\n",
    "\n",
    "    if len(state[\"messages\"]) > history_length:\n",
    "        history = state[\"messages\"][-history_length:-1]\n",
    "    elif len(state[\"messages\"]) == 1:\n",
    "        history = \"\"\n",
    "    else:\n",
    "        history = state[\"messages\"][:-1]\n",
    "\n",
    "    return history"
   ]
  },
  {
   "cell_type": "code",
   "execution_count": null,
   "metadata": {},
   "outputs": [],
   "source": [
    "class HistoryChecker(BaseModel):\n",
    "    \"\"\"\n",
    "    닥스트링을 작성해주세요.\n",
    "    \"\"\"\n",
    "\n",
    "    yes_no : Literal[\"yes\", \"no\"] = Field(..., description=\n",
    "                                          # \"\"\"description을 작성해주세요.\"\"\")"
   ]
  },
  {
   "cell_type": "code",
   "execution_count": null,
   "metadata": {},
   "outputs": [],
   "source": [
    "# history_checker를 정의해주세요.\n",
    "\n",
    "history_checker = #"
   ]
  },
  {
   "cell_type": "code",
   "execution_count": null,
   "metadata": {},
   "outputs": [],
   "source": [
    "def history_check(state:State):\n",
    "    \"\"\"\n",
    "    기억으로 답을 할 수 있는지 체크하는 분기 역할\n",
    "    프롬프트는 history와 query를 입력으로 받습니다.\n",
    "    \"\"\"\n",
    "\n",
    "\n",
    "    prompt = PromptTemplate.from_template(\"\"\"\n",
    "\n",
    "                # 프롬프트를 작성하세요.\n",
    "                                          \n",
    "                \"\"\")\n",
    "    \n",
    "    chain = # 체인을 생성하세요.\n",
    "\n",
    "    history = shorterm_memory(state)\n",
    "\n",
    "    result = # 체인을 실행시키세요.\n",
    "\n",
    "    return result.yes_no"
   ]
  },
  {
   "cell_type": "code",
   "execution_count": null,
   "metadata": {},
   "outputs": [],
   "source": [
    "def memory_chat(state:State):\n",
    "    \"\"\"\n",
    "    history_check의 응답이 \"yes\"일시 도달하는 노드\n",
    "    \"\"\"\n",
    "\n",
    "    prompt = PromptTemplate.from_template(\"\"\"\n",
    "\n",
    "                이전의 대화 기록을 참고하여 질문에 대해 답변하세요.\n",
    "                아래 대화 기록을 첨부합니다.\n",
    "                대화 기록을 통해 답변이 어렵다면 내부 지식을 참조하세요.\n",
    "                \n",
    "                대화 기록 : {history}\n",
    "                                          \n",
    "                질문 : {query}\n",
    "                                          \n",
    "                \"\"\")\n",
    "\n",
    "    \n",
    "    chain = prompt | llm\n",
    "\n",
    "    history = shorterm_memory(state)\n",
    "\n",
    "    answer = chain.invoke({\"history\":history,\n",
    "                           \"query\":state[\"query\"]})\n",
    "    \n",
    "    if len(state[\"tool_call\"]) == 0:\n",
    "        return {\"answer\": # answer의 반환값을 입력해주세요.\n",
    "                \"messages\": # messages의 반환값을 입력해주세요.\n",
    "                \"tool_call\":\"사용된 기록 없음.\"}\n",
    "    else:\n",
    "        return {\"answer\":answer.content,\n",
    "                \"messages\":answer}"
   ]
  },
  {
   "cell_type": "code",
   "execution_count": null,
   "metadata": {},
   "outputs": [],
   "source": [
    "def history_node(state:State):\n",
    "    if len(state[\"messages\"]) == 1:\n",
    "        return {\"answer\":\"답변 없음\",\n",
    "                \"tool_call\":\"사용된 도구 없음\"} \n",
    "    else:\n",
    "        return state"
   ]
  },
  {
   "cell_type": "code",
   "execution_count": null,
   "metadata": {},
   "outputs": [],
   "source": [
    "def select(\n",
    "    state: State,\n",
    "):\n",
    "\n",
    "    prompt = PromptTemplate.from_template(\"\"\"\n",
    "\n",
    "                이전의 대화 기록을 참고하여 질문에 대해 답변하세요.\n",
    "                아래 대화 기록을 첨부합니다.\n",
    "                대화 기록을 통해 답변이 어렵다면 내부 지식을 참조하세요.\n",
    "                최근에 사용한 도구가 있다면 도구도 참고하세요. 다른 도구를 사용하는 것이 더 좋은 방법이 될 수 있습니다.\n",
    "                                                    \n",
    "                대화 기록 : {history}     \n",
    "                                          \n",
    "                최근 사용한 도구 : {tool_name}\n",
    "                                        \n",
    "                정답 : {answer}\n",
    "                                        \n",
    "                질문 : {query}\n",
    "                                          \n",
    "                \"\"\")\n",
    "\n",
    "    chain = prompt | llm_with_tools\n",
    "\n",
    "    history = shorterm_memory(state)\n",
    "\n",
    "    result = chain.invoke({\"history\" : history,\n",
    "                           \"tool_name\" : # 상태의 tool_call을 입력해주세요.,\n",
    "                            \"answer\": # 상태의 answer를 입력해주세요.,\n",
    "                            \"query\": # 상태의 query를 입력해주세요.})\n",
    "\n",
    "    if hasattr(result, \"tool_calls\") and len(result.tool_calls) > 0:\n",
    "        tool_calls = result.tool_calls\n",
    "        return {\"messages\": result,\n",
    "                \"tool_call\": [result]}\n",
    "    else:\n",
    "        return {\"messages\":AIMessage(content=f\"\"\"도구를 선택하지 못했습니다. 적절한 도구를 재선택하세요.\n",
    "                                        \"\"\"),\n",
    "                                    \"tool_call\":None}\n",
    "\n",
    "    "
   ]
  },
  {
   "cell_type": "code",
   "execution_count": null,
   "metadata": {},
   "outputs": [],
   "source": [
    "# 도구 실행 노드 생성\n",
    "\n",
    "tool_node = ToolNode(tools)"
   ]
  },
  {
   "cell_type": "code",
   "execution_count": null,
   "metadata": {},
   "outputs": [],
   "source": [
    "class AnswerChecker(BaseModel):\n",
    "    \"\"\"\n",
    "    닥스트링을 입력해주세요.\n",
    "    \"\"\"\n",
    "\n",
    "\n",
    "    end : Literal[\"end\", \"tool\"] = Field(..., description=\"\"\"\n",
    "                                                        description을 입력하세요.\n",
    "                                                        \"\"\")    "
   ]
  },
  {
   "cell_type": "code",
   "execution_count": null,
   "metadata": {},
   "outputs": [],
   "source": [
    "# answer_checker를 정의해주세요.\n",
    "\n",
    "answer_checker = #"
   ]
  },
  {
   "cell_type": "code",
   "execution_count": null,
   "metadata": {},
   "outputs": [],
   "source": [
    "def answer_check(state:State):\n",
    "\n",
    "    prompt = PromptTemplate.from_template(\"\"\"\n",
    "    당신은 정답 분류기 어시스턴트트입니다.\n",
    "    \n",
    "    정답이 질문을 해결할 수 있는지 여부를 판단합니다.\n",
    "    질문을 해결할 수 없다면 도구를 이용합니다.\n",
    "\n",
    "    질문을 해결할 수 있다면 \"end\", 아니라면 \"tool\"을 반환합니다.\n",
    "                                          \n",
    "    기존 History도 참고하여 답변하세요.\n",
    "                                          \n",
    "    History : {history}\n",
    "                            \n",
    "    정답 : {answer}\n",
    "                            \n",
    "    질문 : {query}\n",
    "    \"\"\")\n",
    "\n",
    "    chain = prompt | answer_checker\n",
    "\n",
    "    history = # 히스토리를 가져오세요.\n",
    "\n",
    "    result = # 체인을 실행시키세요.\n",
    "    \n",
    "    return # 반환값을 설정하세요."
   ]
  },
  {
   "cell_type": "code",
   "execution_count": null,
   "metadata": {},
   "outputs": [],
   "source": [
    "def response(state:State):\n",
    "\n",
    "    return {\"answer\":state[\"messages\"][-1]}"
   ]
  },
  {
   "cell_type": "code",
   "execution_count": null,
   "metadata": {},
   "outputs": [],
   "source": [
    "# graph_builder를 정의하세요.\n",
    "\n",
    "graph_builder = #"
   ]
  },
  {
   "cell_type": "code",
   "execution_count": null,
   "metadata": {},
   "outputs": [],
   "source": [
    "# 노드와 엣지를 구성하세요."
   ]
  },
  {
   "cell_type": "code",
   "execution_count": null,
   "metadata": {},
   "outputs": [],
   "source": [
    "memory = MemorySaver()\n",
    "\n",
    "graph = graph_builder.compile(checkpointer=memory)"
   ]
  },
  {
   "cell_type": "code",
   "execution_count": null,
   "metadata": {},
   "outputs": [],
   "source": [
    "# 랜덤 config 정의 함수\n",
    "\n",
    "def reset_config(limit=15):\n",
    " \n",
    "    thread_id=random.randint(1, 999999)\n",
    "\n",
    "    config = RunnableConfig(recursion_limit=limit, configurable={\"thread_id\": thread_id})\n",
    "\n",
    "    return config"
   ]
  },
  {
   "cell_type": "code",
   "execution_count": null,
   "metadata": {},
   "outputs": [],
   "source": [
    "config = reset_config()"
   ]
  },
  {
   "cell_type": "code",
   "execution_count": null,
   "metadata": {},
   "outputs": [],
   "source": [
    "graph"
   ]
  },
  {
   "cell_type": "code",
   "execution_count": null,
   "metadata": {},
   "outputs": [],
   "source": [
    "# 답변 함수\n",
    "\n",
    "def streaming(query, config):\n",
    "\n",
    "    result = graph.stream({\"messages\":(\"user\", query),\n",
    "                         \"query\":query}, config=config)\n",
    "    for step in result:\n",
    "        for k, v in step.items():\n",
    "            print(f\"\\n\\n=== {k} ===\\n\\n\")\n",
    "            try:\n",
    "                print(v)\n",
    "            except:\n",
    "                pass\n",
    "    \n",
    "    return "
   ]
  },
  {
   "cell_type": "code",
   "execution_count": null,
   "metadata": {},
   "outputs": [],
   "source": [
    "# 자유롭게 에이전트에게 물어보세요."
   ]
  }
 ],
 "metadata": {
  "kernelspec": {
   "display_name": "Modulabs",
   "language": "python",
   "name": "python3"
  },
  "language_info": {
   "codemirror_mode": {
    "name": "ipython",
    "version": 3
   },
   "file_extension": ".py",
   "mimetype": "text/x-python",
   "name": "python",
   "nbconvert_exporter": "python",
   "pygments_lexer": "ipython3",
   "version": "3.10.12"
  }
 },
 "nbformat": 4,
 "nbformat_minor": 2
}
