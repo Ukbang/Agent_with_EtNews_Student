{
 "cells": [
  {
   "cell_type": "code",
   "execution_count": 1,
   "metadata": {},
   "outputs": [
    {
     "data": {
      "text/plain": [
       "True"
      ]
     },
     "execution_count": 1,
     "metadata": {},
     "output_type": "execute_result"
    }
   ],
   "source": [
    "from langchain_core.runnables import RunnableConfig\n",
    "from langchain.schema import AIMessage\n",
    "from typing import Annotated, Literal\n",
    "from typing_extensions import TypedDict\n",
    "from langchain_openai import ChatOpenAI\n",
    "from langchain_community.tools.tavily_search import TavilySearchResults\n",
    "from langgraph.graph import StateGraph, START, END\n",
    "from langgraph.graph.message import add_messages\n",
    "from langgraph.prebuilt import ToolNode\n",
    "from langgraph.checkpoint.memory import MemorySaver\n",
    "from langchain_core.prompts import PromptTemplate\n",
    "from langchain_core.tools import tool\n",
    "from langchain_community.agent_toolkits import FileManagementToolkit\n",
    "from langchain_experimental.tools.python.tool import PythonAstREPLTool\n",
    "from pydantic import BaseModel, Field\n",
    "from fpdf import FPDF\n",
    "import random\n",
    "import pdfplumber\n",
    "import warnings\n",
    "import dotenv\n",
    "\n",
    "warnings.filterwarnings(\"ignore\")\n",
    "dotenv.load_dotenv()"
   ]
  },
  {
   "cell_type": "code",
   "execution_count": 2,
   "metadata": {},
   "outputs": [],
   "source": [
    "class State(TypedDict):\n",
    "    query : Annotated[str, \"User Question\"]\n",
    "    answer : Annotated[str, \"LLM response\"]\n",
    "    messages : Annotated[list, add_messages]\n",
    "    tool_call : Annotated[dict, \"Tool Call Result\"]"
   ]
  },
  {
   "cell_type": "code",
   "execution_count": 3,
   "metadata": {},
   "outputs": [],
   "source": [
    "llm = ChatOpenAI(model=\"gpt-4o-mini\",\n",
    "                 temperature=0.,)"
   ]
  },
  {
   "cell_type": "code",
   "execution_count": 4,
   "metadata": {},
   "outputs": [],
   "source": [
    "@tool\n",
    "def read_pdf(file_path: str) -> str:\n",
    "    \"\"\"\n",
    "    PDF 파일에서 텍스트를 추출하는 도구입니다.\n",
    "    표 형식 또는 일반 텍스트가 포함된 PDF를 읽고 문자열로 반환합니다.\n",
    "    \n",
    "    file_path 예시: './files/report.pdf'\n",
    "    \"\"\"\n",
    "    try:\n",
    "        text = \"\"\n",
    "        with pdfplumber.open(file_path) as pdf:\n",
    "            for page in pdf.pages:\n",
    "                page_text = page.extract_text()\n",
    "                if page_text:\n",
    "                    text += page_text + \"\\n\"\n",
    "        return text.strip() if text.strip() else \"❌ PDF에서 텍스트를 추출할 수 없습니다.\"\n",
    "    except Exception as e:\n",
    "        return f\"❌ PDF 읽기 오류: {str(e)}\""
   ]
  },
  {
   "cell_type": "code",
   "execution_count": 5,
   "metadata": {},
   "outputs": [],
   "source": [
    "@tool\n",
    "def write_pdf(content: str, filename: str = \"output.pdf\"):\n",
    "    \"\"\"\n",
    "    텍스트를 PDF 파일로 저장하는 도구입니다.\n",
    "    PDF형태의 문서로 만들어야할 때 이 도구를 사용하세요.\n",
    "    \"\"\"\n",
    "    \n",
    "    pdf = FPDF()\n",
    "    pdf.add_page()\n",
    "    pdf.set_auto_page_break(auto=True, margin=15)\n",
    "\n",
    "    font_path = \"C:\\Windows\\Fonts\\MALGUN.TTF\"  # <-- 여기에 실제 폰트 파일이 있어야 함\n",
    "\n",
    "    try:\n",
    "        pdf.add_font(\"malgun\", \"\", font_path, uni=True)\n",
    "        pdf.set_font(\"malgun\", size=12)\n",
    "    except:\n",
    "        raise ValueError(\"한글 폰트가 존재하지 않습니다.\")\n",
    "    \n",
    "    for line in content.split(\"\\n\"):\n",
    "        pdf.multi_cell(0, 10, line)\n",
    "    pdf.output(f\"./files/{filename}\")\n",
    "\n",
    "    print(f\"PDF saved as ./files/{filename}\")\n",
    "\n",
    "    return {\"content\":content, \"filename\":filename}"
   ]
  },
  {
   "cell_type": "code",
   "execution_count": null,
   "metadata": {},
   "outputs": [],
   "source": [
    "# TavilySearchResults : 웹 검색 도구\n",
    "# PythonAstREPLTool : 파이썬 코드 실행 도구\n",
    "# write_pdf : pdf 생성 도구\n",
    "# read_pdf : pdf 읽기 도구\n",
    "# file_delete : 파일 삭제 도구\n",
    "# list_directory : 파일 목록 읽기 도구\n",
    "\n",
    "tools = [TavilySearchResults(include_domains=[\"naver.com\", \"google.com\", \"youtube.com\"]), PythonAstREPLTool(), write_pdf, read_pdf, *FileManagementToolkit(root_dir=\"./files/\",\n",
    "                                                                            selected_tools=[\"file_delete\",\"list_directory\"]).get_tools()]\n",
    "search_tool, code_tool, write_tool, read_tool, delete_tool, listdir_tool= tools"
   ]
  },
  {
   "cell_type": "code",
   "execution_count": 7,
   "metadata": {},
   "outputs": [],
   "source": [
    "llm_with_tools = llm.bind_tools(tools)"
   ]
  },
  {
   "cell_type": "code",
   "execution_count": 222,
   "metadata": {},
   "outputs": [],
   "source": [
    "class HistoryChecker(BaseModel):\n",
    "    \"\"\"\n",
    "    이전의 대화 기록을 참고하여 질문에 대해 답변할 수 있는지 판단합니다.\n",
    "    답변할 수 있다면 \"yes\", 답변할 수 없다면 \"no\"를 반환합니다.\n",
    "    \"\"\"\n",
    "\n",
    "    yes_no : Literal[\"yes\", \"no\"] = Field(..., description=\"\"\"Use your previous conversation history to determine if you can answer your questions.\n",
    "    Return \"yes\" if you can answer, \"no\" if you can't answer.\"\"\")"
   ]
  },
  {
   "cell_type": "code",
   "execution_count": 223,
   "metadata": {},
   "outputs": [],
   "source": [
    "def shorterm_memory(state:State):\n",
    "\n",
    "    if len(state[\"messages\"]) > 4:\n",
    "        history = state[\"messages\"][-4:-1]\n",
    "    elif len(state[\"messages\"]) == 1:\n",
    "        history = \"\"\n",
    "    else:\n",
    "        history = state[\"messages\"][:-1]\n",
    "\n",
    "    return history"
   ]
  },
  {
   "cell_type": "code",
   "execution_count": 224,
   "metadata": {},
   "outputs": [],
   "source": [
    "def history_check(state:State):\n",
    "\n",
    "    prompt = PromptTemplate.from_template(\"\"\"\n",
    "\n",
    "                이전의 대화 기록을 참고하여 질문에 대해 답변할 수 있는지 판단합니다.\n",
    "                답변할 수 있다면 \"yes\", 답변할 수 없다면 \"no\"를 반환합니다.\n",
    "                \n",
    "                대화 기록 : {history}\n",
    "                                          \n",
    "                질문 : {query}\n",
    "                                          \n",
    "                \"\"\")\n",
    "    \n",
    "    chain = prompt | history_checker\n",
    "\n",
    "    history = shorterm_memory(state)\n",
    "\n",
    "    result = chain.invoke({\"history\":history,\n",
    "                            \"query\":state[\"query\"]})\n",
    "\n",
    "    return result.yes_no"
   ]
  },
  {
   "cell_type": "code",
   "execution_count": 225,
   "metadata": {},
   "outputs": [],
   "source": [
    "def memory_chat(state:State):\n",
    "\n",
    "    prompt = PromptTemplate.from_template(\"\"\"\n",
    "\n",
    "                이전의 대화 기록을 참고하여 질문에 대해 답변하세요.\n",
    "                아래 대화 기록을 첨부합니다.\n",
    "                대화 기록을 통해 답변이 어렵다면 내부 지식을 참조하세요.\n",
    "                \n",
    "                대화 기록 : {history}\n",
    "                                          \n",
    "                질문 : {query}\n",
    "                                          \n",
    "                \"\"\")\n",
    "\n",
    "    \n",
    "    chain = prompt | llm\n",
    "\n",
    "    history = shorterm_memory(state)\n",
    "\n",
    "    answer = chain.invoke({\"history\":history,\n",
    "                           \"query\":state[\"query\"]})\n",
    "    \n",
    "    if len(state[\"tool_call\"]) == 0:\n",
    "        return {\"answer\":answer.content,\n",
    "                \"messages\":answer,\n",
    "                \"tool_call\":\"사용된 기록 없음.\"}\n",
    "    else:\n",
    "        return {\"answer\":answer.content,\n",
    "                \"messages\":answer}"
   ]
  },
  {
   "cell_type": "code",
   "execution_count": 226,
   "metadata": {},
   "outputs": [],
   "source": [
    "history_checker = llm.with_structured_output(HistoryChecker)"
   ]
  },
  {
   "cell_type": "code",
   "execution_count": 227,
   "metadata": {},
   "outputs": [],
   "source": [
    "def history_node(state:State):\n",
    "    if len(state[\"messages\"]) == 1:\n",
    "        return {\"answer\":\"답변 없음\",\n",
    "                \"tool_call\":\"사용된 도구 없음\"}\n",
    "    else:\n",
    "        return state"
   ]
  },
  {
   "cell_type": "code",
   "execution_count": 228,
   "metadata": {},
   "outputs": [],
   "source": [
    "def select(\n",
    "    state: State,\n",
    "):\n",
    "\n",
    "    prompt = PromptTemplate.from_template(\"\"\"\n",
    "\n",
    "                이전의 대화 기록을 참고하여 질문에 대해 답변하세요.\n",
    "                아래 대화 기록을 첨부합니다.\n",
    "                대화 기록을 통해 답변이 어렵다면 내부 지식을 참조하세요.\n",
    "                최근에 사용한 도구가 있다면 도구도 참고하세요. 다른 도구를 사용하는 것이 더 좋은 방법이 될 수 있습니다.\n",
    "                                                    \n",
    "                대화 기록 : {history}     \n",
    "                                          \n",
    "                최근 사용한 도구 : {tool_name}\n",
    "                                        \n",
    "                정답 : {answer}\n",
    "                                        \n",
    "                질문 : {query}\n",
    "                                          \n",
    "                \"\"\")\n",
    "\n",
    "    chain = prompt | llm_with_tools\n",
    "\n",
    "    history = shorterm_memory(state)\n",
    "\n",
    "    result = chain.invoke({\"history\" : history,\n",
    "                           \"tool_name\" : state[\"tool_call\"],\n",
    "                            \"answer\": state[\"answer\"],\n",
    "                            \"query\": state[\"query\"]})\n",
    "\n",
    "    if hasattr(result, \"tool_calls\") and len(result.tool_calls) > 0:\n",
    "        tool_calls = result.tool_calls\n",
    "        return {\"messages\": result,\n",
    "                \"tool_call\": [result]}\n",
    "    else:\n",
    "        return {\"messages\":AIMessage(content=f\"\"\"도구를 선택하지 못했습니다. 적절한 도구를 재선택하세요.\n",
    "                                        \"\"\"),\n",
    "                                    \"tool_call\":None}\n",
    "\n",
    "    "
   ]
  },
  {
   "cell_type": "code",
   "execution_count": 229,
   "metadata": {},
   "outputs": [],
   "source": [
    "tool_node = ToolNode(tools)"
   ]
  },
  {
   "cell_type": "code",
   "execution_count": 230,
   "metadata": {},
   "outputs": [],
   "source": [
    "class AnswerChecker(BaseModel):\n",
    "    \"\"\"\n",
    "    정답 분류기입니다.\n",
    "    \n",
    "    정답이 질문을 해결했는지 여부를 판단합니다.\n",
    "    질문을 해결하지 못했을 시 해결될 때까지 도구를 이용합니다.\n",
    "\n",
    "    질문을 해결했다면 \"end\", 해결하지 못했다면 \"tool\"을 반환합니다.\n",
    "    \"\"\"\n",
    "\n",
    "\n",
    "    end : Literal[\"end\", \"tool\"] = Field(..., description=\"\"\"You are the answer sorter.\n",
    "\n",
    "                                                                Determine if the correct answer has solved the question.\n",
    "                                                                If the question is not resolved, use the tool until it is resolved.\n",
    "\n",
    "                                                                Return \"end\" if you solved the question, or \"tool\" if you didn't.\"\"\")    "
   ]
  },
  {
   "cell_type": "code",
   "execution_count": 231,
   "metadata": {},
   "outputs": [],
   "source": [
    "answer_checker = llm.with_structured_output(AnswerChecker)"
   ]
  },
  {
   "cell_type": "code",
   "execution_count": 232,
   "metadata": {},
   "outputs": [],
   "source": [
    "def response(state:State):\n",
    "\n",
    "    return {\"answer\":state[\"messages\"][-1]}"
   ]
  },
  {
   "cell_type": "code",
   "execution_count": 233,
   "metadata": {},
   "outputs": [],
   "source": [
    "def answer_check(state:State):\n",
    "\n",
    "    prompt = PromptTemplate.from_template(\"\"\"\n",
    "    당신은 정답 분류기 어시스턴트트입니다.\n",
    "    \n",
    "    정답이 질문을 해결할 수 있는지 여부를 판단합니다.\n",
    "    질문을 해결할 수 없다면 도구를 이용합니다.\n",
    "\n",
    "    질문을 해결할 수 있다면 \"end\", 아니라면 \"tool\"을 반환합니다.\n",
    "                                          \n",
    "    기존 History도 참고하여 답변하세요.\n",
    "                                          \n",
    "    History : {history}\n",
    "                            \n",
    "    정답 : {answer}\n",
    "                            \n",
    "    질문 : {query}\n",
    "    \"\"\")\n",
    "\n",
    "    chain = prompt | answer_checker\n",
    "\n",
    "    history = shorterm_memory(state)\n",
    "\n",
    "    result = chain.invoke({\"history\" : history,\n",
    "                            \"answer\": state[\"answer\"],\n",
    "                            \"query\": state[\"query\"]})\n",
    "    \n",
    "    return result.end"
   ]
  },
  {
   "cell_type": "code",
   "execution_count": 234,
   "metadata": {},
   "outputs": [],
   "source": [
    "graph_builder = StateGraph(State)"
   ]
  },
  {
   "cell_type": "code",
   "execution_count": 235,
   "metadata": {},
   "outputs": [],
   "source": [
    "graph_builder.add_node(\"history_node\", history_node)\n",
    "graph_builder.add_node(\"memory_chat\", memory_chat)\n",
    "graph_builder.add_node(\"select\", select)\n",
    "graph_builder.add_node(\"tools\", tool_node)\n",
    "graph_builder.add_node(\"response\", response)\n",
    "\n",
    "\n",
    "graph_builder.add_edge(START, \"history_node\")\n",
    "graph_builder.add_conditional_edges(\"history_node\",\n",
    "                            history_check,\n",
    "                            {\"yes\":\"memory_chat\",\n",
    "                             \"no\":\"select\"})\n",
    "graph_builder.add_edge(\"select\", \"tools\")\n",
    "graph_builder.add_edge(\"tools\", \"response\")\n",
    "graph_builder.add_edge(\"memory_chat\", \"response\")\n",
    "graph_builder.add_conditional_edges(\"response\",\n",
    "                                    answer_check,\n",
    "                                    {\"end\":END,\n",
    "                                    \"tool\":\"select\"});"
   ]
  },
  {
   "cell_type": "code",
   "execution_count": 236,
   "metadata": {},
   "outputs": [],
   "source": [
    "memory = MemorySaver()\n",
    "\n",
    "graph = graph_builder.compile(checkpointer=memory)"
   ]
  },
  {
   "cell_type": "code",
   "execution_count": 237,
   "metadata": {},
   "outputs": [],
   "source": [
    "def reset_config(limit=20):\n",
    "\n",
    "    thread_id=random.randint(1,999999)\n",
    "\n",
    "    config = RunnableConfig(recursion_limit=limit, configurable={\"thread_id\": thread_id})\n",
    "\n",
    "    return config"
   ]
  },
  {
   "cell_type": "code",
   "execution_count": 238,
   "metadata": {},
   "outputs": [],
   "source": [
    "config = reset_config()"
   ]
  },
  {
   "cell_type": "code",
   "execution_count": 164,
   "metadata": {},
   "outputs": [
    {
     "data": {
      "image/png": "[encoded data removed]",
      "text/plain": [
       "<langgraph.graph.state.CompiledStateGraph object at 0x000002A41F3C1990>"
      ]
     },
     "execution_count": 164,
     "metadata": {},
     "output_type": "execute_result"
    }
   ],
   "source": [
    "graph"
   ]
  },
  {
   "cell_type": "code",
   "execution_count": 239,
   "metadata": {},
   "outputs": [],
   "source": [
    "def streaming(query, config):\n",
    "\n",
    "    result = graph.stream({\"messages\":(\"user\", query),\n",
    "                         \"query\":query}, config=config)\n",
    "    for step in result:\n",
    "        for k, v in step.items():\n",
    "            print(f\"\\n\\n=== {k} ===\\n\\n\")\n",
    "            try:\n",
    "                print(v)\n",
    "            except:\n",
    "                pass\n",
    "    \n",
    "    return "
   ]
  },
  {
   "cell_type": "code",
   "execution_count": 240,
   "metadata": {},
   "outputs": [
    {
     "name": "stdout",
     "output_type": "stream",
     "text": [
      "\n",
      "\n",
      "=== history_node ===\n",
      "\n",
      "\n",
      "{'answer': '답변 없음', 'tool_call': '사용된 도구 없음'}\n",
      "\n",
      "\n",
      "=== memory_chat ===\n",
      "\n",
      "\n",
      "{'answer': '1+1은 2입니다.', 'messages': AIMessage(content='1+1은 2입니다.', additional_kwargs={'refusal': None}, response_metadata={'token_usage': {'completion_tokens': 9, 'prompt_tokens': 78, 'total_tokens': 87, 'completion_tokens_details': {'accepted_prediction_tokens': 0, 'audio_tokens': 0, 'reasoning_tokens': 0, 'rejected_prediction_tokens': 0}, 'prompt_tokens_details': {'audio_tokens': 0, 'cached_tokens': 0}}, 'model_name': 'gpt-4o-mini-2024-07-18', 'system_fingerprint': 'fp_bbfba58e46', 'finish_reason': 'stop', 'logprobs': None}, id='run-bee41725-7fd1-4d96-b2f3-ff651e0ca7f2-0', usage_metadata={'input_tokens': 78, 'output_tokens': 9, 'total_tokens': 87, 'input_token_details': {'audio': 0, 'cache_read': 0}, 'output_token_details': {'audio': 0, 'reasoning': 0}})}\n",
      "\n",
      "\n",
      "=== response ===\n",
      "\n",
      "\n",
      "{'answer': AIMessage(content='1+1은 2입니다.', additional_kwargs={'refusal': None}, response_metadata={'token_usage': {'completion_tokens': 9, 'prompt_tokens': 78, 'total_tokens': 87, 'completion_tokens_details': {'accepted_prediction_tokens': 0, 'audio_tokens': 0, 'reasoning_tokens': 0, 'rejected_prediction_tokens': 0}, 'prompt_tokens_details': {'audio_tokens': 0, 'cached_tokens': 0}}, 'model_name': 'gpt-4o-mini-2024-07-18', 'system_fingerprint': 'fp_bbfba58e46', 'finish_reason': 'stop', 'logprobs': None}, id='run-bee41725-7fd1-4d96-b2f3-ff651e0ca7f2-0', usage_metadata={'input_tokens': 78, 'output_tokens': 9, 'total_tokens': 87, 'input_token_details': {'audio': 0, 'cache_read': 0}, 'output_token_details': {'audio': 0, 'reasoning': 0}})}\n"
     ]
    }
   ],
   "source": [
    "query = \"1+1은 뭔가요?\"\n",
    "\n",
    "streaming(query, config)"
   ]
  },
  {
   "cell_type": "code",
   "execution_count": 241,
   "metadata": {},
   "outputs": [
    {
     "name": "stdout",
     "output_type": "stream",
     "text": [
      "\n",
      "\n",
      "=== history_node ===\n",
      "\n",
      "\n",
      "{'query': '피엔티에 대해 조사해서 레포트 작성해주세요. pdf형태로 저장해주세요.', 'answer': AIMessage(content='1+1은 2입니다.', additional_kwargs={'refusal': None}, response_metadata={'token_usage': {'completion_tokens': 9, 'prompt_tokens': 78, 'total_tokens': 87, 'completion_tokens_details': {'accepted_prediction_tokens': 0, 'audio_tokens': 0, 'reasoning_tokens': 0, 'rejected_prediction_tokens': 0}, 'prompt_tokens_details': {'audio_tokens': 0, 'cached_tokens': 0}}, 'model_name': 'gpt-4o-mini-2024-07-18', 'system_fingerprint': 'fp_bbfba58e46', 'finish_reason': 'stop', 'logprobs': None}, id='run-bee41725-7fd1-4d96-b2f3-ff651e0ca7f2-0', usage_metadata={'input_tokens': 78, 'output_tokens': 9, 'total_tokens': 87, 'input_token_details': {'audio': 0, 'cache_read': 0}, 'output_token_details': {'audio': 0, 'reasoning': 0}}), 'messages': [HumanMessage(content='1+1은 뭔가요?', additional_kwargs={}, response_metadata={}, id='8f462111-46d2-4d4a-bf37-be279cb54d9d'), AIMessage(content='1+1은 2입니다.', additional_kwargs={'refusal': None}, response_metadata={'token_usage': {'completion_tokens': 9, 'prompt_tokens': 78, 'total_tokens': 87, 'completion_tokens_details': {'accepted_prediction_tokens': 0, 'audio_tokens': 0, 'reasoning_tokens': 0, 'rejected_prediction_tokens': 0}, 'prompt_tokens_details': {'audio_tokens': 0, 'cached_tokens': 0}}, 'model_name': 'gpt-4o-mini-2024-07-18', 'system_fingerprint': 'fp_bbfba58e46', 'finish_reason': 'stop', 'logprobs': None}, id='run-bee41725-7fd1-4d96-b2f3-ff651e0ca7f2-0', usage_metadata={'input_tokens': 78, 'output_tokens': 9, 'total_tokens': 87, 'input_token_details': {'audio': 0, 'cache_read': 0}, 'output_token_details': {'audio': 0, 'reasoning': 0}}), HumanMessage(content='피엔티에 대해 조사해서 레포트 작성해주세요. pdf형태로 저장해주세요.', additional_kwargs={}, response_metadata={}, id='83d4fe45-083e-4986-a7cf-cdaaa49b4f87')], 'tool_call': '사용된 도구 없음'}\n",
      "\n",
      "\n",
      "=== select ===\n",
      "\n",
      "\n",
      "{'messages': AIMessage(content='', additional_kwargs={'tool_calls': [{'id': 'call_TXlHvuwOzWWvn5Ixv2gG60KF', 'function': {'arguments': '{\"query\":\"피엔티\"}', 'name': 'tavily_search_results_json'}, 'type': 'function'}], 'refusal': None}, response_metadata={'token_usage': {'completion_tokens': 21, 'prompt_tokens': 978, 'total_tokens': 999, 'completion_tokens_details': {'accepted_prediction_tokens': 0, 'audio_tokens': 0, 'reasoning_tokens': 0, 'rejected_prediction_tokens': 0}, 'prompt_tokens_details': {'audio_tokens': 0, 'cached_tokens': 0}}, 'model_name': 'gpt-4o-mini-2024-07-18', 'system_fingerprint': 'fp_27322b4e16', 'finish_reason': 'tool_calls', 'logprobs': None}, id='run-25998ba8-8e63-4ff2-9775-2839d4c9dd45-0', tool_calls=[{'name': 'tavily_search_results_json', 'args': {'query': '피엔티'}, 'id': 'call_TXlHvuwOzWWvn5Ixv2gG60KF', 'type': 'tool_call'}], usage_metadata={'input_tokens': 978, 'output_tokens': 21, 'total_tokens': 999, 'input_token_details': {'audio': 0, 'cache_read': 0}, 'output_token_details': {'audio': 0, 'reasoning': 0}}), 'tool_call': [AIMessage(content='', additional_kwargs={'tool_calls': [{'id': 'call_TXlHvuwOzWWvn5Ixv2gG60KF', 'function': {'arguments': '{\"query\":\"피엔티\"}', 'name': 'tavily_search_results_json'}, 'type': 'function'}], 'refusal': None}, response_metadata={'token_usage': {'completion_tokens': 21, 'prompt_tokens': 978, 'total_tokens': 999, 'completion_tokens_details': {'accepted_prediction_tokens': 0, 'audio_tokens': 0, 'reasoning_tokens': 0, 'rejected_prediction_tokens': 0}, 'prompt_tokens_details': {'audio_tokens': 0, 'cached_tokens': 0}}, 'model_name': 'gpt-4o-mini-2024-07-18', 'system_fingerprint': 'fp_27322b4e16', 'finish_reason': 'tool_calls', 'logprobs': None}, id='run-25998ba8-8e63-4ff2-9775-2839d4c9dd45-0', tool_calls=[{'name': 'tavily_search_results_json', 'args': {'query': '피엔티'}, 'id': 'call_TXlHvuwOzWWvn5Ixv2gG60KF', 'type': 'tool_call'}], usage_metadata={'input_tokens': 978, 'output_tokens': 21, 'total_tokens': 999, 'input_token_details': {'audio': 0, 'cache_read': 0}, 'output_token_details': {'audio': 0, 'reasoning': 0}})]}\n",
      "\n",
      "\n",
      "=== tools ===\n",
      "\n",
      "\n",
      "{'messages': [ToolMessage(content='[{\"title\": \"(종목공부) 피엔티 : 네이버 블로그\", \"url\": \"https://blog.naver.com/mindy0103/223349748240?viewType=pc\", \"content\": \"피엔티는 고도의 기술을 요구하는 박막화에 특화된 이차전지용 소재,전지박 등을 생산하는 장비를 주로 생산하고 있습니다. □ 기업개요. 피엔티는 Roll\", \"score\": 0.7336813}, {\"title\": \"피엔티 주가 전망 2차전지장비주 대장주, 셀 업체들과 다른 ...\", \"url\": \"https://blog.naver.com/nasiba5083/223506860190?viewType=pc\", \"content\": \"피엔티는 일명 롤투롤(Roll-to-Roll) 기술이라는 모재를 회전롤에 감으면서 소정의 물질을 도포하여 새로운 기능을 부가하는 공법을 기반으로 성장하고\", \"score\": 0.6453216}, {\"title\": \"피엔티 주가 전망; 피엔티머티리얼즈에 무슨 일이? - 네이버블로그\", \"url\": \"https://blog.naver.com/make_money_big/223563063299?fromRss=true&trackingCode=rss\", \"content\": \"피엔티는 2025년까지 55명의 인력충원과 1000억원의 투자를 해서 구미하이테크밸리에 양극활물질 양산 공장을 건설한다. \\u200b. 피엔티는 밸류체인을 구축\", \"score\": 0.49978086}, {\"title\": \"보유종목점검 - 1. 피엔티 : 네이버 블로그\", \"url\": \"https://blog.naver.com/chlbest/223714149861\", \"content\": \"또한, 우리는 경쟁 우위를 통해 고객의 배터리 제조 비용 절감에 기여하고자 노력합니다. PNT의 미래 핵심 강점은 건식 코팅 기술에 있습니다. 우리는\", \"score\": 0.4511578}, {\"title\": \"피엔티(137400) - 네이버 금융 - NAVER\", \"url\": \"https://finance.naver.com/item/main.nhn?code=137400\", \"content\": \"No information is available for this page.\", \"score\": 0.42048118}]', name='tavily_search_results_json', id='4d745436-0800-4c7f-9fdb-5116d94d30f0', tool_call_id='call_TXlHvuwOzWWvn5Ixv2gG60KF', artifact={'query': '피엔티', 'follow_up_questions': None, 'answer': None, 'images': [], 'results': [{'url': 'https://blog.naver.com/mindy0103/223349748240?viewType=pc', 'title': '(종목공부) 피엔티 : 네이버 블로그', 'content': '피엔티는 고도의 기술을 요구하는 박막화에 특화된 이차전지용 소재,전지박 등을 생산하는 장비를 주로 생산하고 있습니다. □ 기업개요. 피엔티는 Roll', 'score': 0.7336813, 'raw_content': None}, {'url': 'https://blog.naver.com/nasiba5083/223506860190?viewType=pc', 'title': '피엔티 주가 전망 2차전지장비주 대장주, 셀 업체들과 다른 ...', 'content': '피엔티는 일명 롤투롤(Roll-to-Roll) 기술이라는 모재를 회전롤에 감으면서 소정의 물질을 도포하여 새로운 기능을 부가하는 공법을 기반으로 성장하고', 'score': 0.6453216, 'raw_content': None}, {'url': 'https://blog.naver.com/make_money_big/223563063299?fromRss=true&trackingCode=rss', 'title': '피엔티 주가 전망; 피엔티머티리얼즈에 무슨 일이? - 네이버블로그', 'content': '피엔티는 2025년까지 55명의 인력충원과 1000억원의 투자를 해서 구미하이테크밸리에 양극활물질 양산 공장을 건설한다. \\u200b. 피엔티는 밸류체인을 구축', 'score': 0.49978086, 'raw_content': None}, {'url': 'https://blog.naver.com/chlbest/223714149861', 'title': '보유종목점검 - 1. 피엔티 : 네이버 블로그', 'content': '또한, 우리는 경쟁 우위를 통해 고객의 배터리 제조 비용 절감에 기여하고자 노력합니다. PNT의 미래 핵심 강점은 건식 코팅 기술에 있습니다. 우리는', 'score': 0.4511578, 'raw_content': None}, {'url': 'https://finance.naver.com/item/main.nhn?code=137400', 'title': '피엔티(137400) - 네이버 금융 - NAVER', 'content': 'No information is available for this page.', 'score': 0.42048118, 'raw_content': None}], 'response_time': 3.18})]}\n",
      "\n",
      "\n",
      "=== response ===\n",
      "\n",
      "\n",
      "{'answer': ToolMessage(content='[{\"title\": \"(종목공부) 피엔티 : 네이버 블로그\", \"url\": \"https://blog.naver.com/mindy0103/223349748240?viewType=pc\", \"content\": \"피엔티는 고도의 기술을 요구하는 박막화에 특화된 이차전지용 소재,전지박 등을 생산하는 장비를 주로 생산하고 있습니다. □ 기업개요. 피엔티는 Roll\", \"score\": 0.7336813}, {\"title\": \"피엔티 주가 전망 2차전지장비주 대장주, 셀 업체들과 다른 ...\", \"url\": \"https://blog.naver.com/nasiba5083/223506860190?viewType=pc\", \"content\": \"피엔티는 일명 롤투롤(Roll-to-Roll) 기술이라는 모재를 회전롤에 감으면서 소정의 물질을 도포하여 새로운 기능을 부가하는 공법을 기반으로 성장하고\", \"score\": 0.6453216}, {\"title\": \"피엔티 주가 전망; 피엔티머티리얼즈에 무슨 일이? - 네이버블로그\", \"url\": \"https://blog.naver.com/make_money_big/223563063299?fromRss=true&trackingCode=rss\", \"content\": \"피엔티는 2025년까지 55명의 인력충원과 1000억원의 투자를 해서 구미하이테크밸리에 양극활물질 양산 공장을 건설한다. \\u200b. 피엔티는 밸류체인을 구축\", \"score\": 0.49978086}, {\"title\": \"보유종목점검 - 1. 피엔티 : 네이버 블로그\", \"url\": \"https://blog.naver.com/chlbest/223714149861\", \"content\": \"또한, 우리는 경쟁 우위를 통해 고객의 배터리 제조 비용 절감에 기여하고자 노력합니다. PNT의 미래 핵심 강점은 건식 코팅 기술에 있습니다. 우리는\", \"score\": 0.4511578}, {\"title\": \"피엔티(137400) - 네이버 금융 - NAVER\", \"url\": \"https://finance.naver.com/item/main.nhn?code=137400\", \"content\": \"No information is available for this page.\", \"score\": 0.42048118}]', name='tavily_search_results_json', id='4d745436-0800-4c7f-9fdb-5116d94d30f0', tool_call_id='call_TXlHvuwOzWWvn5Ixv2gG60KF', artifact={'query': '피엔티', 'follow_up_questions': None, 'answer': None, 'images': [], 'results': [{'url': 'https://blog.naver.com/mindy0103/223349748240?viewType=pc', 'title': '(종목공부) 피엔티 : 네이버 블로그', 'content': '피엔티는 고도의 기술을 요구하는 박막화에 특화된 이차전지용 소재,전지박 등을 생산하는 장비를 주로 생산하고 있습니다. □ 기업개요. 피엔티는 Roll', 'score': 0.7336813, 'raw_content': None}, {'url': 'https://blog.naver.com/nasiba5083/223506860190?viewType=pc', 'title': '피엔티 주가 전망 2차전지장비주 대장주, 셀 업체들과 다른 ...', 'content': '피엔티는 일명 롤투롤(Roll-to-Roll) 기술이라는 모재를 회전롤에 감으면서 소정의 물질을 도포하여 새로운 기능을 부가하는 공법을 기반으로 성장하고', 'score': 0.6453216, 'raw_content': None}, {'url': 'https://blog.naver.com/make_money_big/223563063299?fromRss=true&trackingCode=rss', 'title': '피엔티 주가 전망; 피엔티머티리얼즈에 무슨 일이? - 네이버블로그', 'content': '피엔티는 2025년까지 55명의 인력충원과 1000억원의 투자를 해서 구미하이테크밸리에 양극활물질 양산 공장을 건설한다. \\u200b. 피엔티는 밸류체인을 구축', 'score': 0.49978086, 'raw_content': None}, {'url': 'https://blog.naver.com/chlbest/223714149861', 'title': '보유종목점검 - 1. 피엔티 : 네이버 블로그', 'content': '또한, 우리는 경쟁 우위를 통해 고객의 배터리 제조 비용 절감에 기여하고자 노력합니다. PNT의 미래 핵심 강점은 건식 코팅 기술에 있습니다. 우리는', 'score': 0.4511578, 'raw_content': None}, {'url': 'https://finance.naver.com/item/main.nhn?code=137400', 'title': '피엔티(137400) - 네이버 금융 - NAVER', 'content': 'No information is available for this page.', 'score': 0.42048118, 'raw_content': None}], 'response_time': 3.18})}\n",
      "\n",
      "\n",
      "=== select ===\n",
      "\n",
      "\n",
      "{'messages': AIMessage(content='', additional_kwargs={'tool_calls': [{'id': 'call_hwFmb4hJhQR7r7z1SJi4Tpyn', 'function': {'arguments': '{\"content\":\"# 피엔티(PNT) 레포트\\\\n\\\\n## 1. 기업 개요\\\\n피엔티는 고도의 기술을 요구하는 박막화에 특화된 이차전지용 소재 및 전지박 등을 생산하는 장비를 주로 생산하는 기업입니다. 이 회사는 Roll-to-Roll 기술을 기반으로 하여 새로운 기능을 부가하는 공법을 통해 성장하고 있습니다.\\\\n\\\\n## 2. 주요 기술 및 제품\\\\n- **Roll-to-Roll 기술**: 이 기술은 모재를 회전롤에 감으면서 소정의 물질을 도포하여 새로운 기능을 부가하는 공법입니다.\\\\n- **이차전지용 소재**: 피엔티는 이차전지의 핵심 소재를 생산하여 배터리 제조 비용 절감에 기여하고 있습니다.\\\\n\\\\n## 3. 최근 동향\\\\n피엔티는 2025년까지 55명의 인력 충원과 1000억원의 투자를 통해 구미 하이테크밸리에 양극활물질 양산 공장을 건설할 계획입니다. 이를 통해 밸류체인을 구축하고 경쟁력을 강화할 예정입니다.\\\\n\\\\n## 4. 주가 전망\\\\n피엔티는 이차전지 장비주 대장주로서, 셀 업체들과의 협력을 통해 지속적인 성장이 기대됩니다.\\\\n\\\\n## 5. 참고 자료\\\\n- [(종목공부) 피엔티 : 네이버 블로그](https://blog.naver.com/mindy0103/223349748240?viewType=pc)\\\\n- [피엔티 주가 전망 2차전지장비주 대장주, 셀 업체들과 다른 ...](https://blog.naver.com/nasiba5083/223506860190?viewType=pc)\\\\n- [피엔티 주가 전망; 피엔티머티리얼즈에 무슨 일이? - 네이버블로그](https://blog.naver.com/make_money_big/223563063299?fromRss=true&trackingCode=rss)\\\\n- [보유종목점검 - 1. 피엔티 : 네이버 블로그](https://blog.naver.com/chlbest/223714149861)\\\\n- [피엔티(137400) - 네이버 금융 - NAVER](https://finance.naver.com/item/main.nhn?code=137400)\",\"filename\":\"피엔티_레포트.pdf\"}', 'name': 'write_pdf'}, 'type': 'function'}], 'refusal': None}, response_metadata={'token_usage': {'completion_tokens': 542, 'prompt_tokens': 2616, 'total_tokens': 3158, 'completion_tokens_details': {'accepted_prediction_tokens': 0, 'audio_tokens': 0, 'reasoning_tokens': 0, 'rejected_prediction_tokens': 0}, 'prompt_tokens_details': {'audio_tokens': 0, 'cached_tokens': 0}}, 'model_name': 'gpt-4o-mini-2024-07-18', 'system_fingerprint': 'fp_bbfba58e46', 'finish_reason': 'tool_calls', 'logprobs': None}, id='run-1d1ca9d5-3abb-4bae-8c7f-c02ea7fb842e-0', tool_calls=[{'name': 'write_pdf', 'args': {'content': '# 피엔티(PNT) 레포트\\n\\n## 1. 기업 개요\\n피엔티는 고도의 기술을 요구하는 박막화에 특화된 이차전지용 소재 및 전지박 등을 생산하는 장비를 주로 생산하는 기업입니다. 이 회사는 Roll-to-Roll 기술을 기반으로 하여 새로운 기능을 부가하는 공법을 통해 성장하고 있습니다.\\n\\n## 2. 주요 기술 및 제품\\n- **Roll-to-Roll 기술**: 이 기술은 모재를 회전롤에 감으면서 소정의 물질을 도포하여 새로운 기능을 부가하는 공법입니다.\\n- **이차전지용 소재**: 피엔티는 이차전지의 핵심 소재를 생산하여 배터리 제조 비용 절감에 기여하고 있습니다.\\n\\n## 3. 최근 동향\\n피엔티는 2025년까지 55명의 인력 충원과 1000억원의 투자를 통해 구미 하이테크밸리에 양극활물질 양산 공장을 건설할 계획입니다. 이를 통해 밸류체인을 구축하고 경쟁력을 강화할 예정입니다.\\n\\n## 4. 주가 전망\\n피엔티는 이차전지 장비주 대장주로서, 셀 업체들과의 협력을 통해 지속적인 성장이 기대됩니다.\\n\\n## 5. 참고 자료\\n- [(종목공부) 피엔티 : 네이버 블로그](https://blog.naver.com/mindy0103/223349748240?viewType=pc)\\n- [피엔티 주가 전망 2차전지장비주 대장주, 셀 업체들과 다른 ...](https://blog.naver.com/nasiba5083/223506860190?viewType=pc)\\n- [피엔티 주가 전망; 피엔티머티리얼즈에 무슨 일이? - 네이버블로그](https://blog.naver.com/make_money_big/223563063299?fromRss=true&trackingCode=rss)\\n- [보유종목점검 - 1. 피엔티 : 네이버 블로그](https://blog.naver.com/chlbest/223714149861)\\n- [피엔티(137400) - 네이버 금융 - NAVER](https://finance.naver.com/item/main.nhn?code=137400)', 'filename': '피엔티_레포트.pdf'}, 'id': 'call_hwFmb4hJhQR7r7z1SJi4Tpyn', 'type': 'tool_call'}], usage_metadata={'input_tokens': 2616, 'output_tokens': 542, 'total_tokens': 3158, 'input_token_details': {'audio': 0, 'cache_read': 0}, 'output_token_details': {'audio': 0, 'reasoning': 0}}), 'tool_call': [AIMessage(content='', additional_kwargs={'tool_calls': [{'id': 'call_hwFmb4hJhQR7r7z1SJi4Tpyn', 'function': {'arguments': '{\"content\":\"# 피엔티(PNT) 레포트\\\\n\\\\n## 1. 기업 개요\\\\n피엔티는 고도의 기술을 요구하는 박막화에 특화된 이차전지용 소재 및 전지박 등을 생산하는 장비를 주로 생산하는 기업입니다. 이 회사는 Roll-to-Roll 기술을 기반으로 하여 새로운 기능을 부가하는 공법을 통해 성장하고 있습니다.\\\\n\\\\n## 2. 주요 기술 및 제품\\\\n- **Roll-to-Roll 기술**: 이 기술은 모재를 회전롤에 감으면서 소정의 물질을 도포하여 새로운 기능을 부가하는 공법입니다.\\\\n- **이차전지용 소재**: 피엔티는 이차전지의 핵심 소재를 생산하여 배터리 제조 비용 절감에 기여하고 있습니다.\\\\n\\\\n## 3. 최근 동향\\\\n피엔티는 2025년까지 55명의 인력 충원과 1000억원의 투자를 통해 구미 하이테크밸리에 양극활물질 양산 공장을 건설할 계획입니다. 이를 통해 밸류체인을 구축하고 경쟁력을 강화할 예정입니다.\\\\n\\\\n## 4. 주가 전망\\\\n피엔티는 이차전지 장비주 대장주로서, 셀 업체들과의 협력을 통해 지속적인 성장이 기대됩니다.\\\\n\\\\n## 5. 참고 자료\\\\n- [(종목공부) 피엔티 : 네이버 블로그](https://blog.naver.com/mindy0103/223349748240?viewType=pc)\\\\n- [피엔티 주가 전망 2차전지장비주 대장주, 셀 업체들과 다른 ...](https://blog.naver.com/nasiba5083/223506860190?viewType=pc)\\\\n- [피엔티 주가 전망; 피엔티머티리얼즈에 무슨 일이? - 네이버블로그](https://blog.naver.com/make_money_big/223563063299?fromRss=true&trackingCode=rss)\\\\n- [보유종목점검 - 1. 피엔티 : 네이버 블로그](https://blog.naver.com/chlbest/223714149861)\\\\n- [피엔티(137400) - 네이버 금융 - NAVER](https://finance.naver.com/item/main.nhn?code=137400)\",\"filename\":\"피엔티_레포트.pdf\"}', 'name': 'write_pdf'}, 'type': 'function'}], 'refusal': None}, response_metadata={'token_usage': {'completion_tokens': 542, 'prompt_tokens': 2616, 'total_tokens': 3158, 'completion_tokens_details': {'accepted_prediction_tokens': 0, 'audio_tokens': 0, 'reasoning_tokens': 0, 'rejected_prediction_tokens': 0}, 'prompt_tokens_details': {'audio_tokens': 0, 'cached_tokens': 0}}, 'model_name': 'gpt-4o-mini-2024-07-18', 'system_fingerprint': 'fp_bbfba58e46', 'finish_reason': 'tool_calls', 'logprobs': None}, id='run-1d1ca9d5-3abb-4bae-8c7f-c02ea7fb842e-0', tool_calls=[{'name': 'write_pdf', 'args': {'content': '# 피엔티(PNT) 레포트\\n\\n## 1. 기업 개요\\n피엔티는 고도의 기술을 요구하는 박막화에 특화된 이차전지용 소재 및 전지박 등을 생산하는 장비를 주로 생산하는 기업입니다. 이 회사는 Roll-to-Roll 기술을 기반으로 하여 새로운 기능을 부가하는 공법을 통해 성장하고 있습니다.\\n\\n## 2. 주요 기술 및 제품\\n- **Roll-to-Roll 기술**: 이 기술은 모재를 회전롤에 감으면서 소정의 물질을 도포하여 새로운 기능을 부가하는 공법입니다.\\n- **이차전지용 소재**: 피엔티는 이차전지의 핵심 소재를 생산하여 배터리 제조 비용 절감에 기여하고 있습니다.\\n\\n## 3. 최근 동향\\n피엔티는 2025년까지 55명의 인력 충원과 1000억원의 투자를 통해 구미 하이테크밸리에 양극활물질 양산 공장을 건설할 계획입니다. 이를 통해 밸류체인을 구축하고 경쟁력을 강화할 예정입니다.\\n\\n## 4. 주가 전망\\n피엔티는 이차전지 장비주 대장주로서, 셀 업체들과의 협력을 통해 지속적인 성장이 기대됩니다.\\n\\n## 5. 참고 자료\\n- [(종목공부) 피엔티 : 네이버 블로그](https://blog.naver.com/mindy0103/223349748240?viewType=pc)\\n- [피엔티 주가 전망 2차전지장비주 대장주, 셀 업체들과 다른 ...](https://blog.naver.com/nasiba5083/223506860190?viewType=pc)\\n- [피엔티 주가 전망; 피엔티머티리얼즈에 무슨 일이? - 네이버블로그](https://blog.naver.com/make_money_big/223563063299?fromRss=true&trackingCode=rss)\\n- [보유종목점검 - 1. 피엔티 : 네이버 블로그](https://blog.naver.com/chlbest/223714149861)\\n- [피엔티(137400) - 네이버 금융 - NAVER](https://finance.naver.com/item/main.nhn?code=137400)', 'filename': '피엔티_레포트.pdf'}, 'id': 'call_hwFmb4hJhQR7r7z1SJi4Tpyn', 'type': 'tool_call'}], usage_metadata={'input_tokens': 2616, 'output_tokens': 542, 'total_tokens': 3158, 'input_token_details': {'audio': 0, 'cache_read': 0}, 'output_token_details': {'audio': 0, 'reasoning': 0}})]}\n",
      "PDF saved as ./files/피엔티_레포트.pdf\n",
      "\n",
      "\n",
      "=== tools ===\n",
      "\n",
      "\n",
      "{'messages': [ToolMessage(content='{\"content\": \"# 피엔티(PNT) 레포트\\\\n\\\\n## 1. 기업 개요\\\\n피엔티는 고도의 기술을 요구하는 박막화에 특화된 이차전지용 소재 및 전지박 등을 생산하는 장비를 주로 생산하는 기업입니다. 이 회사는 Roll-to-Roll 기술을 기반으로 하여 새로운 기능을 부가하는 공법을 통해 성장하고 있습니다.\\\\n\\\\n## 2. 주요 기술 및 제품\\\\n- **Roll-to-Roll 기술**: 이 기술은 모재를 회전롤에 감으면서 소정의 물질을 도포하여 새로운 기능을 부가하는 공법입니다.\\\\n- **이차전지용 소재**: 피엔티는 이차전지의 핵심 소재를 생산하여 배터리 제조 비용 절감에 기여하고 있습니다.\\\\n\\\\n## 3. 최근 동향\\\\n피엔티는 2025년까지 55명의 인력 충원과 1000억원의 투자를 통해 구미 하이테크밸리에 양극활물질 양산 공장을 건설할 계획입니다. 이를 통해 밸류체인을 구축하고 경쟁력을 강화할 예정입니다.\\\\n\\\\n## 4. 주가 전망\\\\n피엔티는 이차전지 장비주 대장주로서, 셀 업체들과의 협력을 통해 지속적인 성장이 기대됩니다.\\\\n\\\\n## 5. 참고 자료\\\\n- [(종목공부) 피엔티 : 네이버 블로그](https://blog.naver.com/mindy0103/223349748240?viewType=pc)\\\\n- [피엔티 주가 전망 2차전지장비주 대장주, 셀 업체들과 다른 ...](https://blog.naver.com/nasiba5083/223506860190?viewType=pc)\\\\n- [피엔티 주가 전망; 피엔티머티리얼즈에 무슨 일이? - 네이버블로그](https://blog.naver.com/make_money_big/223563063299?fromRss=true&trackingCode=rss)\\\\n- [보유종목점검 - 1. 피엔티 : 네이버 블로그](https://blog.naver.com/chlbest/223714149861)\\\\n- [피엔티(137400) - 네이버 금융 - NAVER](https://finance.naver.com/item/main.nhn?code=137400)\", \"filename\": \"피엔티_레포트.pdf\"}', name='write_pdf', id='5c8ddf6f-f7e8-4fb6-8652-a6911c1dbc0a', tool_call_id='call_hwFmb4hJhQR7r7z1SJi4Tpyn')]}\n",
      "\n",
      "\n",
      "=== response ===\n",
      "\n",
      "\n",
      "{'answer': ToolMessage(content='{\"content\": \"# 피엔티(PNT) 레포트\\\\n\\\\n## 1. 기업 개요\\\\n피엔티는 고도의 기술을 요구하는 박막화에 특화된 이차전지용 소재 및 전지박 등을 생산하는 장비를 주로 생산하는 기업입니다. 이 회사는 Roll-to-Roll 기술을 기반으로 하여 새로운 기능을 부가하는 공법을 통해 성장하고 있습니다.\\\\n\\\\n## 2. 주요 기술 및 제품\\\\n- **Roll-to-Roll 기술**: 이 기술은 모재를 회전롤에 감으면서 소정의 물질을 도포하여 새로운 기능을 부가하는 공법입니다.\\\\n- **이차전지용 소재**: 피엔티는 이차전지의 핵심 소재를 생산하여 배터리 제조 비용 절감에 기여하고 있습니다.\\\\n\\\\n## 3. 최근 동향\\\\n피엔티는 2025년까지 55명의 인력 충원과 1000억원의 투자를 통해 구미 하이테크밸리에 양극활물질 양산 공장을 건설할 계획입니다. 이를 통해 밸류체인을 구축하고 경쟁력을 강화할 예정입니다.\\\\n\\\\n## 4. 주가 전망\\\\n피엔티는 이차전지 장비주 대장주로서, 셀 업체들과의 협력을 통해 지속적인 성장이 기대됩니다.\\\\n\\\\n## 5. 참고 자료\\\\n- [(종목공부) 피엔티 : 네이버 블로그](https://blog.naver.com/mindy0103/223349748240?viewType=pc)\\\\n- [피엔티 주가 전망 2차전지장비주 대장주, 셀 업체들과 다른 ...](https://blog.naver.com/nasiba5083/223506860190?viewType=pc)\\\\n- [피엔티 주가 전망; 피엔티머티리얼즈에 무슨 일이? - 네이버블로그](https://blog.naver.com/make_money_big/223563063299?fromRss=true&trackingCode=rss)\\\\n- [보유종목점검 - 1. 피엔티 : 네이버 블로그](https://blog.naver.com/chlbest/223714149861)\\\\n- [피엔티(137400) - 네이버 금융 - NAVER](https://finance.naver.com/item/main.nhn?code=137400)\", \"filename\": \"피엔티_레포트.pdf\"}', name='write_pdf', id='5c8ddf6f-f7e8-4fb6-8652-a6911c1dbc0a', tool_call_id='call_hwFmb4hJhQR7r7z1SJi4Tpyn')}\n"
     ]
    }
   ],
   "source": [
    "query = \"피엔티에 대해 조사해서 레포트 작성해주세요. pdf형태로 저장해주세요.\"\n",
    "\n",
    "streaming(query, config)"
   ]
  },
  {
   "cell_type": "code",
   "execution_count": 242,
   "metadata": {},
   "outputs": [
    {
     "name": "stdout",
     "output_type": "stream",
     "text": [
      "\n",
      "\n",
      "=== history_node ===\n",
      "\n",
      "\n",
      "{'query': '피엔티_레포트.pdf 파일 삭제해줘', 'answer': ToolMessage(content='{\"content\": \"# 피엔티(PNT) 레포트\\\\n\\\\n## 1. 기업 개요\\\\n피엔티는 고도의 기술을 요구하는 박막화에 특화된 이차전지용 소재 및 전지박 등을 생산하는 장비를 주로 생산하는 기업입니다. 이 회사는 Roll-to-Roll 기술을 기반으로 하여 새로운 기능을 부가하는 공법을 통해 성장하고 있습니다.\\\\n\\\\n## 2. 주요 기술 및 제품\\\\n- **Roll-to-Roll 기술**: 이 기술은 모재를 회전롤에 감으면서 소정의 물질을 도포하여 새로운 기능을 부가하는 공법입니다.\\\\n- **이차전지용 소재**: 피엔티는 이차전지의 핵심 소재를 생산하여 배터리 제조 비용 절감에 기여하고 있습니다.\\\\n\\\\n## 3. 최근 동향\\\\n피엔티는 2025년까지 55명의 인력 충원과 1000억원의 투자를 통해 구미 하이테크밸리에 양극활물질 양산 공장을 건설할 계획입니다. 이를 통해 밸류체인을 구축하고 경쟁력을 강화할 예정입니다.\\\\n\\\\n## 4. 주가 전망\\\\n피엔티는 이차전지 장비주 대장주로서, 셀 업체들과의 협력을 통해 지속적인 성장이 기대됩니다.\\\\n\\\\n## 5. 참고 자료\\\\n- [(종목공부) 피엔티 : 네이버 블로그](https://blog.naver.com/mindy0103/223349748240?viewType=pc)\\\\n- [피엔티 주가 전망 2차전지장비주 대장주, 셀 업체들과 다른 ...](https://blog.naver.com/nasiba5083/223506860190?viewType=pc)\\\\n- [피엔티 주가 전망; 피엔티머티리얼즈에 무슨 일이? - 네이버블로그](https://blog.naver.com/make_money_big/223563063299?fromRss=true&trackingCode=rss)\\\\n- [보유종목점검 - 1. 피엔티 : 네이버 블로그](https://blog.naver.com/chlbest/223714149861)\\\\n- [피엔티(137400) - 네이버 금융 - NAVER](https://finance.naver.com/item/main.nhn?code=137400)\", \"filename\": \"피엔티_레포트.pdf\"}', name='write_pdf', id='5c8ddf6f-f7e8-4fb6-8652-a6911c1dbc0a', tool_call_id='call_hwFmb4hJhQR7r7z1SJi4Tpyn'), 'messages': [HumanMessage(content='1+1은 뭔가요?', additional_kwargs={}, response_metadata={}, id='8f462111-46d2-4d4a-bf37-be279cb54d9d'), AIMessage(content='1+1은 2입니다.', additional_kwargs={'refusal': None}, response_metadata={'token_usage': {'completion_tokens': 9, 'prompt_tokens': 78, 'total_tokens': 87, 'completion_tokens_details': {'accepted_prediction_tokens': 0, 'audio_tokens': 0, 'reasoning_tokens': 0, 'rejected_prediction_tokens': 0}, 'prompt_tokens_details': {'audio_tokens': 0, 'cached_tokens': 0}}, 'model_name': 'gpt-4o-mini-2024-07-18', 'system_fingerprint': 'fp_bbfba58e46', 'finish_reason': 'stop', 'logprobs': None}, id='run-bee41725-7fd1-4d96-b2f3-ff651e0ca7f2-0', usage_metadata={'input_tokens': 78, 'output_tokens': 9, 'total_tokens': 87, 'input_token_details': {'audio': 0, 'cache_read': 0}, 'output_token_details': {'audio': 0, 'reasoning': 0}}), HumanMessage(content='피엔티에 대해 조사해서 레포트 작성해주세요. pdf형태로 저장해주세요.', additional_kwargs={}, response_metadata={}, id='83d4fe45-083e-4986-a7cf-cdaaa49b4f87'), AIMessage(content='', additional_kwargs={'tool_calls': [{'id': 'call_TXlHvuwOzWWvn5Ixv2gG60KF', 'function': {'arguments': '{\"query\":\"피엔티\"}', 'name': 'tavily_search_results_json'}, 'type': 'function'}], 'refusal': None}, response_metadata={'token_usage': {'completion_tokens': 21, 'prompt_tokens': 978, 'total_tokens': 999, 'completion_tokens_details': {'accepted_prediction_tokens': 0, 'audio_tokens': 0, 'reasoning_tokens': 0, 'rejected_prediction_tokens': 0}, 'prompt_tokens_details': {'audio_tokens': 0, 'cached_tokens': 0}}, 'model_name': 'gpt-4o-mini-2024-07-18', 'system_fingerprint': 'fp_27322b4e16', 'finish_reason': 'tool_calls', 'logprobs': None}, id='run-25998ba8-8e63-4ff2-9775-2839d4c9dd45-0', tool_calls=[{'name': 'tavily_search_results_json', 'args': {'query': '피엔티'}, 'id': 'call_TXlHvuwOzWWvn5Ixv2gG60KF', 'type': 'tool_call'}], usage_metadata={'input_tokens': 978, 'output_tokens': 21, 'total_tokens': 999, 'input_token_details': {'audio': 0, 'cache_read': 0}, 'output_token_details': {'audio': 0, 'reasoning': 0}}), ToolMessage(content='[{\"title\": \"(종목공부) 피엔티 : 네이버 블로그\", \"url\": \"https://blog.naver.com/mindy0103/223349748240?viewType=pc\", \"content\": \"피엔티는 고도의 기술을 요구하는 박막화에 특화된 이차전지용 소재,전지박 등을 생산하는 장비를 주로 생산하고 있습니다. □ 기업개요. 피엔티는 Roll\", \"score\": 0.7336813}, {\"title\": \"피엔티 주가 전망 2차전지장비주 대장주, 셀 업체들과 다른 ...\", \"url\": \"https://blog.naver.com/nasiba5083/223506860190?viewType=pc\", \"content\": \"피엔티는 일명 롤투롤(Roll-to-Roll) 기술이라는 모재를 회전롤에 감으면서 소정의 물질을 도포하여 새로운 기능을 부가하는 공법을 기반으로 성장하고\", \"score\": 0.6453216}, {\"title\": \"피엔티 주가 전망; 피엔티머티리얼즈에 무슨 일이? - 네이버블로그\", \"url\": \"https://blog.naver.com/make_money_big/223563063299?fromRss=true&trackingCode=rss\", \"content\": \"피엔티는 2025년까지 55명의 인력충원과 1000억원의 투자를 해서 구미하이테크밸리에 양극활물질 양산 공장을 건설한다. \\u200b. 피엔티는 밸류체인을 구축\", \"score\": 0.49978086}, {\"title\": \"보유종목점검 - 1. 피엔티 : 네이버 블로그\", \"url\": \"https://blog.naver.com/chlbest/223714149861\", \"content\": \"또한, 우리는 경쟁 우위를 통해 고객의 배터리 제조 비용 절감에 기여하고자 노력합니다. PNT의 미래 핵심 강점은 건식 코팅 기술에 있습니다. 우리는\", \"score\": 0.4511578}, {\"title\": \"피엔티(137400) - 네이버 금융 - NAVER\", \"url\": \"https://finance.naver.com/item/main.nhn?code=137400\", \"content\": \"No information is available for this page.\", \"score\": 0.42048118}]', name='tavily_search_results_json', id='4d745436-0800-4c7f-9fdb-5116d94d30f0', tool_call_id='call_TXlHvuwOzWWvn5Ixv2gG60KF', artifact={'query': '피엔티', 'follow_up_questions': None, 'answer': None, 'images': [], 'results': [{'url': 'https://blog.naver.com/mindy0103/223349748240?viewType=pc', 'title': '(종목공부) 피엔티 : 네이버 블로그', 'content': '피엔티는 고도의 기술을 요구하는 박막화에 특화된 이차전지용 소재,전지박 등을 생산하는 장비를 주로 생산하고 있습니다. □ 기업개요. 피엔티는 Roll', 'score': 0.7336813, 'raw_content': None}, {'url': 'https://blog.naver.com/nasiba5083/223506860190?viewType=pc', 'title': '피엔티 주가 전망 2차전지장비주 대장주, 셀 업체들과 다른 ...', 'content': '피엔티는 일명 롤투롤(Roll-to-Roll) 기술이라는 모재를 회전롤에 감으면서 소정의 물질을 도포하여 새로운 기능을 부가하는 공법을 기반으로 성장하고', 'score': 0.6453216, 'raw_content': None}, {'url': 'https://blog.naver.com/make_money_big/223563063299?fromRss=true&trackingCode=rss', 'title': '피엔티 주가 전망; 피엔티머티리얼즈에 무슨 일이? - 네이버블로그', 'content': '피엔티는 2025년까지 55명의 인력충원과 1000억원의 투자를 해서 구미하이테크밸리에 양극활물질 양산 공장을 건설한다. \\u200b. 피엔티는 밸류체인을 구축', 'score': 0.49978086, 'raw_content': None}, {'url': 'https://blog.naver.com/chlbest/223714149861', 'title': '보유종목점검 - 1. 피엔티 : 네이버 블로그', 'content': '또한, 우리는 경쟁 우위를 통해 고객의 배터리 제조 비용 절감에 기여하고자 노력합니다. PNT의 미래 핵심 강점은 건식 코팅 기술에 있습니다. 우리는', 'score': 0.4511578, 'raw_content': None}, {'url': 'https://finance.naver.com/item/main.nhn?code=137400', 'title': '피엔티(137400) - 네이버 금융 - NAVER', 'content': 'No information is available for this page.', 'score': 0.42048118, 'raw_content': None}], 'response_time': 3.18}), AIMessage(content='', additional_kwargs={'tool_calls': [{'id': 'call_hwFmb4hJhQR7r7z1SJi4Tpyn', 'function': {'arguments': '{\"content\":\"# 피엔티(PNT) 레포트\\\\n\\\\n## 1. 기업 개요\\\\n피엔티는 고도의 기술을 요구하는 박막화에 특화된 이차전지용 소재 및 전지박 등을 생산하는 장비를 주로 생산하는 기업입니다. 이 회사는 Roll-to-Roll 기술을 기반으로 하여 새로운 기능을 부가하는 공법을 통해 성장하고 있습니다.\\\\n\\\\n## 2. 주요 기술 및 제품\\\\n- **Roll-to-Roll 기술**: 이 기술은 모재를 회전롤에 감으면서 소정의 물질을 도포하여 새로운 기능을 부가하는 공법입니다.\\\\n- **이차전지용 소재**: 피엔티는 이차전지의 핵심 소재를 생산하여 배터리 제조 비용 절감에 기여하고 있습니다.\\\\n\\\\n## 3. 최근 동향\\\\n피엔티는 2025년까지 55명의 인력 충원과 1000억원의 투자를 통해 구미 하이테크밸리에 양극활물질 양산 공장을 건설할 계획입니다. 이를 통해 밸류체인을 구축하고 경쟁력을 강화할 예정입니다.\\\\n\\\\n## 4. 주가 전망\\\\n피엔티는 이차전지 장비주 대장주로서, 셀 업체들과의 협력을 통해 지속적인 성장이 기대됩니다.\\\\n\\\\n## 5. 참고 자료\\\\n- [(종목공부) 피엔티 : 네이버 블로그](https://blog.naver.com/mindy0103/223349748240?viewType=pc)\\\\n- [피엔티 주가 전망 2차전지장비주 대장주, 셀 업체들과 다른 ...](https://blog.naver.com/nasiba5083/223506860190?viewType=pc)\\\\n- [피엔티 주가 전망; 피엔티머티리얼즈에 무슨 일이? - 네이버블로그](https://blog.naver.com/make_money_big/223563063299?fromRss=true&trackingCode=rss)\\\\n- [보유종목점검 - 1. 피엔티 : 네이버 블로그](https://blog.naver.com/chlbest/223714149861)\\\\n- [피엔티(137400) - 네이버 금융 - NAVER](https://finance.naver.com/item/main.nhn?code=137400)\",\"filename\":\"피엔티_레포트.pdf\"}', 'name': 'write_pdf'}, 'type': 'function'}], 'refusal': None}, response_metadata={'token_usage': {'completion_tokens': 542, 'prompt_tokens': 2616, 'total_tokens': 3158, 'completion_tokens_details': {'accepted_prediction_tokens': 0, 'audio_tokens': 0, 'reasoning_tokens': 0, 'rejected_prediction_tokens': 0}, 'prompt_tokens_details': {'audio_tokens': 0, 'cached_tokens': 0}}, 'model_name': 'gpt-4o-mini-2024-07-18', 'system_fingerprint': 'fp_bbfba58e46', 'finish_reason': 'tool_calls', 'logprobs': None}, id='run-1d1ca9d5-3abb-4bae-8c7f-c02ea7fb842e-0', tool_calls=[{'name': 'write_pdf', 'args': {'content': '# 피엔티(PNT) 레포트\\n\\n## 1. 기업 개요\\n피엔티는 고도의 기술을 요구하는 박막화에 특화된 이차전지용 소재 및 전지박 등을 생산하는 장비를 주로 생산하는 기업입니다. 이 회사는 Roll-to-Roll 기술을 기반으로 하여 새로운 기능을 부가하는 공법을 통해 성장하고 있습니다.\\n\\n## 2. 주요 기술 및 제품\\n- **Roll-to-Roll 기술**: 이 기술은 모재를 회전롤에 감으면서 소정의 물질을 도포하여 새로운 기능을 부가하는 공법입니다.\\n- **이차전지용 소재**: 피엔티는 이차전지의 핵심 소재를 생산하여 배터리 제조 비용 절감에 기여하고 있습니다.\\n\\n## 3. 최근 동향\\n피엔티는 2025년까지 55명의 인력 충원과 1000억원의 투자를 통해 구미 하이테크밸리에 양극활물질 양산 공장을 건설할 계획입니다. 이를 통해 밸류체인을 구축하고 경쟁력을 강화할 예정입니다.\\n\\n## 4. 주가 전망\\n피엔티는 이차전지 장비주 대장주로서, 셀 업체들과의 협력을 통해 지속적인 성장이 기대됩니다.\\n\\n## 5. 참고 자료\\n- [(종목공부) 피엔티 : 네이버 블로그](https://blog.naver.com/mindy0103/223349748240?viewType=pc)\\n- [피엔티 주가 전망 2차전지장비주 대장주, 셀 업체들과 다른 ...](https://blog.naver.com/nasiba5083/223506860190?viewType=pc)\\n- [피엔티 주가 전망; 피엔티머티리얼즈에 무슨 일이? - 네이버블로그](https://blog.naver.com/make_money_big/223563063299?fromRss=true&trackingCode=rss)\\n- [보유종목점검 - 1. 피엔티 : 네이버 블로그](https://blog.naver.com/chlbest/223714149861)\\n- [피엔티(137400) - 네이버 금융 - NAVER](https://finance.naver.com/item/main.nhn?code=137400)', 'filename': '피엔티_레포트.pdf'}, 'id': 'call_hwFmb4hJhQR7r7z1SJi4Tpyn', 'type': 'tool_call'}], usage_metadata={'input_tokens': 2616, 'output_tokens': 542, 'total_tokens': 3158, 'input_token_details': {'audio': 0, 'cache_read': 0}, 'output_token_details': {'audio': 0, 'reasoning': 0}}), ToolMessage(content='{\"content\": \"# 피엔티(PNT) 레포트\\\\n\\\\n## 1. 기업 개요\\\\n피엔티는 고도의 기술을 요구하는 박막화에 특화된 이차전지용 소재 및 전지박 등을 생산하는 장비를 주로 생산하는 기업입니다. 이 회사는 Roll-to-Roll 기술을 기반으로 하여 새로운 기능을 부가하는 공법을 통해 성장하고 있습니다.\\\\n\\\\n## 2. 주요 기술 및 제품\\\\n- **Roll-to-Roll 기술**: 이 기술은 모재를 회전롤에 감으면서 소정의 물질을 도포하여 새로운 기능을 부가하는 공법입니다.\\\\n- **이차전지용 소재**: 피엔티는 이차전지의 핵심 소재를 생산하여 배터리 제조 비용 절감에 기여하고 있습니다.\\\\n\\\\n## 3. 최근 동향\\\\n피엔티는 2025년까지 55명의 인력 충원과 1000억원의 투자를 통해 구미 하이테크밸리에 양극활물질 양산 공장을 건설할 계획입니다. 이를 통해 밸류체인을 구축하고 경쟁력을 강화할 예정입니다.\\\\n\\\\n## 4. 주가 전망\\\\n피엔티는 이차전지 장비주 대장주로서, 셀 업체들과의 협력을 통해 지속적인 성장이 기대됩니다.\\\\n\\\\n## 5. 참고 자료\\\\n- [(종목공부) 피엔티 : 네이버 블로그](https://blog.naver.com/mindy0103/223349748240?viewType=pc)\\\\n- [피엔티 주가 전망 2차전지장비주 대장주, 셀 업체들과 다른 ...](https://blog.naver.com/nasiba5083/223506860190?viewType=pc)\\\\n- [피엔티 주가 전망; 피엔티머티리얼즈에 무슨 일이? - 네이버블로그](https://blog.naver.com/make_money_big/223563063299?fromRss=true&trackingCode=rss)\\\\n- [보유종목점검 - 1. 피엔티 : 네이버 블로그](https://blog.naver.com/chlbest/223714149861)\\\\n- [피엔티(137400) - 네이버 금융 - NAVER](https://finance.naver.com/item/main.nhn?code=137400)\", \"filename\": \"피엔티_레포트.pdf\"}', name='write_pdf', id='5c8ddf6f-f7e8-4fb6-8652-a6911c1dbc0a', tool_call_id='call_hwFmb4hJhQR7r7z1SJi4Tpyn'), HumanMessage(content='피엔티_레포트.pdf 파일 삭제해줘', additional_kwargs={}, response_metadata={}, id='7cd3e579-e3b9-46fc-a275-9192a28d649a')], 'tool_call': [AIMessage(content='', additional_kwargs={'tool_calls': [{'id': 'call_hwFmb4hJhQR7r7z1SJi4Tpyn', 'function': {'arguments': '{\"content\":\"# 피엔티(PNT) 레포트\\\\n\\\\n## 1. 기업 개요\\\\n피엔티는 고도의 기술을 요구하는 박막화에 특화된 이차전지용 소재 및 전지박 등을 생산하는 장비를 주로 생산하는 기업입니다. 이 회사는 Roll-to-Roll 기술을 기반으로 하여 새로운 기능을 부가하는 공법을 통해 성장하고 있습니다.\\\\n\\\\n## 2. 주요 기술 및 제품\\\\n- **Roll-to-Roll 기술**: 이 기술은 모재를 회전롤에 감으면서 소정의 물질을 도포하여 새로운 기능을 부가하는 공법입니다.\\\\n- **이차전지용 소재**: 피엔티는 이차전지의 핵심 소재를 생산하여 배터리 제조 비용 절감에 기여하고 있습니다.\\\\n\\\\n## 3. 최근 동향\\\\n피엔티는 2025년까지 55명의 인력 충원과 1000억원의 투자를 통해 구미 하이테크밸리에 양극활물질 양산 공장을 건설할 계획입니다. 이를 통해 밸류체인을 구축하고 경쟁력을 강화할 예정입니다.\\\\n\\\\n## 4. 주가 전망\\\\n피엔티는 이차전지 장비주 대장주로서, 셀 업체들과의 협력을 통해 지속적인 성장이 기대됩니다.\\\\n\\\\n## 5. 참고 자료\\\\n- [(종목공부) 피엔티 : 네이버 블로그](https://blog.naver.com/mindy0103/223349748240?viewType=pc)\\\\n- [피엔티 주가 전망 2차전지장비주 대장주, 셀 업체들과 다른 ...](https://blog.naver.com/nasiba5083/223506860190?viewType=pc)\\\\n- [피엔티 주가 전망; 피엔티머티리얼즈에 무슨 일이? - 네이버블로그](https://blog.naver.com/make_money_big/223563063299?fromRss=true&trackingCode=rss)\\\\n- [보유종목점검 - 1. 피엔티 : 네이버 블로그](https://blog.naver.com/chlbest/223714149861)\\\\n- [피엔티(137400) - 네이버 금융 - NAVER](https://finance.naver.com/item/main.nhn?code=137400)\",\"filename\":\"피엔티_레포트.pdf\"}', 'name': 'write_pdf'}, 'type': 'function'}], 'refusal': None}, response_metadata={'token_usage': {'completion_tokens': 542, 'prompt_tokens': 2616, 'total_tokens': 3158, 'completion_tokens_details': {'accepted_prediction_tokens': 0, 'audio_tokens': 0, 'reasoning_tokens': 0, 'rejected_prediction_tokens': 0}, 'prompt_tokens_details': {'audio_tokens': 0, 'cached_tokens': 0}}, 'model_name': 'gpt-4o-mini-2024-07-18', 'system_fingerprint': 'fp_bbfba58e46', 'finish_reason': 'tool_calls', 'logprobs': None}, id='run-1d1ca9d5-3abb-4bae-8c7f-c02ea7fb842e-0', tool_calls=[{'name': 'write_pdf', 'args': {'content': '# 피엔티(PNT) 레포트\\n\\n## 1. 기업 개요\\n피엔티는 고도의 기술을 요구하는 박막화에 특화된 이차전지용 소재 및 전지박 등을 생산하는 장비를 주로 생산하는 기업입니다. 이 회사는 Roll-to-Roll 기술을 기반으로 하여 새로운 기능을 부가하는 공법을 통해 성장하고 있습니다.\\n\\n## 2. 주요 기술 및 제품\\n- **Roll-to-Roll 기술**: 이 기술은 모재를 회전롤에 감으면서 소정의 물질을 도포하여 새로운 기능을 부가하는 공법입니다.\\n- **이차전지용 소재**: 피엔티는 이차전지의 핵심 소재를 생산하여 배터리 제조 비용 절감에 기여하고 있습니다.\\n\\n## 3. 최근 동향\\n피엔티는 2025년까지 55명의 인력 충원과 1000억원의 투자를 통해 구미 하이테크밸리에 양극활물질 양산 공장을 건설할 계획입니다. 이를 통해 밸류체인을 구축하고 경쟁력을 강화할 예정입니다.\\n\\n## 4. 주가 전망\\n피엔티는 이차전지 장비주 대장주로서, 셀 업체들과의 협력을 통해 지속적인 성장이 기대됩니다.\\n\\n## 5. 참고 자료\\n- [(종목공부) 피엔티 : 네이버 블로그](https://blog.naver.com/mindy0103/223349748240?viewType=pc)\\n- [피엔티 주가 전망 2차전지장비주 대장주, 셀 업체들과 다른 ...](https://blog.naver.com/nasiba5083/223506860190?viewType=pc)\\n- [피엔티 주가 전망; 피엔티머티리얼즈에 무슨 일이? - 네이버블로그](https://blog.naver.com/make_money_big/223563063299?fromRss=true&trackingCode=rss)\\n- [보유종목점검 - 1. 피엔티 : 네이버 블로그](https://blog.naver.com/chlbest/223714149861)\\n- [피엔티(137400) - 네이버 금융 - NAVER](https://finance.naver.com/item/main.nhn?code=137400)', 'filename': '피엔티_레포트.pdf'}, 'id': 'call_hwFmb4hJhQR7r7z1SJi4Tpyn', 'type': 'tool_call'}], usage_metadata={'input_tokens': 2616, 'output_tokens': 542, 'total_tokens': 3158, 'input_token_details': {'audio': 0, 'cache_read': 0}, 'output_token_details': {'audio': 0, 'reasoning': 0}})]}\n",
      "\n",
      "\n",
      "=== select ===\n",
      "\n",
      "\n",
      "{'messages': AIMessage(content='', additional_kwargs={'tool_calls': [{'id': 'call_KAjVCCY4Q2sdyCtq3Usp1AvK', 'function': {'arguments': '{\"file_path\":\"피엔티_레포트.pdf\"}', 'name': 'file_delete'}, 'type': 'function'}], 'refusal': None}, response_metadata={'token_usage': {'completion_tokens': 23, 'prompt_tokens': 5683, 'total_tokens': 5706, 'completion_tokens_details': {'accepted_prediction_tokens': 0, 'audio_tokens': 0, 'reasoning_tokens': 0, 'rejected_prediction_tokens': 0}, 'prompt_tokens_details': {'audio_tokens': 0, 'cached_tokens': 0}}, 'model_name': 'gpt-4o-mini-2024-07-18', 'system_fingerprint': 'fp_bbfba58e46', 'finish_reason': 'tool_calls', 'logprobs': None}, id='run-04d84564-9490-45bb-966c-24dd1c6868d6-0', tool_calls=[{'name': 'file_delete', 'args': {'file_path': '피엔티_레포트.pdf'}, 'id': 'call_KAjVCCY4Q2sdyCtq3Usp1AvK', 'type': 'tool_call'}], usage_metadata={'input_tokens': 5683, 'output_tokens': 23, 'total_tokens': 5706, 'input_token_details': {'audio': 0, 'cache_read': 0}, 'output_token_details': {'audio': 0, 'reasoning': 0}}), 'tool_call': [AIMessage(content='', additional_kwargs={'tool_calls': [{'id': 'call_KAjVCCY4Q2sdyCtq3Usp1AvK', 'function': {'arguments': '{\"file_path\":\"피엔티_레포트.pdf\"}', 'name': 'file_delete'}, 'type': 'function'}], 'refusal': None}, response_metadata={'token_usage': {'completion_tokens': 23, 'prompt_tokens': 5683, 'total_tokens': 5706, 'completion_tokens_details': {'accepted_prediction_tokens': 0, 'audio_tokens': 0, 'reasoning_tokens': 0, 'rejected_prediction_tokens': 0}, 'prompt_tokens_details': {'audio_tokens': 0, 'cached_tokens': 0}}, 'model_name': 'gpt-4o-mini-2024-07-18', 'system_fingerprint': 'fp_bbfba58e46', 'finish_reason': 'tool_calls', 'logprobs': None}, id='run-04d84564-9490-45bb-966c-24dd1c6868d6-0', tool_calls=[{'name': 'file_delete', 'args': {'file_path': '피엔티_레포트.pdf'}, 'id': 'call_KAjVCCY4Q2sdyCtq3Usp1AvK', 'type': 'tool_call'}], usage_metadata={'input_tokens': 5683, 'output_tokens': 23, 'total_tokens': 5706, 'input_token_details': {'audio': 0, 'cache_read': 0}, 'output_token_details': {'audio': 0, 'reasoning': 0}})]}\n",
      "\n",
      "\n",
      "=== tools ===\n",
      "\n",
      "\n",
      "{'messages': [ToolMessage(content='File deleted successfully: 피엔티_레포트.pdf.', name='file_delete', id='d17446db-828a-4e54-aedf-68779075886f', tool_call_id='call_KAjVCCY4Q2sdyCtq3Usp1AvK')]}\n",
      "\n",
      "\n",
      "=== response ===\n",
      "\n",
      "\n",
      "{'answer': ToolMessage(content='File deleted successfully: 피엔티_레포트.pdf.', name='file_delete', id='d17446db-828a-4e54-aedf-68779075886f', tool_call_id='call_KAjVCCY4Q2sdyCtq3Usp1AvK')}\n"
     ]
    }
   ],
   "source": [
    "query = \"피엔티_레포트.pdf 파일 삭제해줘\"\n",
    "\n",
    "streaming(query, config)"
   ]
  },
  {
   "cell_type": "code",
   "execution_count": 243,
   "metadata": {},
   "outputs": [
    {
     "name": "stdout",
     "output_type": "stream",
     "text": [
      "\n",
      "\n",
      "=== history_node ===\n",
      "\n",
      "\n",
      "{'answer': '답변 없음', 'tool_call': '사용된 도구 없음'}\n",
      "\n",
      "\n",
      "=== select ===\n",
      "\n",
      "\n",
      "{'messages': AIMessage(content='', additional_kwargs={'tool_calls': [{'id': 'call_lsRs63uY9YJDvZ6VkNOmkbVM', 'function': {'arguments': '{\"file_path\":\"./files/pda1.pdf\"}', 'name': 'read_pdf'}, 'type': 'function'}], 'refusal': None}, response_metadata={'token_usage': {'completion_tokens': 21, 'prompt_tokens': 446, 'total_tokens': 467, 'completion_tokens_details': {'accepted_prediction_tokens': 0, 'audio_tokens': 0, 'reasoning_tokens': 0, 'rejected_prediction_tokens': 0}, 'prompt_tokens_details': {'audio_tokens': 0, 'cached_tokens': 0}}, 'model_name': 'gpt-4o-mini-2024-07-18', 'system_fingerprint': 'fp_27322b4e16', 'finish_reason': 'tool_calls', 'logprobs': None}, id='run-f40d8cb4-5f68-45e0-8bdf-fbb18bd056ef-0', tool_calls=[{'name': 'read_pdf', 'args': {'file_path': './files/pda1.pdf'}, 'id': 'call_lsRs63uY9YJDvZ6VkNOmkbVM', 'type': 'tool_call'}], usage_metadata={'input_tokens': 446, 'output_tokens': 21, 'total_tokens': 467, 'input_token_details': {'audio': 0, 'cache_read': 0}, 'output_token_details': {'audio': 0, 'reasoning': 0}}), 'tool_call': [AIMessage(content='', additional_kwargs={'tool_calls': [{'id': 'call_lsRs63uY9YJDvZ6VkNOmkbVM', 'function': {'arguments': '{\"file_path\":\"./files/pda1.pdf\"}', 'name': 'read_pdf'}, 'type': 'function'}], 'refusal': None}, response_metadata={'token_usage': {'completion_tokens': 21, 'prompt_tokens': 446, 'total_tokens': 467, 'completion_tokens_details': {'accepted_prediction_tokens': 0, 'audio_tokens': 0, 'reasoning_tokens': 0, 'rejected_prediction_tokens': 0}, 'prompt_tokens_details': {'audio_tokens': 0, 'cached_tokens': 0}}, 'model_name': 'gpt-4o-mini-2024-07-18', 'system_fingerprint': 'fp_27322b4e16', 'finish_reason': 'tool_calls', 'logprobs': None}, id='run-f40d8cb4-5f68-45e0-8bdf-fbb18bd056ef-0', tool_calls=[{'name': 'read_pdf', 'args': {'file_path': './files/pda1.pdf'}, 'id': 'call_lsRs63uY9YJDvZ6VkNOmkbVM', 'type': 'tool_call'}], usage_metadata={'input_tokens': 446, 'output_tokens': 21, 'total_tokens': 467, 'input_token_details': {'audio': 0, 'cache_read': 0}, 'output_token_details': {'audio': 0, 'reasoning': 0}})]}\n",
      "\n",
      "\n",
      "=== tools ===\n",
      "\n",
      "\n",
      "{'messages': [ToolMessage(content='아이펠 프로덕트 데이터 분석가 기\\n1\\n해당 사업은 K\\ue088Digital Training의 일환으로 고용노동부에서 주관하고 있습니다.\\n저희는 모두의연구소 아이펠캠퍼스팀이며 해당 훈련을 운영하고 있습니다.\\n아이펠이란\\n?\\n아이펠은 누구나 인공지능을 학습할 수 있도록 설계된 교육 프로그램으로 코어, 리서치, 데이터사이언\\n티스트, 프로덕트 데이터 분석가 과정 등이 있습니다.\\n코어 과정에서는 인공지능 모델 제작 및 어플리케이션 제작까지 진행하게 됩니다.\\n리서치 과정에서는 대학원 수준의 인공지능 지식을 배울 수 있고 논문을 작성할 수 있는 수준까지 학습\\n하게 됩니다.\\n데이터 사이언티스트 과정은 실무 기반의 과정으로 데이터 분석, 머신러닝 및 딥러닝 모델 제작까지 담\\n당하며 이를 통해 비즈니스 인사이트를 도출하는 방법 등을 배우게 됩니다.\\n프로덕트 데이터 분석가 과정은 마케팅 지표 분석, BI툴 활용, 통계 분석, 데이터 분석 등을 배우며 기\\n업의 비즈니스 의사결정에 기여하는 방법을 배우게 됩니다.\\n개요\\n모두의연구소 프로덕트 데이터 분석가 과정\\n실무 기반 프로젝트로 학습하고 현직자 세미나로 이론과 실무를, 현업 멘토와 포트폴리오 완성까지!\\n교육명\\n모두의연구소 아이펠 프로덕트 데이터 분석가 과정 1기\\n모집 기간\\n2024. 11. 18 - 2024. 12. 24, 약 1달간 모집 예정입니다.\\n교육 기간\\n2024. 12. 30 - 25. 06. 26, 약 6개월이며 120일 과정입니다.\\n교육 시간\\n평일 10:00 - 18:00, 주말은 운영하지 않습니다.\\n교육 환경\\n아이펠 프로덕트 데이터 분석가 1기 1\\n100% 실시간 온라인 과정 (타 KDT훈련 및 직장 병행 불가)\\n홈페이지\\n모두의연구소 링크 (modulabs.co.kr)\\n아이펠 데이터사이언티스트 과정 링크 (https://camp.modulabs.co.kr/pda)\\n주소\\n모두의연구소 강남 캠퍼스 (서울 강남구 강남대로 324 역삼디오슈페리움 2층 모두의연구소)\\nhttps://naver.me/FslREXGR\\n모두의연구소 역삼 캠퍼스 (서울 강남구 역삼로 156 태광빌딩 2층, 4층)\\nhttps://naver.me/GMvc9Hv5\\nFAQ\\n지원 요건\\n[ ]\\nQ1. 재직중(또는 재학중)인데 지원할 수 있는지 궁금해요!\\nA1. 아이펠 교육과정은 약 6개월 동안 월-금, 10:00-18:00 풀타임으로 운영되고 있어 직장 또는 학교\\n와 병행이 어렵습니다. 내일배움카드 발급이 가능한 구직자 및 대학교 졸업 예정자를 주요 대상자로 모\\n집, 선발하고 있으니 참여 가능 사항을 꼭 확인해주세요!\\nQ2. 이전에 K\\ue088Digital Training을 수강한 이력이 있는데 중복 수강이 가능한가요?\\nA2. K\\ue088Digital Training 과정은 생애 1회 지원되는 과정으로 중복 수강이 어렵습니다. (중도 포기 포\\n함) K\\ue088Digital Training이 아닌 K\\ue088Digital Credit과 같은 다른 국비지원 교육이라면 중복 수강이 가능\\n합니다.\\nQ3. 현재 해외에 체류 중인데 교육에 참여할 수 있나요?\\nA3. 아이펠 교육 과정은 ‘고용노동부ʼ와 함께하는 취업 또는 역량 강화를 위한 ‘직업 훈련ʼ 과정입니다.\\n해당 과정이 온라인으로 진행되더라도 해외 체류, 여행, 근로 등의 사유로 과정에 성실히 참여하기 어\\n려운 경우 훈련의 목적이 이루어지기 어렵다고 판단하여 수강을 제한하고 있습니다.\\nQ4. 내일배움카드는 언제까지 발급 되어야 하나요?\\nA4. 내일배움카드 실수령 후 다음 날 훈련생 등록이 가능하여 개강일 전일(평일 기준)까지 발급이 가능\\n해야 합니다. 가능한 아이펠 서류제출과 함께 바로 내일배움카드 신청을 해주시는 게 가장 안전합니다!\\n부득이 하게 발급이 늦어지는 경우, 교육 시작 후 4일 까지 실수령 하여야 최종 등록 후 수강이 가능이\\n아이펠 프로덕트 데이터 분석가 1기 2\\n가능하니 미리 발급받고 편하게 입학 준비하세요! (*개강일 이후 등록이 진행 되는 경우, 결석 또는 지\\n각 처리 될 수 있습니다.)\\nQ5. 지원하는데 나이 제한이 있나요?\\nA5. 교육 신청에 나이 제한을 두고 있지 않습니다. 다만, 교육 기간 동안 정말 성실하게 참여할 수 있는\\n지, 전문적인 기술 습득을 위해 집중할 수 있는지, 학습의 의지가 명확한지, 아이펠만의 교육 방식과 맞\\n는지 등 지원 서류와 인터뷰(서류 합격 후) 과정에서 열정을 확인하며, 신중히 선발하고 있습니다.\\nQ6. 해당 분야에 관심이 생겨 지원했는데 관련 지식이 없어도 수강할 수 있을까요?\\nA6. 프로덕트 데이터 분석가 과정 참여를 위해 파이썬(Python) 언어에 대한 선수 지식이 필요합니다.\\n파이썬에 자신 없는 분들은 미리 지원하셔서 ‘프리 아이펠ʼ 프로그램을 통해 학습해보실 수 있습니다.\\n(*프리 아이펠 : 입학 전 아이펠의 학습 문화를 체험하고 사전 지식을 습득하는 프로그램으로 아이펠\\n퍼실리테이터가 함께합니다! )\\nQ7. 퇴사(이직)하고 들을까 고민 중입니다. 들을 만한 가치가 있을까요?\\nA7. 단언하긴 어렵지만 본인이 원한다면 충분한 가치가 있다고 생각합니다. 다만, 이러한 의견은 모두\\n다를 수 있기에 신중하게 결정하시길 바라겠습니다. 결정에 도움이 될 정보를 ds.aiffel.io에 담아뒀으\\n니 꼼꼼하게 확인하시고 현명한 결정을 내리시길 바라겠습니다.\\n학습 장소\\n[ ]\\nQ8. 과정은 모두 온라인으로만 진행 되나요?\\nA8. 아이펠 교육과정은 100% 실시간 온라인 과정으로 화상 플랫폼(ZEP)에서 진행됩니다. 희망하시\\n는 경우, 오프라인 학습 공간(모두의연구소 강남/역삼캠퍼스)을 무료로 제공해드리고 있습니다. 공간\\n사용방법은 입학 후 별도로 안내드리겠습니다.\\n학습 방식\\n[ ]\\nQ9. 혼자서 동영상 강의를 듣는 건가요?\\nA9. 아이펠 교육은 학습시간(10:00-18:00)동안 화상 플랫폼(ZEP)에서 실시간 양방향으로 진행됩니\\n다. 실시간 양방향 교육은 특정 학습 시간에 실시간으로 퍼실리테이터, 다른 훈련생들과 함께 토론, 프\\n로젝트 실습 등을 진행하는 것을 의미합니다. 원활한 학습을 위해 소음이 발생하는 곳(ex.카페) 또는\\n대화가 어려운 환경(ex.독서실)은 가급적 피해주시고, 소통이 가능한 환경에서 참여하시길 적극 권장\\n합니다!\\nQ10. 어떤 것들을 배우나요?\\n아이펠 프로덕트 데이터 분석가 1기 3\\nA10. 아이펠 프로덕트 데이터 분석가 과정에서는 BigQuery, 비정제데이터, 통계, 머신러닝, Google\\nAnalytics, Tableau, 마케팅 분석 등을 다루고 있습니다. 배운 내용들을 토대로 미니해커톤인 데이터\\n톤과 졸업 프로젝트인 아이펠톤을 진행하게 됩니다.\\nQ11. 블로그나 SNS를 꼭 해야하나요?\\nA11. 꼭 해야하는 것은 아닙니다. 다만, 블로그나 SNS는 스스로 성장하는데에 도움을 주며 추후에는\\n남들에게 나를 표현하기 좋은 방법으로 아이펠에서는 적극 권장드리고 있습니다. 도움이 필요하시다면\\n퍼실리테이터가 도와드릴테니 걱정마세요!\\nQ12. 학습량이 많은가요?\\nA12. 학습량이 적다고 말씀드리기는 어렵습니다. 비전공자부터 전공자까지 모두 배움의 정도에 차이가\\n있고 상당한 수준까지 학습이 진행되기에 개인 공부가 거의 필수로 작용할 수 있습니다. 다만, 이러한\\n과정을 지나고나면 매우 성장해있는 본인의 모습을 보실 수 있으실겁니다. 화이팅!\\n훈련 환경\\n[ ]\\nQ13. 교육 중 카메라를 꼭 켜야하나요?\\nA13. 네 그럼요! 액티브 러닝을 원칙으로 일방향적인 주입식 교육이 아닌, 함께 토론하고 문제를 해결\\n하는 자기주도형 커뮤니티 교육의 본질은 소통입니다! 본인 참여 확인과 실시간 양방향 교육 진행에 따\\n라 카메라와 마이크 구동이 필수적으로 이루어져야 합니다.\\nQ14. 개인 PC 사양은 어느 정도로 갖추어야 하나요?\\nA14. 아이펠 교육 과정은 자체 개발한 LMS에서 학습이 가능하여 인터넷 환경을 갖추어졌다면 학습이\\n가능합니다. 다만, LMS 이외에 다양한 온라인 서비스를 동시에 사용할 수 있어 저사양 PC로는 교육\\n진행이 어려울 수 있습니다. 또한, 캠퍼스에서 우분투 GPU 노트북을 대여해드릴 수 있습니다. 필요하\\n시다면 요청해주세요.\\nQ15. 졸업하면 어떤 것을 할 수 있게되나요?\\nA15. 졸업 후 데이터 분석가, PM/PO, 그로스마케터 등으로 취업할 수 있습니다.\\nQ16. 졸업 프로젝트로는 어떤 걸 할 수 있나요?\\nA16. 데이터 기반 투자 전략과 머신러닝 투자 모델 구축, 맞춤형 게임 추천 시스템 제작, 온체인 데이터\\n분석을 통한 데이터 기반 의사 결정 지원 등 여러가지 프로젝트가 진행되었습니다.\\n선발 절차\\n[ ]\\n아이펠 프로덕트 데이터 분석가 1기 4\\nQ17. 서류를 제출 했어요. 결과는 언제 알 수 있나요?\\nA17. 제출하신 지원서는 검토 후 2-3일 이내에 결과를 안내하고 있습니다. ‘지원서 합격 → 온라인 인\\n터뷰 → 최종 선발ʼ의 절차로 진행되고 있어 최종 합격 및 등록까지 일정 기간 소요될 수 있으니 조금만\\n기다려주세요!\\n훈련비\\n[ ]\\nQ18. 등록금(훈련비)은 정말 무료인가요?\\nA18. 내일배움카드 발급이 가능하다면 100% 무료로 입학이 가능합니다. 단, 잔액이 1원이라도 있어야\\n하니 꼭 확인해주세요!\\n취업 지원\\n[ ]\\nQ19. 졸업 이후에 취업까지 도와주시나요?\\nA19. 물론입니다. 졸업 후의 성장 근력을 키워주는 졸업생 케어도 함께 진행하고 있습니다. 멘토와의\\n취업 코칭, 원티드 취업 프로그램 제휴 서비스, 면접 코칭과 같은 다양한 시스템을 운영 중에 있습니다.\\n프로덕트 데이터 분석가란\\n[ ?]\\n프로덕트 데이터 분석가 의 필수 역량은\\n“ ˮ ?\\n데이터 해석력, 논리적 사고, A/B 테스트 설계 및 분석 역량을 중요하게 평가받습니다.\\n이 외에도 유저 행동 분석, 퍼널 분석, 실험 설계, KPI 모니터링, 커뮤니케이션 능력 등 다양한 역량\\n이 요구됩니다.\\n프로덕트 데이터 분석가 의 목표\\n“ ˮ\\n제품 개선을 위한 유저 행동 인사이트 도출\\n데이터 기반 의사결정 지원\\n실험 및 분석을 통한 기능 개선 효과 검증\\n프로덕트 데이터 분석가 의 주요 업무\\n“ ˮ\\n유저 로그 분석을 통한 행동 패턴 파악\\nA/B 테스트 및 실험 설계·분석\\n제품 지표(KPI) 모니터링 및 이상 탐지\\nPM, 디자이너, 개발자와 협업하여 기능 개선 제안\\n프로덕트 데이터 분석가 의 기술 스택\\n“ ˮ\\n아이펠 프로덕트 데이터 분석가 1기 5\\nSQL, Python\\nTableau, Looker, Amplitude 등 데이터 시각화 도구\\n통계적 실험 설계, 퍼널 분석 도구\\nGit, Jira 등 협업 도구\\n아이펠 프로덕트 데이터 분석가 1기 6', name='read_pdf', id='146c779b-6e3b-4e8e-a44f-bcf05fe0a25f', tool_call_id='call_lsRs63uY9YJDvZ6VkNOmkbVM')]}\n",
      "\n",
      "\n",
      "=== response ===\n",
      "\n",
      "\n",
      "{'answer': ToolMessage(content='아이펠 프로덕트 데이터 분석가 기\\n1\\n해당 사업은 K\\ue088Digital Training의 일환으로 고용노동부에서 주관하고 있습니다.\\n저희는 모두의연구소 아이펠캠퍼스팀이며 해당 훈련을 운영하고 있습니다.\\n아이펠이란\\n?\\n아이펠은 누구나 인공지능을 학습할 수 있도록 설계된 교육 프로그램으로 코어, 리서치, 데이터사이언\\n티스트, 프로덕트 데이터 분석가 과정 등이 있습니다.\\n코어 과정에서는 인공지능 모델 제작 및 어플리케이션 제작까지 진행하게 됩니다.\\n리서치 과정에서는 대학원 수준의 인공지능 지식을 배울 수 있고 논문을 작성할 수 있는 수준까지 학습\\n하게 됩니다.\\n데이터 사이언티스트 과정은 실무 기반의 과정으로 데이터 분석, 머신러닝 및 딥러닝 모델 제작까지 담\\n당하며 이를 통해 비즈니스 인사이트를 도출하는 방법 등을 배우게 됩니다.\\n프로덕트 데이터 분석가 과정은 마케팅 지표 분석, BI툴 활용, 통계 분석, 데이터 분석 등을 배우며 기\\n업의 비즈니스 의사결정에 기여하는 방법을 배우게 됩니다.\\n개요\\n모두의연구소 프로덕트 데이터 분석가 과정\\n실무 기반 프로젝트로 학습하고 현직자 세미나로 이론과 실무를, 현업 멘토와 포트폴리오 완성까지!\\n교육명\\n모두의연구소 아이펠 프로덕트 데이터 분석가 과정 1기\\n모집 기간\\n2024. 11. 18 - 2024. 12. 24, 약 1달간 모집 예정입니다.\\n교육 기간\\n2024. 12. 30 - 25. 06. 26, 약 6개월이며 120일 과정입니다.\\n교육 시간\\n평일 10:00 - 18:00, 주말은 운영하지 않습니다.\\n교육 환경\\n아이펠 프로덕트 데이터 분석가 1기 1\\n100% 실시간 온라인 과정 (타 KDT훈련 및 직장 병행 불가)\\n홈페이지\\n모두의연구소 링크 (modulabs.co.kr)\\n아이펠 데이터사이언티스트 과정 링크 (https://camp.modulabs.co.kr/pda)\\n주소\\n모두의연구소 강남 캠퍼스 (서울 강남구 강남대로 324 역삼디오슈페리움 2층 모두의연구소)\\nhttps://naver.me/FslREXGR\\n모두의연구소 역삼 캠퍼스 (서울 강남구 역삼로 156 태광빌딩 2층, 4층)\\nhttps://naver.me/GMvc9Hv5\\nFAQ\\n지원 요건\\n[ ]\\nQ1. 재직중(또는 재학중)인데 지원할 수 있는지 궁금해요!\\nA1. 아이펠 교육과정은 약 6개월 동안 월-금, 10:00-18:00 풀타임으로 운영되고 있어 직장 또는 학교\\n와 병행이 어렵습니다. 내일배움카드 발급이 가능한 구직자 및 대학교 졸업 예정자를 주요 대상자로 모\\n집, 선발하고 있으니 참여 가능 사항을 꼭 확인해주세요!\\nQ2. 이전에 K\\ue088Digital Training을 수강한 이력이 있는데 중복 수강이 가능한가요?\\nA2. K\\ue088Digital Training 과정은 생애 1회 지원되는 과정으로 중복 수강이 어렵습니다. (중도 포기 포\\n함) K\\ue088Digital Training이 아닌 K\\ue088Digital Credit과 같은 다른 국비지원 교육이라면 중복 수강이 가능\\n합니다.\\nQ3. 현재 해외에 체류 중인데 교육에 참여할 수 있나요?\\nA3. 아이펠 교육 과정은 ‘고용노동부ʼ와 함께하는 취업 또는 역량 강화를 위한 ‘직업 훈련ʼ 과정입니다.\\n해당 과정이 온라인으로 진행되더라도 해외 체류, 여행, 근로 등의 사유로 과정에 성실히 참여하기 어\\n려운 경우 훈련의 목적이 이루어지기 어렵다고 판단하여 수강을 제한하고 있습니다.\\nQ4. 내일배움카드는 언제까지 발급 되어야 하나요?\\nA4. 내일배움카드 실수령 후 다음 날 훈련생 등록이 가능하여 개강일 전일(평일 기준)까지 발급이 가능\\n해야 합니다. 가능한 아이펠 서류제출과 함께 바로 내일배움카드 신청을 해주시는 게 가장 안전합니다!\\n부득이 하게 발급이 늦어지는 경우, 교육 시작 후 4일 까지 실수령 하여야 최종 등록 후 수강이 가능이\\n아이펠 프로덕트 데이터 분석가 1기 2\\n가능하니 미리 발급받고 편하게 입학 준비하세요! (*개강일 이후 등록이 진행 되는 경우, 결석 또는 지\\n각 처리 될 수 있습니다.)\\nQ5. 지원하는데 나이 제한이 있나요?\\nA5. 교육 신청에 나이 제한을 두고 있지 않습니다. 다만, 교육 기간 동안 정말 성실하게 참여할 수 있는\\n지, 전문적인 기술 습득을 위해 집중할 수 있는지, 학습의 의지가 명확한지, 아이펠만의 교육 방식과 맞\\n는지 등 지원 서류와 인터뷰(서류 합격 후) 과정에서 열정을 확인하며, 신중히 선발하고 있습니다.\\nQ6. 해당 분야에 관심이 생겨 지원했는데 관련 지식이 없어도 수강할 수 있을까요?\\nA6. 프로덕트 데이터 분석가 과정 참여를 위해 파이썬(Python) 언어에 대한 선수 지식이 필요합니다.\\n파이썬에 자신 없는 분들은 미리 지원하셔서 ‘프리 아이펠ʼ 프로그램을 통해 학습해보실 수 있습니다.\\n(*프리 아이펠 : 입학 전 아이펠의 학습 문화를 체험하고 사전 지식을 습득하는 프로그램으로 아이펠\\n퍼실리테이터가 함께합니다! )\\nQ7. 퇴사(이직)하고 들을까 고민 중입니다. 들을 만한 가치가 있을까요?\\nA7. 단언하긴 어렵지만 본인이 원한다면 충분한 가치가 있다고 생각합니다. 다만, 이러한 의견은 모두\\n다를 수 있기에 신중하게 결정하시길 바라겠습니다. 결정에 도움이 될 정보를 ds.aiffel.io에 담아뒀으\\n니 꼼꼼하게 확인하시고 현명한 결정을 내리시길 바라겠습니다.\\n학습 장소\\n[ ]\\nQ8. 과정은 모두 온라인으로만 진행 되나요?\\nA8. 아이펠 교육과정은 100% 실시간 온라인 과정으로 화상 플랫폼(ZEP)에서 진행됩니다. 희망하시\\n는 경우, 오프라인 학습 공간(모두의연구소 강남/역삼캠퍼스)을 무료로 제공해드리고 있습니다. 공간\\n사용방법은 입학 후 별도로 안내드리겠습니다.\\n학습 방식\\n[ ]\\nQ9. 혼자서 동영상 강의를 듣는 건가요?\\nA9. 아이펠 교육은 학습시간(10:00-18:00)동안 화상 플랫폼(ZEP)에서 실시간 양방향으로 진행됩니\\n다. 실시간 양방향 교육은 특정 학습 시간에 실시간으로 퍼실리테이터, 다른 훈련생들과 함께 토론, 프\\n로젝트 실습 등을 진행하는 것을 의미합니다. 원활한 학습을 위해 소음이 발생하는 곳(ex.카페) 또는\\n대화가 어려운 환경(ex.독서실)은 가급적 피해주시고, 소통이 가능한 환경에서 참여하시길 적극 권장\\n합니다!\\nQ10. 어떤 것들을 배우나요?\\n아이펠 프로덕트 데이터 분석가 1기 3\\nA10. 아이펠 프로덕트 데이터 분석가 과정에서는 BigQuery, 비정제데이터, 통계, 머신러닝, Google\\nAnalytics, Tableau, 마케팅 분석 등을 다루고 있습니다. 배운 내용들을 토대로 미니해커톤인 데이터\\n톤과 졸업 프로젝트인 아이펠톤을 진행하게 됩니다.\\nQ11. 블로그나 SNS를 꼭 해야하나요?\\nA11. 꼭 해야하는 것은 아닙니다. 다만, 블로그나 SNS는 스스로 성장하는데에 도움을 주며 추후에는\\n남들에게 나를 표현하기 좋은 방법으로 아이펠에서는 적극 권장드리고 있습니다. 도움이 필요하시다면\\n퍼실리테이터가 도와드릴테니 걱정마세요!\\nQ12. 학습량이 많은가요?\\nA12. 학습량이 적다고 말씀드리기는 어렵습니다. 비전공자부터 전공자까지 모두 배움의 정도에 차이가\\n있고 상당한 수준까지 학습이 진행되기에 개인 공부가 거의 필수로 작용할 수 있습니다. 다만, 이러한\\n과정을 지나고나면 매우 성장해있는 본인의 모습을 보실 수 있으실겁니다. 화이팅!\\n훈련 환경\\n[ ]\\nQ13. 교육 중 카메라를 꼭 켜야하나요?\\nA13. 네 그럼요! 액티브 러닝을 원칙으로 일방향적인 주입식 교육이 아닌, 함께 토론하고 문제를 해결\\n하는 자기주도형 커뮤니티 교육의 본질은 소통입니다! 본인 참여 확인과 실시간 양방향 교육 진행에 따\\n라 카메라와 마이크 구동이 필수적으로 이루어져야 합니다.\\nQ14. 개인 PC 사양은 어느 정도로 갖추어야 하나요?\\nA14. 아이펠 교육 과정은 자체 개발한 LMS에서 학습이 가능하여 인터넷 환경을 갖추어졌다면 학습이\\n가능합니다. 다만, LMS 이외에 다양한 온라인 서비스를 동시에 사용할 수 있어 저사양 PC로는 교육\\n진행이 어려울 수 있습니다. 또한, 캠퍼스에서 우분투 GPU 노트북을 대여해드릴 수 있습니다. 필요하\\n시다면 요청해주세요.\\nQ15. 졸업하면 어떤 것을 할 수 있게되나요?\\nA15. 졸업 후 데이터 분석가, PM/PO, 그로스마케터 등으로 취업할 수 있습니다.\\nQ16. 졸업 프로젝트로는 어떤 걸 할 수 있나요?\\nA16. 데이터 기반 투자 전략과 머신러닝 투자 모델 구축, 맞춤형 게임 추천 시스템 제작, 온체인 데이터\\n분석을 통한 데이터 기반 의사 결정 지원 등 여러가지 프로젝트가 진행되었습니다.\\n선발 절차\\n[ ]\\n아이펠 프로덕트 데이터 분석가 1기 4\\nQ17. 서류를 제출 했어요. 결과는 언제 알 수 있나요?\\nA17. 제출하신 지원서는 검토 후 2-3일 이내에 결과를 안내하고 있습니다. ‘지원서 합격 → 온라인 인\\n터뷰 → 최종 선발ʼ의 절차로 진행되고 있어 최종 합격 및 등록까지 일정 기간 소요될 수 있으니 조금만\\n기다려주세요!\\n훈련비\\n[ ]\\nQ18. 등록금(훈련비)은 정말 무료인가요?\\nA18. 내일배움카드 발급이 가능하다면 100% 무료로 입학이 가능합니다. 단, 잔액이 1원이라도 있어야\\n하니 꼭 확인해주세요!\\n취업 지원\\n[ ]\\nQ19. 졸업 이후에 취업까지 도와주시나요?\\nA19. 물론입니다. 졸업 후의 성장 근력을 키워주는 졸업생 케어도 함께 진행하고 있습니다. 멘토와의\\n취업 코칭, 원티드 취업 프로그램 제휴 서비스, 면접 코칭과 같은 다양한 시스템을 운영 중에 있습니다.\\n프로덕트 데이터 분석가란\\n[ ?]\\n프로덕트 데이터 분석가 의 필수 역량은\\n“ ˮ ?\\n데이터 해석력, 논리적 사고, A/B 테스트 설계 및 분석 역량을 중요하게 평가받습니다.\\n이 외에도 유저 행동 분석, 퍼널 분석, 실험 설계, KPI 모니터링, 커뮤니케이션 능력 등 다양한 역량\\n이 요구됩니다.\\n프로덕트 데이터 분석가 의 목표\\n“ ˮ\\n제품 개선을 위한 유저 행동 인사이트 도출\\n데이터 기반 의사결정 지원\\n실험 및 분석을 통한 기능 개선 효과 검증\\n프로덕트 데이터 분석가 의 주요 업무\\n“ ˮ\\n유저 로그 분석을 통한 행동 패턴 파악\\nA/B 테스트 및 실험 설계·분석\\n제품 지표(KPI) 모니터링 및 이상 탐지\\nPM, 디자이너, 개발자와 협업하여 기능 개선 제안\\n프로덕트 데이터 분석가 의 기술 스택\\n“ ˮ\\n아이펠 프로덕트 데이터 분석가 1기 5\\nSQL, Python\\nTableau, Looker, Amplitude 등 데이터 시각화 도구\\n통계적 실험 설계, 퍼널 분석 도구\\nGit, Jira 등 협업 도구\\n아이펠 프로덕트 데이터 분석가 1기 6', name='read_pdf', id='146c779b-6e3b-4e8e-a44f-bcf05fe0a25f', tool_call_id='call_lsRs63uY9YJDvZ6VkNOmkbVM')}\n"
     ]
    }
   ],
   "source": [
    "config = reset_config()\n",
    "\n",
    "streaming(\"pda1.pdf파일 읽어줘\", config=config)"
   ]
  },
  {
   "cell_type": "code",
   "execution_count": 244,
   "metadata": {},
   "outputs": [
    {
     "name": "stdout",
     "output_type": "stream",
     "text": [
      "\n",
      "\n",
      "=== history_node ===\n",
      "\n",
      "\n",
      "{'query': '개강하는 날짜는 언제인가요?', 'answer': ToolMessage(content='아이펠 프로덕트 데이터 분석가 기\\n1\\n해당 사업은 K\\ue088Digital Training의 일환으로 고용노동부에서 주관하고 있습니다.\\n저희는 모두의연구소 아이펠캠퍼스팀이며 해당 훈련을 운영하고 있습니다.\\n아이펠이란\\n?\\n아이펠은 누구나 인공지능을 학습할 수 있도록 설계된 교육 프로그램으로 코어, 리서치, 데이터사이언\\n티스트, 프로덕트 데이터 분석가 과정 등이 있습니다.\\n코어 과정에서는 인공지능 모델 제작 및 어플리케이션 제작까지 진행하게 됩니다.\\n리서치 과정에서는 대학원 수준의 인공지능 지식을 배울 수 있고 논문을 작성할 수 있는 수준까지 학습\\n하게 됩니다.\\n데이터 사이언티스트 과정은 실무 기반의 과정으로 데이터 분석, 머신러닝 및 딥러닝 모델 제작까지 담\\n당하며 이를 통해 비즈니스 인사이트를 도출하는 방법 등을 배우게 됩니다.\\n프로덕트 데이터 분석가 과정은 마케팅 지표 분석, BI툴 활용, 통계 분석, 데이터 분석 등을 배우며 기\\n업의 비즈니스 의사결정에 기여하는 방법을 배우게 됩니다.\\n개요\\n모두의연구소 프로덕트 데이터 분석가 과정\\n실무 기반 프로젝트로 학습하고 현직자 세미나로 이론과 실무를, 현업 멘토와 포트폴리오 완성까지!\\n교육명\\n모두의연구소 아이펠 프로덕트 데이터 분석가 과정 1기\\n모집 기간\\n2024. 11. 18 - 2024. 12. 24, 약 1달간 모집 예정입니다.\\n교육 기간\\n2024. 12. 30 - 25. 06. 26, 약 6개월이며 120일 과정입니다.\\n교육 시간\\n평일 10:00 - 18:00, 주말은 운영하지 않습니다.\\n교육 환경\\n아이펠 프로덕트 데이터 분석가 1기 1\\n100% 실시간 온라인 과정 (타 KDT훈련 및 직장 병행 불가)\\n홈페이지\\n모두의연구소 링크 (modulabs.co.kr)\\n아이펠 데이터사이언티스트 과정 링크 (https://camp.modulabs.co.kr/pda)\\n주소\\n모두의연구소 강남 캠퍼스 (서울 강남구 강남대로 324 역삼디오슈페리움 2층 모두의연구소)\\nhttps://naver.me/FslREXGR\\n모두의연구소 역삼 캠퍼스 (서울 강남구 역삼로 156 태광빌딩 2층, 4층)\\nhttps://naver.me/GMvc9Hv5\\nFAQ\\n지원 요건\\n[ ]\\nQ1. 재직중(또는 재학중)인데 지원할 수 있는지 궁금해요!\\nA1. 아이펠 교육과정은 약 6개월 동안 월-금, 10:00-18:00 풀타임으로 운영되고 있어 직장 또는 학교\\n와 병행이 어렵습니다. 내일배움카드 발급이 가능한 구직자 및 대학교 졸업 예정자를 주요 대상자로 모\\n집, 선발하고 있으니 참여 가능 사항을 꼭 확인해주세요!\\nQ2. 이전에 K\\ue088Digital Training을 수강한 이력이 있는데 중복 수강이 가능한가요?\\nA2. K\\ue088Digital Training 과정은 생애 1회 지원되는 과정으로 중복 수강이 어렵습니다. (중도 포기 포\\n함) K\\ue088Digital Training이 아닌 K\\ue088Digital Credit과 같은 다른 국비지원 교육이라면 중복 수강이 가능\\n합니다.\\nQ3. 현재 해외에 체류 중인데 교육에 참여할 수 있나요?\\nA3. 아이펠 교육 과정은 ‘고용노동부ʼ와 함께하는 취업 또는 역량 강화를 위한 ‘직업 훈련ʼ 과정입니다.\\n해당 과정이 온라인으로 진행되더라도 해외 체류, 여행, 근로 등의 사유로 과정에 성실히 참여하기 어\\n려운 경우 훈련의 목적이 이루어지기 어렵다고 판단하여 수강을 제한하고 있습니다.\\nQ4. 내일배움카드는 언제까지 발급 되어야 하나요?\\nA4. 내일배움카드 실수령 후 다음 날 훈련생 등록이 가능하여 개강일 전일(평일 기준)까지 발급이 가능\\n해야 합니다. 가능한 아이펠 서류제출과 함께 바로 내일배움카드 신청을 해주시는 게 가장 안전합니다!\\n부득이 하게 발급이 늦어지는 경우, 교육 시작 후 4일 까지 실수령 하여야 최종 등록 후 수강이 가능이\\n아이펠 프로덕트 데이터 분석가 1기 2\\n가능하니 미리 발급받고 편하게 입학 준비하세요! (*개강일 이후 등록이 진행 되는 경우, 결석 또는 지\\n각 처리 될 수 있습니다.)\\nQ5. 지원하는데 나이 제한이 있나요?\\nA5. 교육 신청에 나이 제한을 두고 있지 않습니다. 다만, 교육 기간 동안 정말 성실하게 참여할 수 있는\\n지, 전문적인 기술 습득을 위해 집중할 수 있는지, 학습의 의지가 명확한지, 아이펠만의 교육 방식과 맞\\n는지 등 지원 서류와 인터뷰(서류 합격 후) 과정에서 열정을 확인하며, 신중히 선발하고 있습니다.\\nQ6. 해당 분야에 관심이 생겨 지원했는데 관련 지식이 없어도 수강할 수 있을까요?\\nA6. 프로덕트 데이터 분석가 과정 참여를 위해 파이썬(Python) 언어에 대한 선수 지식이 필요합니다.\\n파이썬에 자신 없는 분들은 미리 지원하셔서 ‘프리 아이펠ʼ 프로그램을 통해 학습해보실 수 있습니다.\\n(*프리 아이펠 : 입학 전 아이펠의 학습 문화를 체험하고 사전 지식을 습득하는 프로그램으로 아이펠\\n퍼실리테이터가 함께합니다! )\\nQ7. 퇴사(이직)하고 들을까 고민 중입니다. 들을 만한 가치가 있을까요?\\nA7. 단언하긴 어렵지만 본인이 원한다면 충분한 가치가 있다고 생각합니다. 다만, 이러한 의견은 모두\\n다를 수 있기에 신중하게 결정하시길 바라겠습니다. 결정에 도움이 될 정보를 ds.aiffel.io에 담아뒀으\\n니 꼼꼼하게 확인하시고 현명한 결정을 내리시길 바라겠습니다.\\n학습 장소\\n[ ]\\nQ8. 과정은 모두 온라인으로만 진행 되나요?\\nA8. 아이펠 교육과정은 100% 실시간 온라인 과정으로 화상 플랫폼(ZEP)에서 진행됩니다. 희망하시\\n는 경우, 오프라인 학습 공간(모두의연구소 강남/역삼캠퍼스)을 무료로 제공해드리고 있습니다. 공간\\n사용방법은 입학 후 별도로 안내드리겠습니다.\\n학습 방식\\n[ ]\\nQ9. 혼자서 동영상 강의를 듣는 건가요?\\nA9. 아이펠 교육은 학습시간(10:00-18:00)동안 화상 플랫폼(ZEP)에서 실시간 양방향으로 진행됩니\\n다. 실시간 양방향 교육은 특정 학습 시간에 실시간으로 퍼실리테이터, 다른 훈련생들과 함께 토론, 프\\n로젝트 실습 등을 진행하는 것을 의미합니다. 원활한 학습을 위해 소음이 발생하는 곳(ex.카페) 또는\\n대화가 어려운 환경(ex.독서실)은 가급적 피해주시고, 소통이 가능한 환경에서 참여하시길 적극 권장\\n합니다!\\nQ10. 어떤 것들을 배우나요?\\n아이펠 프로덕트 데이터 분석가 1기 3\\nA10. 아이펠 프로덕트 데이터 분석가 과정에서는 BigQuery, 비정제데이터, 통계, 머신러닝, Google\\nAnalytics, Tableau, 마케팅 분석 등을 다루고 있습니다. 배운 내용들을 토대로 미니해커톤인 데이터\\n톤과 졸업 프로젝트인 아이펠톤을 진행하게 됩니다.\\nQ11. 블로그나 SNS를 꼭 해야하나요?\\nA11. 꼭 해야하는 것은 아닙니다. 다만, 블로그나 SNS는 스스로 성장하는데에 도움을 주며 추후에는\\n남들에게 나를 표현하기 좋은 방법으로 아이펠에서는 적극 권장드리고 있습니다. 도움이 필요하시다면\\n퍼실리테이터가 도와드릴테니 걱정마세요!\\nQ12. 학습량이 많은가요?\\nA12. 학습량이 적다고 말씀드리기는 어렵습니다. 비전공자부터 전공자까지 모두 배움의 정도에 차이가\\n있고 상당한 수준까지 학습이 진행되기에 개인 공부가 거의 필수로 작용할 수 있습니다. 다만, 이러한\\n과정을 지나고나면 매우 성장해있는 본인의 모습을 보실 수 있으실겁니다. 화이팅!\\n훈련 환경\\n[ ]\\nQ13. 교육 중 카메라를 꼭 켜야하나요?\\nA13. 네 그럼요! 액티브 러닝을 원칙으로 일방향적인 주입식 교육이 아닌, 함께 토론하고 문제를 해결\\n하는 자기주도형 커뮤니티 교육의 본질은 소통입니다! 본인 참여 확인과 실시간 양방향 교육 진행에 따\\n라 카메라와 마이크 구동이 필수적으로 이루어져야 합니다.\\nQ14. 개인 PC 사양은 어느 정도로 갖추어야 하나요?\\nA14. 아이펠 교육 과정은 자체 개발한 LMS에서 학습이 가능하여 인터넷 환경을 갖추어졌다면 학습이\\n가능합니다. 다만, LMS 이외에 다양한 온라인 서비스를 동시에 사용할 수 있어 저사양 PC로는 교육\\n진행이 어려울 수 있습니다. 또한, 캠퍼스에서 우분투 GPU 노트북을 대여해드릴 수 있습니다. 필요하\\n시다면 요청해주세요.\\nQ15. 졸업하면 어떤 것을 할 수 있게되나요?\\nA15. 졸업 후 데이터 분석가, PM/PO, 그로스마케터 등으로 취업할 수 있습니다.\\nQ16. 졸업 프로젝트로는 어떤 걸 할 수 있나요?\\nA16. 데이터 기반 투자 전략과 머신러닝 투자 모델 구축, 맞춤형 게임 추천 시스템 제작, 온체인 데이터\\n분석을 통한 데이터 기반 의사 결정 지원 등 여러가지 프로젝트가 진행되었습니다.\\n선발 절차\\n[ ]\\n아이펠 프로덕트 데이터 분석가 1기 4\\nQ17. 서류를 제출 했어요. 결과는 언제 알 수 있나요?\\nA17. 제출하신 지원서는 검토 후 2-3일 이내에 결과를 안내하고 있습니다. ‘지원서 합격 → 온라인 인\\n터뷰 → 최종 선발ʼ의 절차로 진행되고 있어 최종 합격 및 등록까지 일정 기간 소요될 수 있으니 조금만\\n기다려주세요!\\n훈련비\\n[ ]\\nQ18. 등록금(훈련비)은 정말 무료인가요?\\nA18. 내일배움카드 발급이 가능하다면 100% 무료로 입학이 가능합니다. 단, 잔액이 1원이라도 있어야\\n하니 꼭 확인해주세요!\\n취업 지원\\n[ ]\\nQ19. 졸업 이후에 취업까지 도와주시나요?\\nA19. 물론입니다. 졸업 후의 성장 근력을 키워주는 졸업생 케어도 함께 진행하고 있습니다. 멘토와의\\n취업 코칭, 원티드 취업 프로그램 제휴 서비스, 면접 코칭과 같은 다양한 시스템을 운영 중에 있습니다.\\n프로덕트 데이터 분석가란\\n[ ?]\\n프로덕트 데이터 분석가 의 필수 역량은\\n“ ˮ ?\\n데이터 해석력, 논리적 사고, A/B 테스트 설계 및 분석 역량을 중요하게 평가받습니다.\\n이 외에도 유저 행동 분석, 퍼널 분석, 실험 설계, KPI 모니터링, 커뮤니케이션 능력 등 다양한 역량\\n이 요구됩니다.\\n프로덕트 데이터 분석가 의 목표\\n“ ˮ\\n제품 개선을 위한 유저 행동 인사이트 도출\\n데이터 기반 의사결정 지원\\n실험 및 분석을 통한 기능 개선 효과 검증\\n프로덕트 데이터 분석가 의 주요 업무\\n“ ˮ\\n유저 로그 분석을 통한 행동 패턴 파악\\nA/B 테스트 및 실험 설계·분석\\n제품 지표(KPI) 모니터링 및 이상 탐지\\nPM, 디자이너, 개발자와 협업하여 기능 개선 제안\\n프로덕트 데이터 분석가 의 기술 스택\\n“ ˮ\\n아이펠 프로덕트 데이터 분석가 1기 5\\nSQL, Python\\nTableau, Looker, Amplitude 등 데이터 시각화 도구\\n통계적 실험 설계, 퍼널 분석 도구\\nGit, Jira 등 협업 도구\\n아이펠 프로덕트 데이터 분석가 1기 6', name='read_pdf', id='146c779b-6e3b-4e8e-a44f-bcf05fe0a25f', tool_call_id='call_lsRs63uY9YJDvZ6VkNOmkbVM'), 'messages': [HumanMessage(content='pda1.pdf파일 읽어줘', additional_kwargs={}, response_metadata={}, id='15d651f3-cb44-4a65-8a7a-a386343ee075'), AIMessage(content='', additional_kwargs={'tool_calls': [{'id': 'call_lsRs63uY9YJDvZ6VkNOmkbVM', 'function': {'arguments': '{\"file_path\":\"./files/pda1.pdf\"}', 'name': 'read_pdf'}, 'type': 'function'}], 'refusal': None}, response_metadata={'token_usage': {'completion_tokens': 21, 'prompt_tokens': 446, 'total_tokens': 467, 'completion_tokens_details': {'accepted_prediction_tokens': 0, 'audio_tokens': 0, 'reasoning_tokens': 0, 'rejected_prediction_tokens': 0}, 'prompt_tokens_details': {'audio_tokens': 0, 'cached_tokens': 0}}, 'model_name': 'gpt-4o-mini-2024-07-18', 'system_fingerprint': 'fp_27322b4e16', 'finish_reason': 'tool_calls', 'logprobs': None}, id='run-f40d8cb4-5f68-45e0-8bdf-fbb18bd056ef-0', tool_calls=[{'name': 'read_pdf', 'args': {'file_path': './files/pda1.pdf'}, 'id': 'call_lsRs63uY9YJDvZ6VkNOmkbVM', 'type': 'tool_call'}], usage_metadata={'input_tokens': 446, 'output_tokens': 21, 'total_tokens': 467, 'input_token_details': {'audio': 0, 'cache_read': 0}, 'output_token_details': {'audio': 0, 'reasoning': 0}}), ToolMessage(content='아이펠 프로덕트 데이터 분석가 기\\n1\\n해당 사업은 K\\ue088Digital Training의 일환으로 고용노동부에서 주관하고 있습니다.\\n저희는 모두의연구소 아이펠캠퍼스팀이며 해당 훈련을 운영하고 있습니다.\\n아이펠이란\\n?\\n아이펠은 누구나 인공지능을 학습할 수 있도록 설계된 교육 프로그램으로 코어, 리서치, 데이터사이언\\n티스트, 프로덕트 데이터 분석가 과정 등이 있습니다.\\n코어 과정에서는 인공지능 모델 제작 및 어플리케이션 제작까지 진행하게 됩니다.\\n리서치 과정에서는 대학원 수준의 인공지능 지식을 배울 수 있고 논문을 작성할 수 있는 수준까지 학습\\n하게 됩니다.\\n데이터 사이언티스트 과정은 실무 기반의 과정으로 데이터 분석, 머신러닝 및 딥러닝 모델 제작까지 담\\n당하며 이를 통해 비즈니스 인사이트를 도출하는 방법 등을 배우게 됩니다.\\n프로덕트 데이터 분석가 과정은 마케팅 지표 분석, BI툴 활용, 통계 분석, 데이터 분석 등을 배우며 기\\n업의 비즈니스 의사결정에 기여하는 방법을 배우게 됩니다.\\n개요\\n모두의연구소 프로덕트 데이터 분석가 과정\\n실무 기반 프로젝트로 학습하고 현직자 세미나로 이론과 실무를, 현업 멘토와 포트폴리오 완성까지!\\n교육명\\n모두의연구소 아이펠 프로덕트 데이터 분석가 과정 1기\\n모집 기간\\n2024. 11. 18 - 2024. 12. 24, 약 1달간 모집 예정입니다.\\n교육 기간\\n2024. 12. 30 - 25. 06. 26, 약 6개월이며 120일 과정입니다.\\n교육 시간\\n평일 10:00 - 18:00, 주말은 운영하지 않습니다.\\n교육 환경\\n아이펠 프로덕트 데이터 분석가 1기 1\\n100% 실시간 온라인 과정 (타 KDT훈련 및 직장 병행 불가)\\n홈페이지\\n모두의연구소 링크 (modulabs.co.kr)\\n아이펠 데이터사이언티스트 과정 링크 (https://camp.modulabs.co.kr/pda)\\n주소\\n모두의연구소 강남 캠퍼스 (서울 강남구 강남대로 324 역삼디오슈페리움 2층 모두의연구소)\\nhttps://naver.me/FslREXGR\\n모두의연구소 역삼 캠퍼스 (서울 강남구 역삼로 156 태광빌딩 2층, 4층)\\nhttps://naver.me/GMvc9Hv5\\nFAQ\\n지원 요건\\n[ ]\\nQ1. 재직중(또는 재학중)인데 지원할 수 있는지 궁금해요!\\nA1. 아이펠 교육과정은 약 6개월 동안 월-금, 10:00-18:00 풀타임으로 운영되고 있어 직장 또는 학교\\n와 병행이 어렵습니다. 내일배움카드 발급이 가능한 구직자 및 대학교 졸업 예정자를 주요 대상자로 모\\n집, 선발하고 있으니 참여 가능 사항을 꼭 확인해주세요!\\nQ2. 이전에 K\\ue088Digital Training을 수강한 이력이 있는데 중복 수강이 가능한가요?\\nA2. K\\ue088Digital Training 과정은 생애 1회 지원되는 과정으로 중복 수강이 어렵습니다. (중도 포기 포\\n함) K\\ue088Digital Training이 아닌 K\\ue088Digital Credit과 같은 다른 국비지원 교육이라면 중복 수강이 가능\\n합니다.\\nQ3. 현재 해외에 체류 중인데 교육에 참여할 수 있나요?\\nA3. 아이펠 교육 과정은 ‘고용노동부ʼ와 함께하는 취업 또는 역량 강화를 위한 ‘직업 훈련ʼ 과정입니다.\\n해당 과정이 온라인으로 진행되더라도 해외 체류, 여행, 근로 등의 사유로 과정에 성실히 참여하기 어\\n려운 경우 훈련의 목적이 이루어지기 어렵다고 판단하여 수강을 제한하고 있습니다.\\nQ4. 내일배움카드는 언제까지 발급 되어야 하나요?\\nA4. 내일배움카드 실수령 후 다음 날 훈련생 등록이 가능하여 개강일 전일(평일 기준)까지 발급이 가능\\n해야 합니다. 가능한 아이펠 서류제출과 함께 바로 내일배움카드 신청을 해주시는 게 가장 안전합니다!\\n부득이 하게 발급이 늦어지는 경우, 교육 시작 후 4일 까지 실수령 하여야 최종 등록 후 수강이 가능이\\n아이펠 프로덕트 데이터 분석가 1기 2\\n가능하니 미리 발급받고 편하게 입학 준비하세요! (*개강일 이후 등록이 진행 되는 경우, 결석 또는 지\\n각 처리 될 수 있습니다.)\\nQ5. 지원하는데 나이 제한이 있나요?\\nA5. 교육 신청에 나이 제한을 두고 있지 않습니다. 다만, 교육 기간 동안 정말 성실하게 참여할 수 있는\\n지, 전문적인 기술 습득을 위해 집중할 수 있는지, 학습의 의지가 명확한지, 아이펠만의 교육 방식과 맞\\n는지 등 지원 서류와 인터뷰(서류 합격 후) 과정에서 열정을 확인하며, 신중히 선발하고 있습니다.\\nQ6. 해당 분야에 관심이 생겨 지원했는데 관련 지식이 없어도 수강할 수 있을까요?\\nA6. 프로덕트 데이터 분석가 과정 참여를 위해 파이썬(Python) 언어에 대한 선수 지식이 필요합니다.\\n파이썬에 자신 없는 분들은 미리 지원하셔서 ‘프리 아이펠ʼ 프로그램을 통해 학습해보실 수 있습니다.\\n(*프리 아이펠 : 입학 전 아이펠의 학습 문화를 체험하고 사전 지식을 습득하는 프로그램으로 아이펠\\n퍼실리테이터가 함께합니다! )\\nQ7. 퇴사(이직)하고 들을까 고민 중입니다. 들을 만한 가치가 있을까요?\\nA7. 단언하긴 어렵지만 본인이 원한다면 충분한 가치가 있다고 생각합니다. 다만, 이러한 의견은 모두\\n다를 수 있기에 신중하게 결정하시길 바라겠습니다. 결정에 도움이 될 정보를 ds.aiffel.io에 담아뒀으\\n니 꼼꼼하게 확인하시고 현명한 결정을 내리시길 바라겠습니다.\\n학습 장소\\n[ ]\\nQ8. 과정은 모두 온라인으로만 진행 되나요?\\nA8. 아이펠 교육과정은 100% 실시간 온라인 과정으로 화상 플랫폼(ZEP)에서 진행됩니다. 희망하시\\n는 경우, 오프라인 학습 공간(모두의연구소 강남/역삼캠퍼스)을 무료로 제공해드리고 있습니다. 공간\\n사용방법은 입학 후 별도로 안내드리겠습니다.\\n학습 방식\\n[ ]\\nQ9. 혼자서 동영상 강의를 듣는 건가요?\\nA9. 아이펠 교육은 학습시간(10:00-18:00)동안 화상 플랫폼(ZEP)에서 실시간 양방향으로 진행됩니\\n다. 실시간 양방향 교육은 특정 학습 시간에 실시간으로 퍼실리테이터, 다른 훈련생들과 함께 토론, 프\\n로젝트 실습 등을 진행하는 것을 의미합니다. 원활한 학습을 위해 소음이 발생하는 곳(ex.카페) 또는\\n대화가 어려운 환경(ex.독서실)은 가급적 피해주시고, 소통이 가능한 환경에서 참여하시길 적극 권장\\n합니다!\\nQ10. 어떤 것들을 배우나요?\\n아이펠 프로덕트 데이터 분석가 1기 3\\nA10. 아이펠 프로덕트 데이터 분석가 과정에서는 BigQuery, 비정제데이터, 통계, 머신러닝, Google\\nAnalytics, Tableau, 마케팅 분석 등을 다루고 있습니다. 배운 내용들을 토대로 미니해커톤인 데이터\\n톤과 졸업 프로젝트인 아이펠톤을 진행하게 됩니다.\\nQ11. 블로그나 SNS를 꼭 해야하나요?\\nA11. 꼭 해야하는 것은 아닙니다. 다만, 블로그나 SNS는 스스로 성장하는데에 도움을 주며 추후에는\\n남들에게 나를 표현하기 좋은 방법으로 아이펠에서는 적극 권장드리고 있습니다. 도움이 필요하시다면\\n퍼실리테이터가 도와드릴테니 걱정마세요!\\nQ12. 학습량이 많은가요?\\nA12. 학습량이 적다고 말씀드리기는 어렵습니다. 비전공자부터 전공자까지 모두 배움의 정도에 차이가\\n있고 상당한 수준까지 학습이 진행되기에 개인 공부가 거의 필수로 작용할 수 있습니다. 다만, 이러한\\n과정을 지나고나면 매우 성장해있는 본인의 모습을 보실 수 있으실겁니다. 화이팅!\\n훈련 환경\\n[ ]\\nQ13. 교육 중 카메라를 꼭 켜야하나요?\\nA13. 네 그럼요! 액티브 러닝을 원칙으로 일방향적인 주입식 교육이 아닌, 함께 토론하고 문제를 해결\\n하는 자기주도형 커뮤니티 교육의 본질은 소통입니다! 본인 참여 확인과 실시간 양방향 교육 진행에 따\\n라 카메라와 마이크 구동이 필수적으로 이루어져야 합니다.\\nQ14. 개인 PC 사양은 어느 정도로 갖추어야 하나요?\\nA14. 아이펠 교육 과정은 자체 개발한 LMS에서 학습이 가능하여 인터넷 환경을 갖추어졌다면 학습이\\n가능합니다. 다만, LMS 이외에 다양한 온라인 서비스를 동시에 사용할 수 있어 저사양 PC로는 교육\\n진행이 어려울 수 있습니다. 또한, 캠퍼스에서 우분투 GPU 노트북을 대여해드릴 수 있습니다. 필요하\\n시다면 요청해주세요.\\nQ15. 졸업하면 어떤 것을 할 수 있게되나요?\\nA15. 졸업 후 데이터 분석가, PM/PO, 그로스마케터 등으로 취업할 수 있습니다.\\nQ16. 졸업 프로젝트로는 어떤 걸 할 수 있나요?\\nA16. 데이터 기반 투자 전략과 머신러닝 투자 모델 구축, 맞춤형 게임 추천 시스템 제작, 온체인 데이터\\n분석을 통한 데이터 기반 의사 결정 지원 등 여러가지 프로젝트가 진행되었습니다.\\n선발 절차\\n[ ]\\n아이펠 프로덕트 데이터 분석가 1기 4\\nQ17. 서류를 제출 했어요. 결과는 언제 알 수 있나요?\\nA17. 제출하신 지원서는 검토 후 2-3일 이내에 결과를 안내하고 있습니다. ‘지원서 합격 → 온라인 인\\n터뷰 → 최종 선발ʼ의 절차로 진행되고 있어 최종 합격 및 등록까지 일정 기간 소요될 수 있으니 조금만\\n기다려주세요!\\n훈련비\\n[ ]\\nQ18. 등록금(훈련비)은 정말 무료인가요?\\nA18. 내일배움카드 발급이 가능하다면 100% 무료로 입학이 가능합니다. 단, 잔액이 1원이라도 있어야\\n하니 꼭 확인해주세요!\\n취업 지원\\n[ ]\\nQ19. 졸업 이후에 취업까지 도와주시나요?\\nA19. 물론입니다. 졸업 후의 성장 근력을 키워주는 졸업생 케어도 함께 진행하고 있습니다. 멘토와의\\n취업 코칭, 원티드 취업 프로그램 제휴 서비스, 면접 코칭과 같은 다양한 시스템을 운영 중에 있습니다.\\n프로덕트 데이터 분석가란\\n[ ?]\\n프로덕트 데이터 분석가 의 필수 역량은\\n“ ˮ ?\\n데이터 해석력, 논리적 사고, A/B 테스트 설계 및 분석 역량을 중요하게 평가받습니다.\\n이 외에도 유저 행동 분석, 퍼널 분석, 실험 설계, KPI 모니터링, 커뮤니케이션 능력 등 다양한 역량\\n이 요구됩니다.\\n프로덕트 데이터 분석가 의 목표\\n“ ˮ\\n제품 개선을 위한 유저 행동 인사이트 도출\\n데이터 기반 의사결정 지원\\n실험 및 분석을 통한 기능 개선 효과 검증\\n프로덕트 데이터 분석가 의 주요 업무\\n“ ˮ\\n유저 로그 분석을 통한 행동 패턴 파악\\nA/B 테스트 및 실험 설계·분석\\n제품 지표(KPI) 모니터링 및 이상 탐지\\nPM, 디자이너, 개발자와 협업하여 기능 개선 제안\\n프로덕트 데이터 분석가 의 기술 스택\\n“ ˮ\\n아이펠 프로덕트 데이터 분석가 1기 5\\nSQL, Python\\nTableau, Looker, Amplitude 등 데이터 시각화 도구\\n통계적 실험 설계, 퍼널 분석 도구\\nGit, Jira 등 협업 도구\\n아이펠 프로덕트 데이터 분석가 1기 6', name='read_pdf', id='146c779b-6e3b-4e8e-a44f-bcf05fe0a25f', tool_call_id='call_lsRs63uY9YJDvZ6VkNOmkbVM'), HumanMessage(content='개강하는 날짜는 언제인가요?', additional_kwargs={}, response_metadata={}, id='d86a3e30-21fd-4d24-b492-9f164f965e52')], 'tool_call': [AIMessage(content='', additional_kwargs={'tool_calls': [{'id': 'call_lsRs63uY9YJDvZ6VkNOmkbVM', 'function': {'arguments': '{\"file_path\":\"./files/pda1.pdf\"}', 'name': 'read_pdf'}, 'type': 'function'}], 'refusal': None}, response_metadata={'token_usage': {'completion_tokens': 21, 'prompt_tokens': 446, 'total_tokens': 467, 'completion_tokens_details': {'accepted_prediction_tokens': 0, 'audio_tokens': 0, 'reasoning_tokens': 0, 'rejected_prediction_tokens': 0}, 'prompt_tokens_details': {'audio_tokens': 0, 'cached_tokens': 0}}, 'model_name': 'gpt-4o-mini-2024-07-18', 'system_fingerprint': 'fp_27322b4e16', 'finish_reason': 'tool_calls', 'logprobs': None}, id='run-f40d8cb4-5f68-45e0-8bdf-fbb18bd056ef-0', tool_calls=[{'name': 'read_pdf', 'args': {'file_path': './files/pda1.pdf'}, 'id': 'call_lsRs63uY9YJDvZ6VkNOmkbVM', 'type': 'tool_call'}], usage_metadata={'input_tokens': 446, 'output_tokens': 21, 'total_tokens': 467, 'input_token_details': {'audio': 0, 'cache_read': 0}, 'output_token_details': {'audio': 0, 'reasoning': 0}})]}\n",
      "\n",
      "\n",
      "=== memory_chat ===\n",
      "\n",
      "\n",
      "{'answer': '개강 날짜는 2024년 12월 30일입니다.', 'messages': AIMessage(content='개강 날짜는 2024년 12월 30일입니다.', additional_kwargs={'refusal': None}, response_metadata={'token_usage': {'completion_tokens': 17, 'prompt_tokens': 3507, 'total_tokens': 3524, 'completion_tokens_details': {'accepted_prediction_tokens': 0, 'audio_tokens': 0, 'reasoning_tokens': 0, 'rejected_prediction_tokens': 0}, 'prompt_tokens_details': {'audio_tokens': 0, 'cached_tokens': 0}}, 'model_name': 'gpt-4o-mini-2024-07-18', 'system_fingerprint': 'fp_bbfba58e46', 'finish_reason': 'stop', 'logprobs': None}, id='run-5a5e0b8b-c478-4240-84e7-3fce4e4691be-0', usage_metadata={'input_tokens': 3507, 'output_tokens': 17, 'total_tokens': 3524, 'input_token_details': {'audio': 0, 'cache_read': 0}, 'output_token_details': {'audio': 0, 'reasoning': 0}})}\n",
      "\n",
      "\n",
      "=== response ===\n",
      "\n",
      "\n",
      "{'answer': AIMessage(content='개강 날짜는 2024년 12월 30일입니다.', additional_kwargs={'refusal': None}, response_metadata={'token_usage': {'completion_tokens': 17, 'prompt_tokens': 3507, 'total_tokens': 3524, 'completion_tokens_details': {'accepted_prediction_tokens': 0, 'audio_tokens': 0, 'reasoning_tokens': 0, 'rejected_prediction_tokens': 0}, 'prompt_tokens_details': {'audio_tokens': 0, 'cached_tokens': 0}}, 'model_name': 'gpt-4o-mini-2024-07-18', 'system_fingerprint': 'fp_bbfba58e46', 'finish_reason': 'stop', 'logprobs': None}, id='run-5a5e0b8b-c478-4240-84e7-3fce4e4691be-0', usage_metadata={'input_tokens': 3507, 'output_tokens': 17, 'total_tokens': 3524, 'input_token_details': {'audio': 0, 'cache_read': 0}, 'output_token_details': {'audio': 0, 'reasoning': 0}})}\n"
     ]
    }
   ],
   "source": [
    "query = \"개강하는 날짜는 언제인가요?\"\n",
    "\n",
    "streaming(query, config)"
   ]
  },
  {
   "cell_type": "code",
   "execution_count": 245,
   "metadata": {},
   "outputs": [
    {
     "name": "stdout",
     "output_type": "stream",
     "text": [
      "\n",
      "\n",
      "=== history_node ===\n",
      "\n",
      "\n",
      "{'query': '강의는 어디서 들을 수 있나요?', 'answer': AIMessage(content='개강 날짜는 2024년 12월 30일입니다.', additional_kwargs={'refusal': None}, response_metadata={'token_usage': {'completion_tokens': 17, 'prompt_tokens': 3507, 'total_tokens': 3524, 'completion_tokens_details': {'accepted_prediction_tokens': 0, 'audio_tokens': 0, 'reasoning_tokens': 0, 'rejected_prediction_tokens': 0}, 'prompt_tokens_details': {'audio_tokens': 0, 'cached_tokens': 0}}, 'model_name': 'gpt-4o-mini-2024-07-18', 'system_fingerprint': 'fp_bbfba58e46', 'finish_reason': 'stop', 'logprobs': None}, id='run-5a5e0b8b-c478-4240-84e7-3fce4e4691be-0', usage_metadata={'input_tokens': 3507, 'output_tokens': 17, 'total_tokens': 3524, 'input_token_details': {'audio': 0, 'cache_read': 0}, 'output_token_details': {'audio': 0, 'reasoning': 0}}), 'messages': [HumanMessage(content='pda1.pdf파일 읽어줘', additional_kwargs={}, response_metadata={}, id='15d651f3-cb44-4a65-8a7a-a386343ee075'), AIMessage(content='', additional_kwargs={'tool_calls': [{'id': 'call_lsRs63uY9YJDvZ6VkNOmkbVM', 'function': {'arguments': '{\"file_path\":\"./files/pda1.pdf\"}', 'name': 'read_pdf'}, 'type': 'function'}], 'refusal': None}, response_metadata={'token_usage': {'completion_tokens': 21, 'prompt_tokens': 446, 'total_tokens': 467, 'completion_tokens_details': {'accepted_prediction_tokens': 0, 'audio_tokens': 0, 'reasoning_tokens': 0, 'rejected_prediction_tokens': 0}, 'prompt_tokens_details': {'audio_tokens': 0, 'cached_tokens': 0}}, 'model_name': 'gpt-4o-mini-2024-07-18', 'system_fingerprint': 'fp_27322b4e16', 'finish_reason': 'tool_calls', 'logprobs': None}, id='run-f40d8cb4-5f68-45e0-8bdf-fbb18bd056ef-0', tool_calls=[{'name': 'read_pdf', 'args': {'file_path': './files/pda1.pdf'}, 'id': 'call_lsRs63uY9YJDvZ6VkNOmkbVM', 'type': 'tool_call'}], usage_metadata={'input_tokens': 446, 'output_tokens': 21, 'total_tokens': 467, 'input_token_details': {'audio': 0, 'cache_read': 0}, 'output_token_details': {'audio': 0, 'reasoning': 0}}), ToolMessage(content='아이펠 프로덕트 데이터 분석가 기\\n1\\n해당 사업은 K\\ue088Digital Training의 일환으로 고용노동부에서 주관하고 있습니다.\\n저희는 모두의연구소 아이펠캠퍼스팀이며 해당 훈련을 운영하고 있습니다.\\n아이펠이란\\n?\\n아이펠은 누구나 인공지능을 학습할 수 있도록 설계된 교육 프로그램으로 코어, 리서치, 데이터사이언\\n티스트, 프로덕트 데이터 분석가 과정 등이 있습니다.\\n코어 과정에서는 인공지능 모델 제작 및 어플리케이션 제작까지 진행하게 됩니다.\\n리서치 과정에서는 대학원 수준의 인공지능 지식을 배울 수 있고 논문을 작성할 수 있는 수준까지 학습\\n하게 됩니다.\\n데이터 사이언티스트 과정은 실무 기반의 과정으로 데이터 분석, 머신러닝 및 딥러닝 모델 제작까지 담\\n당하며 이를 통해 비즈니스 인사이트를 도출하는 방법 등을 배우게 됩니다.\\n프로덕트 데이터 분석가 과정은 마케팅 지표 분석, BI툴 활용, 통계 분석, 데이터 분석 등을 배우며 기\\n업의 비즈니스 의사결정에 기여하는 방법을 배우게 됩니다.\\n개요\\n모두의연구소 프로덕트 데이터 분석가 과정\\n실무 기반 프로젝트로 학습하고 현직자 세미나로 이론과 실무를, 현업 멘토와 포트폴리오 완성까지!\\n교육명\\n모두의연구소 아이펠 프로덕트 데이터 분석가 과정 1기\\n모집 기간\\n2024. 11. 18 - 2024. 12. 24, 약 1달간 모집 예정입니다.\\n교육 기간\\n2024. 12. 30 - 25. 06. 26, 약 6개월이며 120일 과정입니다.\\n교육 시간\\n평일 10:00 - 18:00, 주말은 운영하지 않습니다.\\n교육 환경\\n아이펠 프로덕트 데이터 분석가 1기 1\\n100% 실시간 온라인 과정 (타 KDT훈련 및 직장 병행 불가)\\n홈페이지\\n모두의연구소 링크 (modulabs.co.kr)\\n아이펠 데이터사이언티스트 과정 링크 (https://camp.modulabs.co.kr/pda)\\n주소\\n모두의연구소 강남 캠퍼스 (서울 강남구 강남대로 324 역삼디오슈페리움 2층 모두의연구소)\\nhttps://naver.me/FslREXGR\\n모두의연구소 역삼 캠퍼스 (서울 강남구 역삼로 156 태광빌딩 2층, 4층)\\nhttps://naver.me/GMvc9Hv5\\nFAQ\\n지원 요건\\n[ ]\\nQ1. 재직중(또는 재학중)인데 지원할 수 있는지 궁금해요!\\nA1. 아이펠 교육과정은 약 6개월 동안 월-금, 10:00-18:00 풀타임으로 운영되고 있어 직장 또는 학교\\n와 병행이 어렵습니다. 내일배움카드 발급이 가능한 구직자 및 대학교 졸업 예정자를 주요 대상자로 모\\n집, 선발하고 있으니 참여 가능 사항을 꼭 확인해주세요!\\nQ2. 이전에 K\\ue088Digital Training을 수강한 이력이 있는데 중복 수강이 가능한가요?\\nA2. K\\ue088Digital Training 과정은 생애 1회 지원되는 과정으로 중복 수강이 어렵습니다. (중도 포기 포\\n함) K\\ue088Digital Training이 아닌 K\\ue088Digital Credit과 같은 다른 국비지원 교육이라면 중복 수강이 가능\\n합니다.\\nQ3. 현재 해외에 체류 중인데 교육에 참여할 수 있나요?\\nA3. 아이펠 교육 과정은 ‘고용노동부ʼ와 함께하는 취업 또는 역량 강화를 위한 ‘직업 훈련ʼ 과정입니다.\\n해당 과정이 온라인으로 진행되더라도 해외 체류, 여행, 근로 등의 사유로 과정에 성실히 참여하기 어\\n려운 경우 훈련의 목적이 이루어지기 어렵다고 판단하여 수강을 제한하고 있습니다.\\nQ4. 내일배움카드는 언제까지 발급 되어야 하나요?\\nA4. 내일배움카드 실수령 후 다음 날 훈련생 등록이 가능하여 개강일 전일(평일 기준)까지 발급이 가능\\n해야 합니다. 가능한 아이펠 서류제출과 함께 바로 내일배움카드 신청을 해주시는 게 가장 안전합니다!\\n부득이 하게 발급이 늦어지는 경우, 교육 시작 후 4일 까지 실수령 하여야 최종 등록 후 수강이 가능이\\n아이펠 프로덕트 데이터 분석가 1기 2\\n가능하니 미리 발급받고 편하게 입학 준비하세요! (*개강일 이후 등록이 진행 되는 경우, 결석 또는 지\\n각 처리 될 수 있습니다.)\\nQ5. 지원하는데 나이 제한이 있나요?\\nA5. 교육 신청에 나이 제한을 두고 있지 않습니다. 다만, 교육 기간 동안 정말 성실하게 참여할 수 있는\\n지, 전문적인 기술 습득을 위해 집중할 수 있는지, 학습의 의지가 명확한지, 아이펠만의 교육 방식과 맞\\n는지 등 지원 서류와 인터뷰(서류 합격 후) 과정에서 열정을 확인하며, 신중히 선발하고 있습니다.\\nQ6. 해당 분야에 관심이 생겨 지원했는데 관련 지식이 없어도 수강할 수 있을까요?\\nA6. 프로덕트 데이터 분석가 과정 참여를 위해 파이썬(Python) 언어에 대한 선수 지식이 필요합니다.\\n파이썬에 자신 없는 분들은 미리 지원하셔서 ‘프리 아이펠ʼ 프로그램을 통해 학습해보실 수 있습니다.\\n(*프리 아이펠 : 입학 전 아이펠의 학습 문화를 체험하고 사전 지식을 습득하는 프로그램으로 아이펠\\n퍼실리테이터가 함께합니다! )\\nQ7. 퇴사(이직)하고 들을까 고민 중입니다. 들을 만한 가치가 있을까요?\\nA7. 단언하긴 어렵지만 본인이 원한다면 충분한 가치가 있다고 생각합니다. 다만, 이러한 의견은 모두\\n다를 수 있기에 신중하게 결정하시길 바라겠습니다. 결정에 도움이 될 정보를 ds.aiffel.io에 담아뒀으\\n니 꼼꼼하게 확인하시고 현명한 결정을 내리시길 바라겠습니다.\\n학습 장소\\n[ ]\\nQ8. 과정은 모두 온라인으로만 진행 되나요?\\nA8. 아이펠 교육과정은 100% 실시간 온라인 과정으로 화상 플랫폼(ZEP)에서 진행됩니다. 희망하시\\n는 경우, 오프라인 학습 공간(모두의연구소 강남/역삼캠퍼스)을 무료로 제공해드리고 있습니다. 공간\\n사용방법은 입학 후 별도로 안내드리겠습니다.\\n학습 방식\\n[ ]\\nQ9. 혼자서 동영상 강의를 듣는 건가요?\\nA9. 아이펠 교육은 학습시간(10:00-18:00)동안 화상 플랫폼(ZEP)에서 실시간 양방향으로 진행됩니\\n다. 실시간 양방향 교육은 특정 학습 시간에 실시간으로 퍼실리테이터, 다른 훈련생들과 함께 토론, 프\\n로젝트 실습 등을 진행하는 것을 의미합니다. 원활한 학습을 위해 소음이 발생하는 곳(ex.카페) 또는\\n대화가 어려운 환경(ex.독서실)은 가급적 피해주시고, 소통이 가능한 환경에서 참여하시길 적극 권장\\n합니다!\\nQ10. 어떤 것들을 배우나요?\\n아이펠 프로덕트 데이터 분석가 1기 3\\nA10. 아이펠 프로덕트 데이터 분석가 과정에서는 BigQuery, 비정제데이터, 통계, 머신러닝, Google\\nAnalytics, Tableau, 마케팅 분석 등을 다루고 있습니다. 배운 내용들을 토대로 미니해커톤인 데이터\\n톤과 졸업 프로젝트인 아이펠톤을 진행하게 됩니다.\\nQ11. 블로그나 SNS를 꼭 해야하나요?\\nA11. 꼭 해야하는 것은 아닙니다. 다만, 블로그나 SNS는 스스로 성장하는데에 도움을 주며 추후에는\\n남들에게 나를 표현하기 좋은 방법으로 아이펠에서는 적극 권장드리고 있습니다. 도움이 필요하시다면\\n퍼실리테이터가 도와드릴테니 걱정마세요!\\nQ12. 학습량이 많은가요?\\nA12. 학습량이 적다고 말씀드리기는 어렵습니다. 비전공자부터 전공자까지 모두 배움의 정도에 차이가\\n있고 상당한 수준까지 학습이 진행되기에 개인 공부가 거의 필수로 작용할 수 있습니다. 다만, 이러한\\n과정을 지나고나면 매우 성장해있는 본인의 모습을 보실 수 있으실겁니다. 화이팅!\\n훈련 환경\\n[ ]\\nQ13. 교육 중 카메라를 꼭 켜야하나요?\\nA13. 네 그럼요! 액티브 러닝을 원칙으로 일방향적인 주입식 교육이 아닌, 함께 토론하고 문제를 해결\\n하는 자기주도형 커뮤니티 교육의 본질은 소통입니다! 본인 참여 확인과 실시간 양방향 교육 진행에 따\\n라 카메라와 마이크 구동이 필수적으로 이루어져야 합니다.\\nQ14. 개인 PC 사양은 어느 정도로 갖추어야 하나요?\\nA14. 아이펠 교육 과정은 자체 개발한 LMS에서 학습이 가능하여 인터넷 환경을 갖추어졌다면 학습이\\n가능합니다. 다만, LMS 이외에 다양한 온라인 서비스를 동시에 사용할 수 있어 저사양 PC로는 교육\\n진행이 어려울 수 있습니다. 또한, 캠퍼스에서 우분투 GPU 노트북을 대여해드릴 수 있습니다. 필요하\\n시다면 요청해주세요.\\nQ15. 졸업하면 어떤 것을 할 수 있게되나요?\\nA15. 졸업 후 데이터 분석가, PM/PO, 그로스마케터 등으로 취업할 수 있습니다.\\nQ16. 졸업 프로젝트로는 어떤 걸 할 수 있나요?\\nA16. 데이터 기반 투자 전략과 머신러닝 투자 모델 구축, 맞춤형 게임 추천 시스템 제작, 온체인 데이터\\n분석을 통한 데이터 기반 의사 결정 지원 등 여러가지 프로젝트가 진행되었습니다.\\n선발 절차\\n[ ]\\n아이펠 프로덕트 데이터 분석가 1기 4\\nQ17. 서류를 제출 했어요. 결과는 언제 알 수 있나요?\\nA17. 제출하신 지원서는 검토 후 2-3일 이내에 결과를 안내하고 있습니다. ‘지원서 합격 → 온라인 인\\n터뷰 → 최종 선발ʼ의 절차로 진행되고 있어 최종 합격 및 등록까지 일정 기간 소요될 수 있으니 조금만\\n기다려주세요!\\n훈련비\\n[ ]\\nQ18. 등록금(훈련비)은 정말 무료인가요?\\nA18. 내일배움카드 발급이 가능하다면 100% 무료로 입학이 가능합니다. 단, 잔액이 1원이라도 있어야\\n하니 꼭 확인해주세요!\\n취업 지원\\n[ ]\\nQ19. 졸업 이후에 취업까지 도와주시나요?\\nA19. 물론입니다. 졸업 후의 성장 근력을 키워주는 졸업생 케어도 함께 진행하고 있습니다. 멘토와의\\n취업 코칭, 원티드 취업 프로그램 제휴 서비스, 면접 코칭과 같은 다양한 시스템을 운영 중에 있습니다.\\n프로덕트 데이터 분석가란\\n[ ?]\\n프로덕트 데이터 분석가 의 필수 역량은\\n“ ˮ ?\\n데이터 해석력, 논리적 사고, A/B 테스트 설계 및 분석 역량을 중요하게 평가받습니다.\\n이 외에도 유저 행동 분석, 퍼널 분석, 실험 설계, KPI 모니터링, 커뮤니케이션 능력 등 다양한 역량\\n이 요구됩니다.\\n프로덕트 데이터 분석가 의 목표\\n“ ˮ\\n제품 개선을 위한 유저 행동 인사이트 도출\\n데이터 기반 의사결정 지원\\n실험 및 분석을 통한 기능 개선 효과 검증\\n프로덕트 데이터 분석가 의 주요 업무\\n“ ˮ\\n유저 로그 분석을 통한 행동 패턴 파악\\nA/B 테스트 및 실험 설계·분석\\n제품 지표(KPI) 모니터링 및 이상 탐지\\nPM, 디자이너, 개발자와 협업하여 기능 개선 제안\\n프로덕트 데이터 분석가 의 기술 스택\\n“ ˮ\\n아이펠 프로덕트 데이터 분석가 1기 5\\nSQL, Python\\nTableau, Looker, Amplitude 등 데이터 시각화 도구\\n통계적 실험 설계, 퍼널 분석 도구\\nGit, Jira 등 협업 도구\\n아이펠 프로덕트 데이터 분석가 1기 6', name='read_pdf', id='146c779b-6e3b-4e8e-a44f-bcf05fe0a25f', tool_call_id='call_lsRs63uY9YJDvZ6VkNOmkbVM'), HumanMessage(content='개강하는 날짜는 언제인가요?', additional_kwargs={}, response_metadata={}, id='d86a3e30-21fd-4d24-b492-9f164f965e52'), AIMessage(content='개강 날짜는 2024년 12월 30일입니다.', additional_kwargs={'refusal': None}, response_metadata={'token_usage': {'completion_tokens': 17, 'prompt_tokens': 3507, 'total_tokens': 3524, 'completion_tokens_details': {'accepted_prediction_tokens': 0, 'audio_tokens': 0, 'reasoning_tokens': 0, 'rejected_prediction_tokens': 0}, 'prompt_tokens_details': {'audio_tokens': 0, 'cached_tokens': 0}}, 'model_name': 'gpt-4o-mini-2024-07-18', 'system_fingerprint': 'fp_bbfba58e46', 'finish_reason': 'stop', 'logprobs': None}, id='run-5a5e0b8b-c478-4240-84e7-3fce4e4691be-0', usage_metadata={'input_tokens': 3507, 'output_tokens': 17, 'total_tokens': 3524, 'input_token_details': {'audio': 0, 'cache_read': 0}, 'output_token_details': {'audio': 0, 'reasoning': 0}}), HumanMessage(content='강의는 어디서 들을 수 있나요?', additional_kwargs={}, response_metadata={}, id='809a82f5-4a11-41b9-adce-55c39f0219b5')], 'tool_call': [AIMessage(content='', additional_kwargs={'tool_calls': [{'id': 'call_lsRs63uY9YJDvZ6VkNOmkbVM', 'function': {'arguments': '{\"file_path\":\"./files/pda1.pdf\"}', 'name': 'read_pdf'}, 'type': 'function'}], 'refusal': None}, response_metadata={'token_usage': {'completion_tokens': 21, 'prompt_tokens': 446, 'total_tokens': 467, 'completion_tokens_details': {'accepted_prediction_tokens': 0, 'audio_tokens': 0, 'reasoning_tokens': 0, 'rejected_prediction_tokens': 0}, 'prompt_tokens_details': {'audio_tokens': 0, 'cached_tokens': 0}}, 'model_name': 'gpt-4o-mini-2024-07-18', 'system_fingerprint': 'fp_27322b4e16', 'finish_reason': 'tool_calls', 'logprobs': None}, id='run-f40d8cb4-5f68-45e0-8bdf-fbb18bd056ef-0', tool_calls=[{'name': 'read_pdf', 'args': {'file_path': './files/pda1.pdf'}, 'id': 'call_lsRs63uY9YJDvZ6VkNOmkbVM', 'type': 'tool_call'}], usage_metadata={'input_tokens': 446, 'output_tokens': 21, 'total_tokens': 467, 'input_token_details': {'audio': 0, 'cache_read': 0}, 'output_token_details': {'audio': 0, 'reasoning': 0}})]}\n",
      "\n",
      "\n",
      "=== memory_chat ===\n",
      "\n",
      "\n",
      "{'answer': '강의는 100% 실시간 온라인으로 진행되며, 화상 플랫폼(ZEP)에서 수업이 이루어집니다. 또한, 오프라인 학습 공간인 모두의연구소 강남 캠퍼스와 역삼 캠퍼스를 무료로 제공하니, 원하시는 경우 해당 공간을 이용하실 수 있습니다.', 'messages': AIMessage(content='강의는 100% 실시간 온라인으로 진행되며, 화상 플랫폼(ZEP)에서 수업이 이루어집니다. 또한, 오프라인 학습 공간인 모두의연구소 강남 캠퍼스와 역삼 캠퍼스를 무료로 제공하니, 원하시는 경우 해당 공간을 이용하실 수 있습니다.', additional_kwargs={'refusal': None}, response_metadata={'token_usage': {'completion_tokens': 74, 'prompt_tokens': 3419, 'total_tokens': 3493, 'completion_tokens_details': {'accepted_prediction_tokens': 0, 'audio_tokens': 0, 'reasoning_tokens': 0, 'rejected_prediction_tokens': 0}, 'prompt_tokens_details': {'audio_tokens': 0, 'cached_tokens': 0}}, 'model_name': 'gpt-4o-mini-2024-07-18', 'system_fingerprint': 'fp_bbfba58e46', 'finish_reason': 'stop', 'logprobs': None}, id='run-f1f4c77f-a275-46a8-bfba-1dc89ce83f1c-0', usage_metadata={'input_tokens': 3419, 'output_tokens': 74, 'total_tokens': 3493, 'input_token_details': {'audio': 0, 'cache_read': 0}, 'output_token_details': {'audio': 0, 'reasoning': 0}})}\n",
      "\n",
      "\n",
      "=== response ===\n",
      "\n",
      "\n",
      "{'answer': AIMessage(content='강의는 100% 실시간 온라인으로 진행되며, 화상 플랫폼(ZEP)에서 수업이 이루어집니다. 또한, 오프라인 학습 공간인 모두의연구소 강남 캠퍼스와 역삼 캠퍼스를 무료로 제공하니, 원하시는 경우 해당 공간을 이용하실 수 있습니다.', additional_kwargs={'refusal': None}, response_metadata={'token_usage': {'completion_tokens': 74, 'prompt_tokens': 3419, 'total_tokens': 3493, 'completion_tokens_details': {'accepted_prediction_tokens': 0, 'audio_tokens': 0, 'reasoning_tokens': 0, 'rejected_prediction_tokens': 0}, 'prompt_tokens_details': {'audio_tokens': 0, 'cached_tokens': 0}}, 'model_name': 'gpt-4o-mini-2024-07-18', 'system_fingerprint': 'fp_bbfba58e46', 'finish_reason': 'stop', 'logprobs': None}, id='run-f1f4c77f-a275-46a8-bfba-1dc89ce83f1c-0', usage_metadata={'input_tokens': 3419, 'output_tokens': 74, 'total_tokens': 3493, 'input_token_details': {'audio': 0, 'cache_read': 0}, 'output_token_details': {'audio': 0, 'reasoning': 0}})}\n"
     ]
    }
   ],
   "source": [
    "query = \"강의는 어디서 들을 수 있나요?\"\n",
    "\n",
    "streaming(query, config)"
   ]
  },
  {
   "cell_type": "code",
   "execution_count": 246,
   "metadata": {},
   "outputs": [
    {
     "name": "stdout",
     "output_type": "stream",
     "text": [
      "\n",
      "\n",
      "=== history_node ===\n",
      "\n",
      "\n",
      "{'answer': '답변 없음', 'tool_call': '사용된 도구 없음'}\n",
      "\n",
      "\n",
      "=== select ===\n",
      "\n",
      "\n",
      "{'messages': AIMessage(content='', additional_kwargs={'tool_calls': [{'id': 'call_V14leIZnpkbboUi80MmThjD6', 'function': {'arguments': '{\"query\":\"result = 0\\\\n\\\\nfor i in range(20):\\\\n    print(f\\\\\"{i+1}번째 출력: \\\\\", i)\\\\n    result += i\\\\n\\\\nprint(\\\\\"최종 결과: \\\\\", result)\"}', 'name': 'python_repl_ast'}, 'type': 'function'}], 'refusal': None}, response_metadata={'token_usage': {'completion_tokens': 64, 'prompt_tokens': 491, 'total_tokens': 555, 'completion_tokens_details': {'accepted_prediction_tokens': 0, 'audio_tokens': 0, 'reasoning_tokens': 0, 'rejected_prediction_tokens': 0}, 'prompt_tokens_details': {'audio_tokens': 0, 'cached_tokens': 0}}, 'model_name': 'gpt-4o-mini-2024-07-18', 'system_fingerprint': 'fp_27322b4e16', 'finish_reason': 'tool_calls', 'logprobs': None}, id='run-33221ace-7248-400d-8061-21dd5c1b7e56-0', tool_calls=[{'name': 'python_repl_ast', 'args': {'query': 'result = 0\\n\\nfor i in range(20):\\n    print(f\"{i+1}번째 출력: \", i)\\n    result += i\\n\\nprint(\"최종 결과: \", result)'}, 'id': 'call_V14leIZnpkbboUi80MmThjD6', 'type': 'tool_call'}], usage_metadata={'input_tokens': 491, 'output_tokens': 64, 'total_tokens': 555, 'input_token_details': {'audio': 0, 'cache_read': 0}, 'output_token_details': {'audio': 0, 'reasoning': 0}}), 'tool_call': [AIMessage(content='', additional_kwargs={'tool_calls': [{'id': 'call_V14leIZnpkbboUi80MmThjD6', 'function': {'arguments': '{\"query\":\"result = 0\\\\n\\\\nfor i in range(20):\\\\n    print(f\\\\\"{i+1}번째 출력: \\\\\", i)\\\\n    result += i\\\\n\\\\nprint(\\\\\"최종 결과: \\\\\", result)\"}', 'name': 'python_repl_ast'}, 'type': 'function'}], 'refusal': None}, response_metadata={'token_usage': {'completion_tokens': 64, 'prompt_tokens': 491, 'total_tokens': 555, 'completion_tokens_details': {'accepted_prediction_tokens': 0, 'audio_tokens': 0, 'reasoning_tokens': 0, 'rejected_prediction_tokens': 0}, 'prompt_tokens_details': {'audio_tokens': 0, 'cached_tokens': 0}}, 'model_name': 'gpt-4o-mini-2024-07-18', 'system_fingerprint': 'fp_27322b4e16', 'finish_reason': 'tool_calls', 'logprobs': None}, id='run-33221ace-7248-400d-8061-21dd5c1b7e56-0', tool_calls=[{'name': 'python_repl_ast', 'args': {'query': 'result = 0\\n\\nfor i in range(20):\\n    print(f\"{i+1}번째 출력: \", i)\\n    result += i\\n\\nprint(\"최종 결과: \", result)'}, 'id': 'call_V14leIZnpkbboUi80MmThjD6', 'type': 'tool_call'}], usage_metadata={'input_tokens': 491, 'output_tokens': 64, 'total_tokens': 555, 'input_token_details': {'audio': 0, 'cache_read': 0}, 'output_token_details': {'audio': 0, 'reasoning': 0}})]}\n",
      "1번째 출력:  0\n",
      "2번째 출력:  1\n",
      "3번째 출력:  2\n",
      "4번째 출력:  3\n",
      "5번째 출력:  4\n",
      "6번째 출력:  5\n",
      "7번째 출력:  6\n",
      "8번째 출력:  7\n",
      "9번째 출력:  8\n",
      "10번째 출력:  9\n",
      "11번째 출력:  10\n",
      "12번째 출력:  11\n",
      "13번째 출력:  12\n",
      "14번째 출력:  13\n",
      "15번째 출력:  14\n",
      "16번째 출력:  15\n",
      "17번째 출력:  16\n",
      "18번째 출력:  17\n",
      "19번째 출력:  18\n",
      "20번째 출력:  19\n",
      "\n",
      "\n",
      "=== tools ===\n",
      "\n",
      "\n",
      "{'messages': [ToolMessage(content='최종 결과:  190\\n', name='python_repl_ast', id='97c15e5b-bc88-44d8-99a0-acb848ddfb6d', tool_call_id='call_V14leIZnpkbboUi80MmThjD6')]}\n",
      "\n",
      "\n",
      "=== response ===\n",
      "\n",
      "\n",
      "{'answer': ToolMessage(content='최종 결과:  190\\n', name='python_repl_ast', id='97c15e5b-bc88-44d8-99a0-acb848ddfb6d', tool_call_id='call_V14leIZnpkbboUi80MmThjD6')}\n"
     ]
    }
   ],
   "source": [
    "config = reset_config()\n",
    "\n",
    "code = \"\"\"\n",
    "아래 코드 실행시켜주세요.\n",
    "\n",
    "```python\n",
    "result = 0\n",
    "\n",
    "for i in range(20):\n",
    "    print(f\"{i+1}번째 출력: \", i)\n",
    "    result += i\n",
    "\n",
    "print(\"최종 결과: \", result)\n",
    "\n",
    "```\n",
    "\"\"\"\n",
    "\n",
    "streaming(code, config)"
   ]
  },
  {
   "cell_type": "code",
   "execution_count": 248,
   "metadata": {},
   "outputs": [
    {
     "name": "stdout",
     "output_type": "stream",
     "text": [
      "\n",
      "\n",
      "=== history_node ===\n",
      "\n",
      "\n",
      "{'answer': '답변 없음', 'tool_call': '사용된 도구 없음'}\n",
      "\n",
      "\n",
      "=== select ===\n",
      "\n",
      "\n",
      "{'messages': AIMessage(content='', additional_kwargs={'tool_calls': [{'id': 'call_bwZ2r5fgXMffJSOS0fhaWe2i', 'function': {'arguments': '{\"query\":\"모두의연구소\"}', 'name': 'tavily_search_results_json'}, 'type': 'function'}], 'refusal': None}, response_metadata={'token_usage': {'completion_tokens': 24, 'prompt_tokens': 500, 'total_tokens': 524, 'completion_tokens_details': {'accepted_prediction_tokens': 0, 'audio_tokens': 0, 'reasoning_tokens': 0, 'rejected_prediction_tokens': 0}, 'prompt_tokens_details': {'audio_tokens': 0, 'cached_tokens': 0}}, 'model_name': 'gpt-4o-mini-2024-07-18', 'system_fingerprint': 'fp_27322b4e16', 'finish_reason': 'tool_calls', 'logprobs': None}, id='run-25e8af38-49f1-4d03-a817-49b56382f93e-0', tool_calls=[{'name': 'tavily_search_results_json', 'args': {'query': '모두의연구소'}, 'id': 'call_bwZ2r5fgXMffJSOS0fhaWe2i', 'type': 'tool_call'}], usage_metadata={'input_tokens': 500, 'output_tokens': 24, 'total_tokens': 524, 'input_token_details': {'audio': 0, 'cache_read': 0}, 'output_token_details': {'audio': 0, 'reasoning': 0}}), 'tool_call': [AIMessage(content='', additional_kwargs={'tool_calls': [{'id': 'call_bwZ2r5fgXMffJSOS0fhaWe2i', 'function': {'arguments': '{\"query\":\"모두의연구소\"}', 'name': 'tavily_search_results_json'}, 'type': 'function'}], 'refusal': None}, response_metadata={'token_usage': {'completion_tokens': 24, 'prompt_tokens': 500, 'total_tokens': 524, 'completion_tokens_details': {'accepted_prediction_tokens': 0, 'audio_tokens': 0, 'reasoning_tokens': 0, 'rejected_prediction_tokens': 0}, 'prompt_tokens_details': {'audio_tokens': 0, 'cached_tokens': 0}}, 'model_name': 'gpt-4o-mini-2024-07-18', 'system_fingerprint': 'fp_27322b4e16', 'finish_reason': 'tool_calls', 'logprobs': None}, id='run-25e8af38-49f1-4d03-a817-49b56382f93e-0', tool_calls=[{'name': 'tavily_search_results_json', 'args': {'query': '모두의연구소'}, 'id': 'call_bwZ2r5fgXMffJSOS0fhaWe2i', 'type': 'tool_call'}], usage_metadata={'input_tokens': 500, 'output_tokens': 24, 'total_tokens': 524, 'input_token_details': {'audio': 0, 'cache_read': 0}, 'output_token_details': {'audio': 0, 'reasoning': 0}})]}\n",
      "\n",
      "\n",
      "=== tools ===\n",
      "\n",
      "\n",
      "{'messages': [ToolMessage(content='[{\"title\": \"모두의연구소 LAB | 자유로운 연구를 위한 안전한 실험실\", \"url\": \"https://www.youtube.com/playlist?list=PLv6H9ngYdJbLW9B670ESKcq4HKjX4DaSw\", \"content\": \"모두의연구소 “Share Value, Grow Together” 가치에 공감하는 분들이 모여 논문 / 오픈소스 / 콘텐츠 등을 목표로 연구하고, 그 과정과 결과를 공유하는 연구 모임\", \"score\": 0.725824}, {\"title\": \"모두의연구소\", \"url\": \"https://www.youtube.com/c/%EB%AA%A8%EB%91%90%EC%9D%98%EC%97%B0%EA%B5%AC%EC%86%8C/videos\", \"content\": \"모두의연구소 · [모두팝] R1 파헤치기, Ko-R1 개발기 · 약물의 ADMET 특성 예측 모델 개발 | 아이펠톤 · Autonomous Construction of Lithium-ion battery Database Using\", \"score\": 0.56661874}, {\"title\": \"모두의연구소\", \"url\": \"https://www.youtube.com/c/%EB%AA%A8%EB%91%90%EC%9D%98%EC%97%B0%EA%B5%AC%EC%86%8C/community\", \"content\": \"ly/4coUMqL ㅤ 안녕하세요, 현재 모두의연구소에서 사수 없이 어려움을 ... 활동 연구원 2만 명⁺ SW/AI 커뮤니티 #모두의연구소 7만 명⁺ SW 개발자를 양성\", \"score\": 0.531672}, {\"title\": \"[모두의연구소] 테크연구 공유회 - 반려로봇 LAB\", \"url\": \"https://www.youtube.com/watch?v=8O0TCk-DT4M\", \"content\": \"[모두의연구소] 테크연구 공유회 - 반려로봇 LAB \\\\n 모두의연구소 \\\\n 3 likes \\\\n 89 views \\\\n 17 Jan 2025 \\\\n 모두의연구소에서 진행된 테크 연구 활동에 대해 공유합니다. \\\\n반려로봇부터 오픈소스, LLM, Computer Vision까지!\\\\n최신 기술에 대해 다양한 실험을 진행하신 연구원님들을 만나보세요. \\\\n\\\\n반려로봇LAB의 가사도우미 로봇 연구 활동 내용입니다. \\\\n\\\\n본 영상은 2024년 6월 28일에 진행된 \\\\nOPEN MODULABS WEEK (모두연 랩 활동 공유회) - 테크연구 공유회에서 소개 된 내용입니다. \\\\n\\\\n반려로봇 LAB 소개 링크 \\\\nhttps://modulabs.co.kr/labs/209\\\\n\\\\n발표자 : 반려로봇 LAB 랩장 현청천님 \\\\n\\\\n\\\\n#모두의연구소 #테크연구 #반려로봇 #로봇연구 #로봇 [...] 🔹 데이터 사이언티스트 전문 과정 4기 | 통계부터 머신러닝까지 : https://bit.ly/4hRl5I9\\\\n🔹 프론트엔드 개발 | 백엔드 협업 프로젝트까지| 초급 개발과정 https://bit.ly/3R7j9zW \\\\n 0 comments\", \"score\": 0.5199851}, {\"title\": \"모두의연구소\", \"url\": \"https://www.youtube.com/channel/UCv4U1uZvuxopMj8xiPXIBMQ/addons\", \"content\": \"모두의연구소만의 지식 공유 세미나 모두팝! · [모두팝] AI+SLAM · [모두팝] 데이터 분석가 선배 X 커리어코치가 들려주는 AI·데이터 취업이야기 · [모두팝] Art×Tech LAB\", \"score\": 0.5126688}]', name='tavily_search_results_json', id='38d69556-8efc-476e-9a11-837f3b05a97e', tool_call_id='call_bwZ2r5fgXMffJSOS0fhaWe2i', artifact={'query': '모두의연구소', 'follow_up_questions': None, 'answer': None, 'images': [], 'results': [{'url': 'https://www.youtube.com/playlist?list=PLv6H9ngYdJbLW9B670ESKcq4HKjX4DaSw', 'title': '모두의연구소 LAB | 자유로운 연구를 위한 안전한 실험실', 'content': '모두의연구소 “Share Value, Grow Together” 가치에 공감하는 분들이 모여 논문 / 오픈소스 / 콘텐츠 등을 목표로 연구하고, 그 과정과 결과를 공유하는 연구 모임', 'score': 0.725824, 'raw_content': None}, {'url': 'https://www.youtube.com/c/%EB%AA%A8%EB%91%90%EC%9D%98%EC%97%B0%EA%B5%AC%EC%86%8C/videos', 'title': '모두의연구소', 'content': '모두의연구소 · [모두팝] R1 파헤치기, Ko-R1 개발기 · 약물의 ADMET 특성 예측 모델 개발 | 아이펠톤 · Autonomous Construction of Lithium-ion battery Database Using', 'score': 0.56661874, 'raw_content': None}, {'url': 'https://www.youtube.com/c/%EB%AA%A8%EB%91%90%EC%9D%98%EC%97%B0%EA%B5%AC%EC%86%8C/community', 'title': '모두의연구소', 'content': 'ly/4coUMqL ㅤ 안녕하세요, 현재 모두의연구소에서 사수 없이 어려움을 ... 활동 연구원 2만 명⁺ SW/AI 커뮤니티 #모두의연구소 7만 명⁺ SW 개발자를 양성', 'score': 0.531672, 'raw_content': None}, {'url': 'https://www.youtube.com/watch?v=8O0TCk-DT4M', 'title': '[모두의연구소] 테크연구 공유회 - 반려로봇 LAB', 'content': '[모두의연구소] 테크연구 공유회 - 반려로봇 LAB \\n 모두의연구소 \\n 3 likes \\n 89 views \\n 17 Jan 2025 \\n 모두의연구소에서 진행된 테크 연구 활동에 대해 공유합니다. \\n반려로봇부터 오픈소스, LLM, Computer Vision까지!\\n최신 기술에 대해 다양한 실험을 진행하신 연구원님들을 만나보세요. \\n\\n반려로봇LAB의 가사도우미 로봇 연구 활동 내용입니다. \\n\\n본 영상은 2024년 6월 28일에 진행된 \\nOPEN MODULABS WEEK (모두연 랩 활동 공유회) - 테크연구 공유회에서 소개 된 내용입니다. \\n\\n반려로봇 LAB 소개 링크 \\nhttps://modulabs.co.kr/labs/209\\n\\n발표자 : 반려로봇 LAB 랩장 현청천님 \\n\\n\\n#모두의연구소 #테크연구 #반려로봇 #로봇연구 #로봇 [...] 🔹 데이터 사이언티스트 전문 과정 4기 | 통계부터 머신러닝까지 : https://bit.ly/4hRl5I9\\n🔹 프론트엔드 개발 | 백엔드 협업 프로젝트까지| 초급 개발과정 https://bit.ly/3R7j9zW \\n 0 comments', 'score': 0.5199851, 'raw_content': None}, {'url': 'https://www.youtube.com/channel/UCv4U1uZvuxopMj8xiPXIBMQ/addons', 'title': '모두의연구소', 'content': '모두의연구소만의 지식 공유 세미나 모두팝! · [모두팝] AI+SLAM · [모두팝] 데이터 분석가 선배 X 커리어코치가 들려주는 AI·데이터 취업이야기 · [모두팝] Art×Tech LAB', 'score': 0.5126688, 'raw_content': None}], 'response_time': 4.58})]}\n",
      "\n",
      "\n",
      "=== response ===\n",
      "\n",
      "\n",
      "{'answer': ToolMessage(content='[{\"title\": \"모두의연구소 LAB | 자유로운 연구를 위한 안전한 실험실\", \"url\": \"https://www.youtube.com/playlist?list=PLv6H9ngYdJbLW9B670ESKcq4HKjX4DaSw\", \"content\": \"모두의연구소 “Share Value, Grow Together” 가치에 공감하는 분들이 모여 논문 / 오픈소스 / 콘텐츠 등을 목표로 연구하고, 그 과정과 결과를 공유하는 연구 모임\", \"score\": 0.725824}, {\"title\": \"모두의연구소\", \"url\": \"https://www.youtube.com/c/%EB%AA%A8%EB%91%90%EC%9D%98%EC%97%B0%EA%B5%AC%EC%86%8C/videos\", \"content\": \"모두의연구소 · [모두팝] R1 파헤치기, Ko-R1 개발기 · 약물의 ADMET 특성 예측 모델 개발 | 아이펠톤 · Autonomous Construction of Lithium-ion battery Database Using\", \"score\": 0.56661874}, {\"title\": \"모두의연구소\", \"url\": \"https://www.youtube.com/c/%EB%AA%A8%EB%91%90%EC%9D%98%EC%97%B0%EA%B5%AC%EC%86%8C/community\", \"content\": \"ly/4coUMqL ㅤ 안녕하세요, 현재 모두의연구소에서 사수 없이 어려움을 ... 활동 연구원 2만 명⁺ SW/AI 커뮤니티 #모두의연구소 7만 명⁺ SW 개발자를 양성\", \"score\": 0.531672}, {\"title\": \"[모두의연구소] 테크연구 공유회 - 반려로봇 LAB\", \"url\": \"https://www.youtube.com/watch?v=8O0TCk-DT4M\", \"content\": \"[모두의연구소] 테크연구 공유회 - 반려로봇 LAB \\\\n 모두의연구소 \\\\n 3 likes \\\\n 89 views \\\\n 17 Jan 2025 \\\\n 모두의연구소에서 진행된 테크 연구 활동에 대해 공유합니다. \\\\n반려로봇부터 오픈소스, LLM, Computer Vision까지!\\\\n최신 기술에 대해 다양한 실험을 진행하신 연구원님들을 만나보세요. \\\\n\\\\n반려로봇LAB의 가사도우미 로봇 연구 활동 내용입니다. \\\\n\\\\n본 영상은 2024년 6월 28일에 진행된 \\\\nOPEN MODULABS WEEK (모두연 랩 활동 공유회) - 테크연구 공유회에서 소개 된 내용입니다. \\\\n\\\\n반려로봇 LAB 소개 링크 \\\\nhttps://modulabs.co.kr/labs/209\\\\n\\\\n발표자 : 반려로봇 LAB 랩장 현청천님 \\\\n\\\\n\\\\n#모두의연구소 #테크연구 #반려로봇 #로봇연구 #로봇 [...] 🔹 데이터 사이언티스트 전문 과정 4기 | 통계부터 머신러닝까지 : https://bit.ly/4hRl5I9\\\\n🔹 프론트엔드 개발 | 백엔드 협업 프로젝트까지| 초급 개발과정 https://bit.ly/3R7j9zW \\\\n 0 comments\", \"score\": 0.5199851}, {\"title\": \"모두의연구소\", \"url\": \"https://www.youtube.com/channel/UCv4U1uZvuxopMj8xiPXIBMQ/addons\", \"content\": \"모두의연구소만의 지식 공유 세미나 모두팝! · [모두팝] AI+SLAM · [모두팝] 데이터 분석가 선배 X 커리어코치가 들려주는 AI·데이터 취업이야기 · [모두팝] Art×Tech LAB\", \"score\": 0.5126688}]', name='tavily_search_results_json', id='38d69556-8efc-476e-9a11-837f3b05a97e', tool_call_id='call_bwZ2r5fgXMffJSOS0fhaWe2i', artifact={'query': '모두의연구소', 'follow_up_questions': None, 'answer': None, 'images': [], 'results': [{'url': 'https://www.youtube.com/playlist?list=PLv6H9ngYdJbLW9B670ESKcq4HKjX4DaSw', 'title': '모두의연구소 LAB | 자유로운 연구를 위한 안전한 실험실', 'content': '모두의연구소 “Share Value, Grow Together” 가치에 공감하는 분들이 모여 논문 / 오픈소스 / 콘텐츠 등을 목표로 연구하고, 그 과정과 결과를 공유하는 연구 모임', 'score': 0.725824, 'raw_content': None}, {'url': 'https://www.youtube.com/c/%EB%AA%A8%EB%91%90%EC%9D%98%EC%97%B0%EA%B5%AC%EC%86%8C/videos', 'title': '모두의연구소', 'content': '모두의연구소 · [모두팝] R1 파헤치기, Ko-R1 개발기 · 약물의 ADMET 특성 예측 모델 개발 | 아이펠톤 · Autonomous Construction of Lithium-ion battery Database Using', 'score': 0.56661874, 'raw_content': None}, {'url': 'https://www.youtube.com/c/%EB%AA%A8%EB%91%90%EC%9D%98%EC%97%B0%EA%B5%AC%EC%86%8C/community', 'title': '모두의연구소', 'content': 'ly/4coUMqL ㅤ 안녕하세요, 현재 모두의연구소에서 사수 없이 어려움을 ... 활동 연구원 2만 명⁺ SW/AI 커뮤니티 #모두의연구소 7만 명⁺ SW 개발자를 양성', 'score': 0.531672, 'raw_content': None}, {'url': 'https://www.youtube.com/watch?v=8O0TCk-DT4M', 'title': '[모두의연구소] 테크연구 공유회 - 반려로봇 LAB', 'content': '[모두의연구소] 테크연구 공유회 - 반려로봇 LAB \\n 모두의연구소 \\n 3 likes \\n 89 views \\n 17 Jan 2025 \\n 모두의연구소에서 진행된 테크 연구 활동에 대해 공유합니다. \\n반려로봇부터 오픈소스, LLM, Computer Vision까지!\\n최신 기술에 대해 다양한 실험을 진행하신 연구원님들을 만나보세요. \\n\\n반려로봇LAB의 가사도우미 로봇 연구 활동 내용입니다. \\n\\n본 영상은 2024년 6월 28일에 진행된 \\nOPEN MODULABS WEEK (모두연 랩 활동 공유회) - 테크연구 공유회에서 소개 된 내용입니다. \\n\\n반려로봇 LAB 소개 링크 \\nhttps://modulabs.co.kr/labs/209\\n\\n발표자 : 반려로봇 LAB 랩장 현청천님 \\n\\n\\n#모두의연구소 #테크연구 #반려로봇 #로봇연구 #로봇 [...] 🔹 데이터 사이언티스트 전문 과정 4기 | 통계부터 머신러닝까지 : https://bit.ly/4hRl5I9\\n🔹 프론트엔드 개발 | 백엔드 협업 프로젝트까지| 초급 개발과정 https://bit.ly/3R7j9zW \\n 0 comments', 'score': 0.5199851, 'raw_content': None}, {'url': 'https://www.youtube.com/channel/UCv4U1uZvuxopMj8xiPXIBMQ/addons', 'title': '모두의연구소', 'content': '모두의연구소만의 지식 공유 세미나 모두팝! · [모두팝] AI+SLAM · [모두팝] 데이터 분석가 선배 X 커리어코치가 들려주는 AI·데이터 취업이야기 · [모두팝] Art×Tech LAB', 'score': 0.5126688, 'raw_content': None}], 'response_time': 4.58})}\n",
      "\n",
      "\n",
      "=== select ===\n",
      "\n",
      "\n",
      "{'messages': AIMessage(content='', additional_kwargs={'tool_calls': [{'id': 'call_0tukkHhBGmVInM9XNxrINLE2', 'function': {'arguments': '{\"content\":\"# 모두의 연구소 레포트\\\\n\\\\n## 개요\\\\n모두의 연구소는 \\\\\"Share Value, Grow Together\\\\\"라는 가치를 바탕으로, 다양한 연구자들이 모여 논문, 오픈소스, 콘텐츠 등을 목표로 연구하고 그 과정과 결과를 공유하는 연구 모임입니다.\\\\n\\\\n## 주요 활동\\\\n1. **자유로운 연구 환경**: 모두의 연구소는 안전한 실험실을 제공하여 연구자들이 자유롭게 연구할 수 있도록 지원합니다.\\\\n   - [모두의연구소 LAB | 자유로운 연구를 위한 안전한 실험실](https://www.youtube.com/playlist?list=PLv6H9ngYdJbLW9B670ESKcq4HKjX4DaSw)\\\\n\\\\n2. **커뮤니티**: 2만 명 이상의 활동 연구원과 7만 명 이상의 SW 개발자가 참여하는 커뮤니티를 운영하고 있습니다.\\\\n   - [모두의연구소 커뮤니티](https://www.youtube.com/c/%EB%AA%A8%EB%91%90%EC%9D%98%EC%97%B0%EA%B5%AC%EC%86%8C/community)\\\\n\\\\n3. **기술 연구 공유회**: 다양한 기술에 대한 연구 결과를 공유하는 세미나를 개최합니다.\\\\n   - [테크연구 공유회 - 반려로봇 LAB](https://www.youtube.com/watch?v=8O0TCk-DT4M)\\\\n\\\\n## 결론\\\\n모두의 연구소는 연구자들이 협력하고 지식을 공유할 수 있는 플랫폼을 제공하여, 혁신적인 연구와 개발을 촉진하는 중요한 역할을 하고 있습니다.\",\"filename\":\"모두의연구소_레포트.pdf\"}', 'name': 'write_pdf'}, 'type': 'function'}], 'refusal': None}, response_metadata={'token_usage': {'completion_tokens': 399, 'prompt_tokens': 3234, 'total_tokens': 3633, 'completion_tokens_details': {'accepted_prediction_tokens': 0, 'audio_tokens': 0, 'reasoning_tokens': 0, 'rejected_prediction_tokens': 0}, 'prompt_tokens_details': {'audio_tokens': 0, 'cached_tokens': 0}}, 'model_name': 'gpt-4o-mini-2024-07-18', 'system_fingerprint': 'fp_bbfba58e46', 'finish_reason': 'tool_calls', 'logprobs': None}, id='run-83e47f0e-5c5e-48d2-b58e-0fffa2ec785f-0', tool_calls=[{'name': 'write_pdf', 'args': {'content': '# 모두의 연구소 레포트\\n\\n## 개요\\n모두의 연구소는 \"Share Value, Grow Together\"라는 가치를 바탕으로, 다양한 연구자들이 모여 논문, 오픈소스, 콘텐츠 등을 목표로 연구하고 그 과정과 결과를 공유하는 연구 모임입니다.\\n\\n## 주요 활동\\n1. **자유로운 연구 환경**: 모두의 연구소는 안전한 실험실을 제공하여 연구자들이 자유롭게 연구할 수 있도록 지원합니다.\\n   - [모두의연구소 LAB | 자유로운 연구를 위한 안전한 실험실](https://www.youtube.com/playlist?list=PLv6H9ngYdJbLW9B670ESKcq4HKjX4DaSw)\\n\\n2. **커뮤니티**: 2만 명 이상의 활동 연구원과 7만 명 이상의 SW 개발자가 참여하는 커뮤니티를 운영하고 있습니다.\\n   - [모두의연구소 커뮤니티](https://www.youtube.com/c/%EB%AA%A8%EB%91%90%EC%9D%98%EC%97%B0%EA%B5%AC%EC%86%8C/community)\\n\\n3. **기술 연구 공유회**: 다양한 기술에 대한 연구 결과를 공유하는 세미나를 개최합니다.\\n   - [테크연구 공유회 - 반려로봇 LAB](https://www.youtube.com/watch?v=8O0TCk-DT4M)\\n\\n## 결론\\n모두의 연구소는 연구자들이 협력하고 지식을 공유할 수 있는 플랫폼을 제공하여, 혁신적인 연구와 개발을 촉진하는 중요한 역할을 하고 있습니다.', 'filename': '모두의연구소_레포트.pdf'}, 'id': 'call_0tukkHhBGmVInM9XNxrINLE2', 'type': 'tool_call'}], usage_metadata={'input_tokens': 3234, 'output_tokens': 399, 'total_tokens': 3633, 'input_token_details': {'audio': 0, 'cache_read': 0}, 'output_token_details': {'audio': 0, 'reasoning': 0}}), 'tool_call': [AIMessage(content='', additional_kwargs={'tool_calls': [{'id': 'call_0tukkHhBGmVInM9XNxrINLE2', 'function': {'arguments': '{\"content\":\"# 모두의 연구소 레포트\\\\n\\\\n## 개요\\\\n모두의 연구소는 \\\\\"Share Value, Grow Together\\\\\"라는 가치를 바탕으로, 다양한 연구자들이 모여 논문, 오픈소스, 콘텐츠 등을 목표로 연구하고 그 과정과 결과를 공유하는 연구 모임입니다.\\\\n\\\\n## 주요 활동\\\\n1. **자유로운 연구 환경**: 모두의 연구소는 안전한 실험실을 제공하여 연구자들이 자유롭게 연구할 수 있도록 지원합니다.\\\\n   - [모두의연구소 LAB | 자유로운 연구를 위한 안전한 실험실](https://www.youtube.com/playlist?list=PLv6H9ngYdJbLW9B670ESKcq4HKjX4DaSw)\\\\n\\\\n2. **커뮤니티**: 2만 명 이상의 활동 연구원과 7만 명 이상의 SW 개발자가 참여하는 커뮤니티를 운영하고 있습니다.\\\\n   - [모두의연구소 커뮤니티](https://www.youtube.com/c/%EB%AA%A8%EB%91%90%EC%9D%98%EC%97%B0%EA%B5%AC%EC%86%8C/community)\\\\n\\\\n3. **기술 연구 공유회**: 다양한 기술에 대한 연구 결과를 공유하는 세미나를 개최합니다.\\\\n   - [테크연구 공유회 - 반려로봇 LAB](https://www.youtube.com/watch?v=8O0TCk-DT4M)\\\\n\\\\n## 결론\\\\n모두의 연구소는 연구자들이 협력하고 지식을 공유할 수 있는 플랫폼을 제공하여, 혁신적인 연구와 개발을 촉진하는 중요한 역할을 하고 있습니다.\",\"filename\":\"모두의연구소_레포트.pdf\"}', 'name': 'write_pdf'}, 'type': 'function'}], 'refusal': None}, response_metadata={'token_usage': {'completion_tokens': 399, 'prompt_tokens': 3234, 'total_tokens': 3633, 'completion_tokens_details': {'accepted_prediction_tokens': 0, 'audio_tokens': 0, 'reasoning_tokens': 0, 'rejected_prediction_tokens': 0}, 'prompt_tokens_details': {'audio_tokens': 0, 'cached_tokens': 0}}, 'model_name': 'gpt-4o-mini-2024-07-18', 'system_fingerprint': 'fp_bbfba58e46', 'finish_reason': 'tool_calls', 'logprobs': None}, id='run-83e47f0e-5c5e-48d2-b58e-0fffa2ec785f-0', tool_calls=[{'name': 'write_pdf', 'args': {'content': '# 모두의 연구소 레포트\\n\\n## 개요\\n모두의 연구소는 \"Share Value, Grow Together\"라는 가치를 바탕으로, 다양한 연구자들이 모여 논문, 오픈소스, 콘텐츠 등을 목표로 연구하고 그 과정과 결과를 공유하는 연구 모임입니다.\\n\\n## 주요 활동\\n1. **자유로운 연구 환경**: 모두의 연구소는 안전한 실험실을 제공하여 연구자들이 자유롭게 연구할 수 있도록 지원합니다.\\n   - [모두의연구소 LAB | 자유로운 연구를 위한 안전한 실험실](https://www.youtube.com/playlist?list=PLv6H9ngYdJbLW9B670ESKcq4HKjX4DaSw)\\n\\n2. **커뮤니티**: 2만 명 이상의 활동 연구원과 7만 명 이상의 SW 개발자가 참여하는 커뮤니티를 운영하고 있습니다.\\n   - [모두의연구소 커뮤니티](https://www.youtube.com/c/%EB%AA%A8%EB%91%90%EC%9D%98%EC%97%B0%EA%B5%AC%EC%86%8C/community)\\n\\n3. **기술 연구 공유회**: 다양한 기술에 대한 연구 결과를 공유하는 세미나를 개최합니다.\\n   - [테크연구 공유회 - 반려로봇 LAB](https://www.youtube.com/watch?v=8O0TCk-DT4M)\\n\\n## 결론\\n모두의 연구소는 연구자들이 협력하고 지식을 공유할 수 있는 플랫폼을 제공하여, 혁신적인 연구와 개발을 촉진하는 중요한 역할을 하고 있습니다.', 'filename': '모두의연구소_레포트.pdf'}, 'id': 'call_0tukkHhBGmVInM9XNxrINLE2', 'type': 'tool_call'}], usage_metadata={'input_tokens': 3234, 'output_tokens': 399, 'total_tokens': 3633, 'input_token_details': {'audio': 0, 'cache_read': 0}, 'output_token_details': {'audio': 0, 'reasoning': 0}})]}\n",
      "PDF saved as ./files/모두의연구소_레포트.pdf\n",
      "\n",
      "\n",
      "=== tools ===\n",
      "\n",
      "\n",
      "{'messages': [ToolMessage(content='{\"content\": \"# 모두의 연구소 레포트\\\\n\\\\n## 개요\\\\n모두의 연구소는 \\\\\"Share Value, Grow Together\\\\\"라는 가치를 바탕으로, 다양한 연구자들이 모여 논문, 오픈소스, 콘텐츠 등을 목표로 연구하고 그 과정과 결과를 공유하는 연구 모임입니다.\\\\n\\\\n## 주요 활동\\\\n1. **자유로운 연구 환경**: 모두의 연구소는 안전한 실험실을 제공하여 연구자들이 자유롭게 연구할 수 있도록 지원합니다.\\\\n   - [모두의연구소 LAB | 자유로운 연구를 위한 안전한 실험실](https://www.youtube.com/playlist?list=PLv6H9ngYdJbLW9B670ESKcq4HKjX4DaSw)\\\\n\\\\n2. **커뮤니티**: 2만 명 이상의 활동 연구원과 7만 명 이상의 SW 개발자가 참여하는 커뮤니티를 운영하고 있습니다.\\\\n   - [모두의연구소 커뮤니티](https://www.youtube.com/c/%EB%AA%A8%EB%91%90%EC%9D%98%EC%97%B0%EA%B5%AC%EC%86%8C/community)\\\\n\\\\n3. **기술 연구 공유회**: 다양한 기술에 대한 연구 결과를 공유하는 세미나를 개최합니다.\\\\n   - [테크연구 공유회 - 반려로봇 LAB](https://www.youtube.com/watch?v=8O0TCk-DT4M)\\\\n\\\\n## 결론\\\\n모두의 연구소는 연구자들이 협력하고 지식을 공유할 수 있는 플랫폼을 제공하여, 혁신적인 연구와 개발을 촉진하는 중요한 역할을 하고 있습니다.\", \"filename\": \"모두의연구소_레포트.pdf\"}', name='write_pdf', id='88fff96b-19df-457b-81d7-956a69e32979', tool_call_id='call_0tukkHhBGmVInM9XNxrINLE2')]}\n",
      "\n",
      "\n",
      "=== response ===\n",
      "\n",
      "\n",
      "{'answer': ToolMessage(content='{\"content\": \"# 모두의 연구소 레포트\\\\n\\\\n## 개요\\\\n모두의 연구소는 \\\\\"Share Value, Grow Together\\\\\"라는 가치를 바탕으로, 다양한 연구자들이 모여 논문, 오픈소스, 콘텐츠 등을 목표로 연구하고 그 과정과 결과를 공유하는 연구 모임입니다.\\\\n\\\\n## 주요 활동\\\\n1. **자유로운 연구 환경**: 모두의 연구소는 안전한 실험실을 제공하여 연구자들이 자유롭게 연구할 수 있도록 지원합니다.\\\\n   - [모두의연구소 LAB | 자유로운 연구를 위한 안전한 실험실](https://www.youtube.com/playlist?list=PLv6H9ngYdJbLW9B670ESKcq4HKjX4DaSw)\\\\n\\\\n2. **커뮤니티**: 2만 명 이상의 활동 연구원과 7만 명 이상의 SW 개발자가 참여하는 커뮤니티를 운영하고 있습니다.\\\\n   - [모두의연구소 커뮤니티](https://www.youtube.com/c/%EB%AA%A8%EB%91%90%EC%9D%98%EC%97%B0%EA%B5%AC%EC%86%8C/community)\\\\n\\\\n3. **기술 연구 공유회**: 다양한 기술에 대한 연구 결과를 공유하는 세미나를 개최합니다.\\\\n   - [테크연구 공유회 - 반려로봇 LAB](https://www.youtube.com/watch?v=8O0TCk-DT4M)\\\\n\\\\n## 결론\\\\n모두의 연구소는 연구자들이 협력하고 지식을 공유할 수 있는 플랫폼을 제공하여, 혁신적인 연구와 개발을 촉진하는 중요한 역할을 하고 있습니다.\", \"filename\": \"모두의연구소_레포트.pdf\"}', name='write_pdf', id='88fff96b-19df-457b-81d7-956a69e32979', tool_call_id='call_0tukkHhBGmVInM9XNxrINLE2')}\n"
     ]
    }
   ],
   "source": [
    "config = reset_config()\n",
    "\n",
    "streaming(\"\"\"모두의연구소는 어떤 곳이야?\n",
    "          깔끔하게 정리해서 레포트로 만들어줘.\n",
    "          레포트의 형식은 pdf로 저장해주면 돼.\n",
    "          이름은 \"모두의연구소_레포트.pdf\"로 해줘.\"\"\", config)"
   ]
  }
 ],
 "metadata": {
  "kernelspec": {
   "display_name": "Modulabs",
   "language": "python",
   "name": "python3"
  },
  "language_info": {
   "codemirror_mode": {
    "name": "ipython",
    "version": 3
   },
   "file_extension": ".py",
   "mimetype": "text/x-python",
   "name": "python",
   "nbconvert_exporter": "python",
   "pygments_lexer": "ipython3",
   "version": "3.10.12"
  }
 },
 "nbformat": 4,
 "nbformat_minor": 2
}
